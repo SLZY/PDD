{
 "cells": [
  {
   "cell_type": "markdown",
   "id": "wrapped-cancellation",
   "metadata": {},
   "source": [
    "# 项目背景\n",
    "拼多多是国内主流的手机购物APP，成立于2015年9月，用户通过发起和朋友、家人、邻居等的拼团，以更低的价格，拼团购买商品。拼多多作为新电商开创者,致力于将娱乐社交的元素融入电商运营中,通过“社交+电商”的模式,让更多的用户带着乐趣分享实惠,享受全新的共享式购物体验。对于各大电商平台，在“双十一”这种大促时间段，优惠券会起到非常大的促销作用。那么，如何找到更容易使用优惠券的用户，对他们精准地推送与营销，从而在双十一期间使销售额大大提升呢？这就是我们需要支持拼多多共同分析与解决的一个问题。"
   ]
  },
  {
   "cell_type": "markdown",
   "id": "horizontal-contact",
   "metadata": {},
   "source": [
    "# 项目目标\n",
    "根据用户的基本信息以及过去的消费行为数据，完成以下事项：\n",
    "1.使用Python建立逻辑回归模型\n",
    "2.预测用户是否会在活动中使用优惠券\n",
    "3.找到对用户使用优惠券影响较大的因素"
   ]
  },
  {
   "cell_type": "markdown",
   "id": "advisory-challenge",
   "metadata": {},
   "source": [
    "# 项目要求\n",
    "1.完整的数据分析流程（50%）\n",
    "  数据概况分析\n",
    "  单变量分析\n",
    "  相关与可视化分析\n",
    "  逻辑回归模型建立、评估与优化\n",
    "2.准确的数据维度识别与python代码操作（30%）\n",
    "3.提供对于模型结果的业务结论解读（20%）"
   ]
  },
  {
   "cell_type": "markdown",
   "id": "small-sunset",
   "metadata": {},
   "source": [
    "# 数据认识\n",
    "数据来源于小灶商业数据分析课程，该数据集一共有25317条数据，将原数据字典按照用户信息、消费行为和预测结果进行不同维度的分类\n",
    "1.用户信息包括：记录编码、年龄、职业、婚姻状态\n",
    "2.消费行为包括：信用卡是否违约、是否有过退货、是否使用信用卡付款、过去6个月使用的优惠券数量、获取1个月使用的优惠券数量\n",
    "3.预测结果：也就是本次项目的任务，预测在本次活动中是否有使用优惠券\n"
   ]
  },
  {
   "cell_type": "code",
   "execution_count": 2,
   "id": "accessible-template",
   "metadata": {},
   "outputs": [],
   "source": [
    "# 调包\n",
    "import pandas as pd\n",
    "import numpy as np\n",
    "import seaborn as sns\n",
    "#可视化\n",
    "import matplotlib.pyplot as plt\n",
    "%matplotlib inline"
   ]
  },
  {
   "cell_type": "code",
   "execution_count": 13,
   "id": "changed-tender",
   "metadata": {},
   "outputs": [
    {
     "data": {
      "text/html": [
       "<div>\n",
       "<style scoped>\n",
       "    .dataframe tbody tr th:only-of-type {\n",
       "        vertical-align: middle;\n",
       "    }\n",
       "\n",
       "    .dataframe tbody tr th {\n",
       "        vertical-align: top;\n",
       "    }\n",
       "\n",
       "    .dataframe thead th {\n",
       "        text-align: right;\n",
       "    }\n",
       "</style>\n",
       "<table border=\"1\" class=\"dataframe\">\n",
       "  <thead>\n",
       "    <tr style=\"text-align: right;\">\n",
       "      <th></th>\n",
       "      <th>ID</th>\n",
       "      <th>age</th>\n",
       "      <th>job</th>\n",
       "      <th>marital</th>\n",
       "      <th>default</th>\n",
       "      <th>returned</th>\n",
       "      <th>loan</th>\n",
       "      <th>coupon_used_in_last6_month</th>\n",
       "      <th>coupon_used_in_last_month</th>\n",
       "      <th>coupon_ind</th>\n",
       "    </tr>\n",
       "  </thead>\n",
       "  <tbody>\n",
       "    <tr>\n",
       "      <th>0</th>\n",
       "      <td>1</td>\n",
       "      <td>43</td>\n",
       "      <td>management</td>\n",
       "      <td>married</td>\n",
       "      <td>no</td>\n",
       "      <td>yes</td>\n",
       "      <td>no</td>\n",
       "      <td>2</td>\n",
       "      <td>0</td>\n",
       "      <td>0</td>\n",
       "    </tr>\n",
       "    <tr>\n",
       "      <th>1</th>\n",
       "      <td>2</td>\n",
       "      <td>42</td>\n",
       "      <td>technician</td>\n",
       "      <td>divorced</td>\n",
       "      <td>no</td>\n",
       "      <td>yes</td>\n",
       "      <td>no</td>\n",
       "      <td>1</td>\n",
       "      <td>1</td>\n",
       "      <td>0</td>\n",
       "    </tr>\n",
       "    <tr>\n",
       "      <th>2</th>\n",
       "      <td>3</td>\n",
       "      <td>47</td>\n",
       "      <td>admin.</td>\n",
       "      <td>married</td>\n",
       "      <td>no</td>\n",
       "      <td>yes</td>\n",
       "      <td>yes</td>\n",
       "      <td>2</td>\n",
       "      <td>0</td>\n",
       "      <td>0</td>\n",
       "    </tr>\n",
       "    <tr>\n",
       "      <th>3</th>\n",
       "      <td>4</td>\n",
       "      <td>28</td>\n",
       "      <td>management</td>\n",
       "      <td>single</td>\n",
       "      <td>no</td>\n",
       "      <td>yes</td>\n",
       "      <td>yes</td>\n",
       "      <td>2</td>\n",
       "      <td>0</td>\n",
       "      <td>0</td>\n",
       "    </tr>\n",
       "    <tr>\n",
       "      <th>4</th>\n",
       "      <td>5</td>\n",
       "      <td>42</td>\n",
       "      <td>technician</td>\n",
       "      <td>divorced</td>\n",
       "      <td>no</td>\n",
       "      <td>yes</td>\n",
       "      <td>no</td>\n",
       "      <td>5</td>\n",
       "      <td>0</td>\n",
       "      <td>0</td>\n",
       "    </tr>\n",
       "    <tr>\n",
       "      <th>...</th>\n",
       "      <td>...</td>\n",
       "      <td>...</td>\n",
       "      <td>...</td>\n",
       "      <td>...</td>\n",
       "      <td>...</td>\n",
       "      <td>...</td>\n",
       "      <td>...</td>\n",
       "      <td>...</td>\n",
       "      <td>...</td>\n",
       "      <td>...</td>\n",
       "    </tr>\n",
       "    <tr>\n",
       "      <th>25312</th>\n",
       "      <td>25313</td>\n",
       "      <td>55</td>\n",
       "      <td>blue-collar</td>\n",
       "      <td>divorced</td>\n",
       "      <td>no</td>\n",
       "      <td>no</td>\n",
       "      <td>no</td>\n",
       "      <td>2</td>\n",
       "      <td>1</td>\n",
       "      <td>1</td>\n",
       "    </tr>\n",
       "    <tr>\n",
       "      <th>25313</th>\n",
       "      <td>25314</td>\n",
       "      <td>52</td>\n",
       "      <td>services</td>\n",
       "      <td>married</td>\n",
       "      <td>no</td>\n",
       "      <td>no</td>\n",
       "      <td>yes</td>\n",
       "      <td>1</td>\n",
       "      <td>1</td>\n",
       "      <td>1</td>\n",
       "    </tr>\n",
       "    <tr>\n",
       "      <th>25314</th>\n",
       "      <td>25315</td>\n",
       "      <td>35</td>\n",
       "      <td>blue-collar</td>\n",
       "      <td>divorced</td>\n",
       "      <td>no</td>\n",
       "      <td>yes</td>\n",
       "      <td>no</td>\n",
       "      <td>2</td>\n",
       "      <td>0</td>\n",
       "      <td>1</td>\n",
       "    </tr>\n",
       "    <tr>\n",
       "      <th>25315</th>\n",
       "      <td>25316</td>\n",
       "      <td>37</td>\n",
       "      <td>entrepreneur</td>\n",
       "      <td>divorced</td>\n",
       "      <td>no</td>\n",
       "      <td>no</td>\n",
       "      <td>no</td>\n",
       "      <td>2</td>\n",
       "      <td>0</td>\n",
       "      <td>1</td>\n",
       "    </tr>\n",
       "    <tr>\n",
       "      <th>25316</th>\n",
       "      <td>25317</td>\n",
       "      <td>52</td>\n",
       "      <td>management</td>\n",
       "      <td>married</td>\n",
       "      <td>no</td>\n",
       "      <td>no</td>\n",
       "      <td>no</td>\n",
       "      <td>3</td>\n",
       "      <td>0</td>\n",
       "      <td>1</td>\n",
       "    </tr>\n",
       "  </tbody>\n",
       "</table>\n",
       "<p>25317 rows × 10 columns</p>\n",
       "</div>"
      ],
      "text/plain": [
       "          ID  age           job   marital default returned loan  \\\n",
       "0          1   43    management   married      no      yes   no   \n",
       "1          2   42    technician  divorced      no      yes   no   \n",
       "2          3   47        admin.   married      no      yes  yes   \n",
       "3          4   28    management    single      no      yes  yes   \n",
       "4          5   42    technician  divorced      no      yes   no   \n",
       "...      ...  ...           ...       ...     ...      ...  ...   \n",
       "25312  25313   55   blue-collar  divorced      no       no   no   \n",
       "25313  25314   52      services   married      no       no  yes   \n",
       "25314  25315   35   blue-collar  divorced      no      yes   no   \n",
       "25315  25316   37  entrepreneur  divorced      no       no   no   \n",
       "25316  25317   52    management   married      no       no   no   \n",
       "\n",
       "       coupon_used_in_last6_month  coupon_used_in_last_month  coupon_ind  \n",
       "0                               2                          0           0  \n",
       "1                               1                          1           0  \n",
       "2                               2                          0           0  \n",
       "3                               2                          0           0  \n",
       "4                               5                          0           0  \n",
       "...                           ...                        ...         ...  \n",
       "25312                           2                          1           1  \n",
       "25313                           1                          1           1  \n",
       "25314                           2                          0           1  \n",
       "25315                           2                          0           1  \n",
       "25316                           3                          0           1  \n",
       "\n",
       "[25317 rows x 10 columns]"
      ]
     },
     "execution_count": 13,
     "metadata": {},
     "output_type": "execute_result"
    }
   ],
   "source": [
    "# 导入数据和数据的整体概况\n",
    "pdd=pd.read_csv('C:/Users/GaoYi/jupyter-notebook/拼多多优惠券数据.csv')\n",
    "pdd   "
   ]
  },
  {
   "cell_type": "code",
   "execution_count": 14,
   "id": "forbidden-gentleman",
   "metadata": {},
   "outputs": [
    {
     "name": "stdout",
     "output_type": "stream",
     "text": [
      "<class 'pandas.core.frame.DataFrame'>\n",
      "RangeIndex: 25317 entries, 0 to 25316\n",
      "Data columns (total 10 columns):\n",
      " #   Column                      Non-Null Count  Dtype \n",
      "---  ------                      --------------  ----- \n",
      " 0   ID                          25317 non-null  int64 \n",
      " 1   age                         25317 non-null  int64 \n",
      " 2   job                         25317 non-null  object\n",
      " 3   marital                     25317 non-null  object\n",
      " 4   default                     25317 non-null  object\n",
      " 5   returned                    25317 non-null  object\n",
      " 6   loan                        25317 non-null  object\n",
      " 7   coupon_used_in_last6_month  25317 non-null  int64 \n",
      " 8   coupon_used_in_last_month   25317 non-null  int64 \n",
      " 9   coupon_ind                  25317 non-null  int64 \n",
      "dtypes: int64(5), object(5)\n",
      "memory usage: 1.9+ MB\n"
     ]
    }
   ],
   "source": [
    "pdd.info()"
   ]
  },
  {
   "cell_type": "code",
   "execution_count": 15,
   "id": "descending-renewal",
   "metadata": {},
   "outputs": [
    {
     "data": {
      "text/html": [
       "<div>\n",
       "<style scoped>\n",
       "    .dataframe tbody tr th:only-of-type {\n",
       "        vertical-align: middle;\n",
       "    }\n",
       "\n",
       "    .dataframe tbody tr th {\n",
       "        vertical-align: top;\n",
       "    }\n",
       "\n",
       "    .dataframe thead th {\n",
       "        text-align: right;\n",
       "    }\n",
       "</style>\n",
       "<table border=\"1\" class=\"dataframe\">\n",
       "  <thead>\n",
       "    <tr style=\"text-align: right;\">\n",
       "      <th></th>\n",
       "      <th>ID</th>\n",
       "      <th>age</th>\n",
       "      <th>job</th>\n",
       "      <th>marital</th>\n",
       "      <th>default</th>\n",
       "      <th>returned</th>\n",
       "      <th>loan</th>\n",
       "      <th>coupon_used_in_last6_month</th>\n",
       "      <th>coupon_used_in_last_month</th>\n",
       "      <th>coupon_ind</th>\n",
       "    </tr>\n",
       "  </thead>\n",
       "  <tbody>\n",
       "    <tr>\n",
       "      <th>0</th>\n",
       "      <td>1</td>\n",
       "      <td>43</td>\n",
       "      <td>management</td>\n",
       "      <td>married</td>\n",
       "      <td>no</td>\n",
       "      <td>yes</td>\n",
       "      <td>no</td>\n",
       "      <td>2</td>\n",
       "      <td>0</td>\n",
       "      <td>0</td>\n",
       "    </tr>\n",
       "    <tr>\n",
       "      <th>1</th>\n",
       "      <td>2</td>\n",
       "      <td>42</td>\n",
       "      <td>technician</td>\n",
       "      <td>divorced</td>\n",
       "      <td>no</td>\n",
       "      <td>yes</td>\n",
       "      <td>no</td>\n",
       "      <td>1</td>\n",
       "      <td>1</td>\n",
       "      <td>0</td>\n",
       "    </tr>\n",
       "    <tr>\n",
       "      <th>2</th>\n",
       "      <td>3</td>\n",
       "      <td>47</td>\n",
       "      <td>admin.</td>\n",
       "      <td>married</td>\n",
       "      <td>no</td>\n",
       "      <td>yes</td>\n",
       "      <td>yes</td>\n",
       "      <td>2</td>\n",
       "      <td>0</td>\n",
       "      <td>0</td>\n",
       "    </tr>\n",
       "    <tr>\n",
       "      <th>3</th>\n",
       "      <td>4</td>\n",
       "      <td>28</td>\n",
       "      <td>management</td>\n",
       "      <td>single</td>\n",
       "      <td>no</td>\n",
       "      <td>yes</td>\n",
       "      <td>yes</td>\n",
       "      <td>2</td>\n",
       "      <td>0</td>\n",
       "      <td>0</td>\n",
       "    </tr>\n",
       "    <tr>\n",
       "      <th>4</th>\n",
       "      <td>5</td>\n",
       "      <td>42</td>\n",
       "      <td>technician</td>\n",
       "      <td>divorced</td>\n",
       "      <td>no</td>\n",
       "      <td>yes</td>\n",
       "      <td>no</td>\n",
       "      <td>5</td>\n",
       "      <td>0</td>\n",
       "      <td>0</td>\n",
       "    </tr>\n",
       "  </tbody>\n",
       "</table>\n",
       "</div>"
      ],
      "text/plain": [
       "   ID  age         job   marital default returned loan  \\\n",
       "0   1   43  management   married      no      yes   no   \n",
       "1   2   42  technician  divorced      no      yes   no   \n",
       "2   3   47      admin.   married      no      yes  yes   \n",
       "3   4   28  management    single      no      yes  yes   \n",
       "4   5   42  technician  divorced      no      yes   no   \n",
       "\n",
       "   coupon_used_in_last6_month  coupon_used_in_last_month  coupon_ind  \n",
       "0                           2                          0           0  \n",
       "1                           1                          1           0  \n",
       "2                           2                          0           0  \n",
       "3                           2                          0           0  \n",
       "4                           5                          0           0  "
      ]
     },
     "execution_count": 15,
     "metadata": {},
     "output_type": "execute_result"
    }
   ],
   "source": [
    "pdd.head()"
   ]
  },
  {
   "cell_type": "code",
   "execution_count": 16,
   "id": "distinguished-contributor",
   "metadata": {
    "scrolled": true
   },
   "outputs": [
    {
     "data": {
      "text/plain": [
       "ID                            0\n",
       "age                           0\n",
       "job                           0\n",
       "marital                       0\n",
       "default                       0\n",
       "returned                      0\n",
       "loan                          0\n",
       "coupon_used_in_last6_month    0\n",
       "coupon_used_in_last_month     0\n",
       "coupon_ind                    0\n",
       "dtype: int64"
      ]
     },
     "execution_count": 16,
     "metadata": {},
     "output_type": "execute_result"
    }
   ],
   "source": [
    "#统计数据表格缺失值的个数\n",
    "pdd.isnull().sum()\n",
    "#没有缺失值"
   ]
  },
  {
   "cell_type": "markdown",
   "id": "anticipated-bathroom",
   "metadata": {},
   "source": [
    "job,martal,default,returned,loan为类别变量，之后要做get_dummies操作\n",
    "ID这一列是没用的，之后要删去\n",
    "没有数据缺失"
   ]
  },
  {
   "cell_type": "code",
   "execution_count": 17,
   "id": "identical-aviation",
   "metadata": {
    "scrolled": false
   },
   "outputs": [
    {
     "data": {
      "text/html": [
       "<div>\n",
       "<style scoped>\n",
       "    .dataframe tbody tr th:only-of-type {\n",
       "        vertical-align: middle;\n",
       "    }\n",
       "\n",
       "    .dataframe tbody tr th {\n",
       "        vertical-align: top;\n",
       "    }\n",
       "\n",
       "    .dataframe thead th {\n",
       "        text-align: right;\n",
       "    }\n",
       "</style>\n",
       "<table border=\"1\" class=\"dataframe\">\n",
       "  <thead>\n",
       "    <tr style=\"text-align: right;\">\n",
       "      <th></th>\n",
       "      <th>ID</th>\n",
       "      <th>age</th>\n",
       "      <th>coupon_used_in_last6_month</th>\n",
       "      <th>coupon_used_in_last_month</th>\n",
       "      <th>coupon_ind</th>\n",
       "    </tr>\n",
       "  </thead>\n",
       "  <tbody>\n",
       "    <tr>\n",
       "      <th>count</th>\n",
       "      <td>25317.000000</td>\n",
       "      <td>25317.000000</td>\n",
       "      <td>25317.000000</td>\n",
       "      <td>25317.000000</td>\n",
       "      <td>25317.000000</td>\n",
       "    </tr>\n",
       "    <tr>\n",
       "      <th>mean</th>\n",
       "      <td>12659.000000</td>\n",
       "      <td>40.935379</td>\n",
       "      <td>2.772050</td>\n",
       "      <td>0.292847</td>\n",
       "      <td>0.116957</td>\n",
       "    </tr>\n",
       "    <tr>\n",
       "      <th>std</th>\n",
       "      <td>7308.532719</td>\n",
       "      <td>10.634289</td>\n",
       "      <td>3.136097</td>\n",
       "      <td>0.765498</td>\n",
       "      <td>0.321375</td>\n",
       "    </tr>\n",
       "    <tr>\n",
       "      <th>min</th>\n",
       "      <td>1.000000</td>\n",
       "      <td>18.000000</td>\n",
       "      <td>1.000000</td>\n",
       "      <td>0.000000</td>\n",
       "      <td>0.000000</td>\n",
       "    </tr>\n",
       "    <tr>\n",
       "      <th>25%</th>\n",
       "      <td>6330.000000</td>\n",
       "      <td>33.000000</td>\n",
       "      <td>1.000000</td>\n",
       "      <td>0.000000</td>\n",
       "      <td>0.000000</td>\n",
       "    </tr>\n",
       "    <tr>\n",
       "      <th>50%</th>\n",
       "      <td>12659.000000</td>\n",
       "      <td>39.000000</td>\n",
       "      <td>2.000000</td>\n",
       "      <td>0.000000</td>\n",
       "      <td>0.000000</td>\n",
       "    </tr>\n",
       "    <tr>\n",
       "      <th>75%</th>\n",
       "      <td>18988.000000</td>\n",
       "      <td>48.000000</td>\n",
       "      <td>3.000000</td>\n",
       "      <td>0.000000</td>\n",
       "      <td>0.000000</td>\n",
       "    </tr>\n",
       "    <tr>\n",
       "      <th>max</th>\n",
       "      <td>25317.000000</td>\n",
       "      <td>95.000000</td>\n",
       "      <td>55.000000</td>\n",
       "      <td>15.000000</td>\n",
       "      <td>1.000000</td>\n",
       "    </tr>\n",
       "  </tbody>\n",
       "</table>\n",
       "</div>"
      ],
      "text/plain": [
       "                 ID           age  coupon_used_in_last6_month  \\\n",
       "count  25317.000000  25317.000000                25317.000000   \n",
       "mean   12659.000000     40.935379                    2.772050   \n",
       "std     7308.532719     10.634289                    3.136097   \n",
       "min        1.000000     18.000000                    1.000000   \n",
       "25%     6330.000000     33.000000                    1.000000   \n",
       "50%    12659.000000     39.000000                    2.000000   \n",
       "75%    18988.000000     48.000000                    3.000000   \n",
       "max    25317.000000     95.000000                   55.000000   \n",
       "\n",
       "       coupon_used_in_last_month    coupon_ind  \n",
       "count               25317.000000  25317.000000  \n",
       "mean                    0.292847      0.116957  \n",
       "std                     0.765498      0.321375  \n",
       "min                     0.000000      0.000000  \n",
       "25%                     0.000000      0.000000  \n",
       "50%                     0.000000      0.000000  \n",
       "75%                     0.000000      0.000000  \n",
       "max                    15.000000      1.000000  "
      ]
     },
     "execution_count": 17,
     "metadata": {},
     "output_type": "execute_result"
    }
   ],
   "source": [
    "pdd.describe()"
   ]
  },
  {
   "cell_type": "markdown",
   "id": "played-minimum",
   "metadata": {},
   "source": [
    "age最大值为95岁，可能存在异常值\n",
    "coupon_used_in_last6_month分布较离散，可以后续采用分箱操作"
   ]
  },
  {
   "cell_type": "markdown",
   "id": "undefined-fields",
   "metadata": {},
   "source": [
    "# 数据清洗和EDA\n",
    "分为数值变量和类别变量两种分别进行，主要探索其他变量和是否使用优惠券变量的关系\n"
   ]
  },
  {
   "cell_type": "code",
   "execution_count": 18,
   "id": "latter-protest",
   "metadata": {
    "scrolled": false
   },
   "outputs": [
    {
     "data": {
      "text/html": [
       "<div>\n",
       "<style scoped>\n",
       "    .dataframe tbody tr th:only-of-type {\n",
       "        vertical-align: middle;\n",
       "    }\n",
       "\n",
       "    .dataframe tbody tr th {\n",
       "        vertical-align: top;\n",
       "    }\n",
       "\n",
       "    .dataframe thead th {\n",
       "        text-align: right;\n",
       "    }\n",
       "</style>\n",
       "<table border=\"1\" class=\"dataframe\">\n",
       "  <thead>\n",
       "    <tr style=\"text-align: right;\">\n",
       "      <th></th>\n",
       "      <th>age</th>\n",
       "      <th>job</th>\n",
       "      <th>marital</th>\n",
       "      <th>default</th>\n",
       "      <th>returned</th>\n",
       "      <th>loan</th>\n",
       "      <th>coupon_used_in_last6_month</th>\n",
       "      <th>coupon_used_in_last_month</th>\n",
       "      <th>coupon_ind</th>\n",
       "    </tr>\n",
       "    <tr>\n",
       "      <th>ID</th>\n",
       "      <th></th>\n",
       "      <th></th>\n",
       "      <th></th>\n",
       "      <th></th>\n",
       "      <th></th>\n",
       "      <th></th>\n",
       "      <th></th>\n",
       "      <th></th>\n",
       "      <th></th>\n",
       "    </tr>\n",
       "  </thead>\n",
       "  <tbody>\n",
       "    <tr>\n",
       "      <th>1</th>\n",
       "      <td>43</td>\n",
       "      <td>management</td>\n",
       "      <td>married</td>\n",
       "      <td>no</td>\n",
       "      <td>yes</td>\n",
       "      <td>no</td>\n",
       "      <td>2</td>\n",
       "      <td>0</td>\n",
       "      <td>0</td>\n",
       "    </tr>\n",
       "    <tr>\n",
       "      <th>2</th>\n",
       "      <td>42</td>\n",
       "      <td>technician</td>\n",
       "      <td>divorced</td>\n",
       "      <td>no</td>\n",
       "      <td>yes</td>\n",
       "      <td>no</td>\n",
       "      <td>1</td>\n",
       "      <td>1</td>\n",
       "      <td>0</td>\n",
       "    </tr>\n",
       "    <tr>\n",
       "      <th>3</th>\n",
       "      <td>47</td>\n",
       "      <td>admin.</td>\n",
       "      <td>married</td>\n",
       "      <td>no</td>\n",
       "      <td>yes</td>\n",
       "      <td>yes</td>\n",
       "      <td>2</td>\n",
       "      <td>0</td>\n",
       "      <td>0</td>\n",
       "    </tr>\n",
       "    <tr>\n",
       "      <th>4</th>\n",
       "      <td>28</td>\n",
       "      <td>management</td>\n",
       "      <td>single</td>\n",
       "      <td>no</td>\n",
       "      <td>yes</td>\n",
       "      <td>yes</td>\n",
       "      <td>2</td>\n",
       "      <td>0</td>\n",
       "      <td>0</td>\n",
       "    </tr>\n",
       "    <tr>\n",
       "      <th>5</th>\n",
       "      <td>42</td>\n",
       "      <td>technician</td>\n",
       "      <td>divorced</td>\n",
       "      <td>no</td>\n",
       "      <td>yes</td>\n",
       "      <td>no</td>\n",
       "      <td>5</td>\n",
       "      <td>0</td>\n",
       "      <td>0</td>\n",
       "    </tr>\n",
       "    <tr>\n",
       "      <th>...</th>\n",
       "      <td>...</td>\n",
       "      <td>...</td>\n",
       "      <td>...</td>\n",
       "      <td>...</td>\n",
       "      <td>...</td>\n",
       "      <td>...</td>\n",
       "      <td>...</td>\n",
       "      <td>...</td>\n",
       "      <td>...</td>\n",
       "    </tr>\n",
       "    <tr>\n",
       "      <th>25313</th>\n",
       "      <td>55</td>\n",
       "      <td>blue-collar</td>\n",
       "      <td>divorced</td>\n",
       "      <td>no</td>\n",
       "      <td>no</td>\n",
       "      <td>no</td>\n",
       "      <td>2</td>\n",
       "      <td>1</td>\n",
       "      <td>1</td>\n",
       "    </tr>\n",
       "    <tr>\n",
       "      <th>25314</th>\n",
       "      <td>52</td>\n",
       "      <td>services</td>\n",
       "      <td>married</td>\n",
       "      <td>no</td>\n",
       "      <td>no</td>\n",
       "      <td>yes</td>\n",
       "      <td>1</td>\n",
       "      <td>1</td>\n",
       "      <td>1</td>\n",
       "    </tr>\n",
       "    <tr>\n",
       "      <th>25315</th>\n",
       "      <td>35</td>\n",
       "      <td>blue-collar</td>\n",
       "      <td>divorced</td>\n",
       "      <td>no</td>\n",
       "      <td>yes</td>\n",
       "      <td>no</td>\n",
       "      <td>2</td>\n",
       "      <td>0</td>\n",
       "      <td>1</td>\n",
       "    </tr>\n",
       "    <tr>\n",
       "      <th>25316</th>\n",
       "      <td>37</td>\n",
       "      <td>entrepreneur</td>\n",
       "      <td>divorced</td>\n",
       "      <td>no</td>\n",
       "      <td>no</td>\n",
       "      <td>no</td>\n",
       "      <td>2</td>\n",
       "      <td>0</td>\n",
       "      <td>1</td>\n",
       "    </tr>\n",
       "    <tr>\n",
       "      <th>25317</th>\n",
       "      <td>52</td>\n",
       "      <td>management</td>\n",
       "      <td>married</td>\n",
       "      <td>no</td>\n",
       "      <td>no</td>\n",
       "      <td>no</td>\n",
       "      <td>3</td>\n",
       "      <td>0</td>\n",
       "      <td>1</td>\n",
       "    </tr>\n",
       "  </tbody>\n",
       "</table>\n",
       "<p>25317 rows × 9 columns</p>\n",
       "</div>"
      ],
      "text/plain": [
       "       age           job   marital default returned loan  \\\n",
       "ID                                                         \n",
       "1       43    management   married      no      yes   no   \n",
       "2       42    technician  divorced      no      yes   no   \n",
       "3       47        admin.   married      no      yes  yes   \n",
       "4       28    management    single      no      yes  yes   \n",
       "5       42    technician  divorced      no      yes   no   \n",
       "...    ...           ...       ...     ...      ...  ...   \n",
       "25313   55   blue-collar  divorced      no       no   no   \n",
       "25314   52      services   married      no       no  yes   \n",
       "25315   35   blue-collar  divorced      no      yes   no   \n",
       "25316   37  entrepreneur  divorced      no       no   no   \n",
       "25317   52    management   married      no       no   no   \n",
       "\n",
       "       coupon_used_in_last6_month  coupon_used_in_last_month  coupon_ind  \n",
       "ID                                                                        \n",
       "1                               2                          0           0  \n",
       "2                               1                          1           0  \n",
       "3                               2                          0           0  \n",
       "4                               2                          0           0  \n",
       "5                               5                          0           0  \n",
       "...                           ...                        ...         ...  \n",
       "25313                           2                          1           1  \n",
       "25314                           1                          1           1  \n",
       "25315                           2                          0           1  \n",
       "25316                           2                          0           1  \n",
       "25317                           3                          0           1  \n",
       "\n",
       "[25317 rows x 9 columns]"
      ]
     },
     "execution_count": 18,
     "metadata": {},
     "output_type": "execute_result"
    }
   ],
   "source": [
    "# 将ID这一列设为index\n",
    "pdd= pdd.set_index('ID')\n",
    "pdd"
   ]
  },
  {
   "cell_type": "markdown",
   "id": "fundamental-lounge",
   "metadata": {},
   "source": [
    "  ## 数值变量"
   ]
  },
  {
   "cell_type": "markdown",
   "id": "great-castle",
   "metadata": {},
   "source": [
    "   ### 关键列- 整体的优惠券使用情况"
   ]
  },
  {
   "cell_type": "code",
   "execution_count": 19,
   "id": "changing-estate",
   "metadata": {
    "scrolled": false
   },
   "outputs": [
    {
     "data": {
      "text/plain": [
       "0    0.883043\n",
       "1    0.116957\n",
       "Name: coupon_ind, dtype: float64"
      ]
     },
     "execution_count": 19,
     "metadata": {},
     "output_type": "execute_result"
    }
   ],
   "source": [
    "pdd['coupon_ind'].value_counts(1)"
   ]
  },
  {
   "cell_type": "markdown",
   "id": "particular-thinking",
   "metadata": {},
   "source": [
    "使用优惠券和未使用优惠券的数据不平衡\n",
    "之后可能要进行下采样或上采样"
   ]
  },
  {
   "cell_type": "code",
   "execution_count": 20,
   "id": "recreational-disney",
   "metadata": {
    "scrolled": false
   },
   "outputs": [
    {
     "data": {
      "text/plain": [
       "<AxesSubplot:xlabel='flag', ylabel='rate'>"
      ]
     },
     "execution_count": 20,
     "metadata": {},
     "output_type": "execute_result"
    },
    {
     "data": {
      "image/png": "[encoded data removed]",
      "text/plain": [
       "<Figure size 432x288 with 1 Axes>"
      ]
     },
     "metadata": {
      "needs_background": "light"
     },
     "output_type": "display_data"
    }
   ],
   "source": [
    "tmp = pd.DataFrame(pdd['coupon_ind'].value_counts(1)).reset_index().rename(columns={'index':'flag','coupon_ind':'rate'})\n",
    "tmp\n",
    "sns.barplot(x='flag', y='rate', data=tmp)"
   ]
  },
  {
   "cell_type": "markdown",
   "id": "union-salon",
   "metadata": {},
   "source": [
    "   ### 过去6个月优惠券使用情况"
   ]
  },
  {
   "cell_type": "code",
   "execution_count": 40,
   "id": "moved-indicator",
   "metadata": {
    "scrolled": false
   },
   "outputs": [
    {
     "data": {
      "text/plain": [
       "count    25033.000000\n",
       "mean         2.779171\n",
       "std          3.146620\n",
       "min          1.000000\n",
       "25%          1.000000\n",
       "50%          2.000000\n",
       "75%          3.000000\n",
       "max         55.000000\n",
       "Name: coupon_used_in_last6_month, dtype: float64"
      ]
     },
     "execution_count": 40,
     "metadata": {},
     "output_type": "execute_result"
    }
   ],
   "source": [
    "pdd['coupon_used_in_last6_month'].describe()"
   ]
  },
  {
   "cell_type": "code",
   "execution_count": 43,
   "id": "impressive-speed",
   "metadata": {
    "scrolled": true
   },
   "outputs": [
    {
     "name": "stderr",
     "output_type": "stream",
     "text": [
      "C:\\Users\\GaoYi\\anaconda\\envs\\PDD\\lib\\site-packages\\seaborn\\distributions.py:2557: FutureWarning: `distplot` is a deprecated function and will be removed in a future version. Please adapt your code to use either `displot` (a figure-level function with similar flexibility) or `histplot` (an axes-level function for histograms).\n",
      "  warnings.warn(msg, FutureWarning)\n"
     ]
    },
    {
     "data": {
      "text/plain": [
       "<AxesSubplot:xlabel='coupon_used_in_last6_month', ylabel='Density'>"
      ]
     },
     "execution_count": 43,
     "metadata": {},
     "output_type": "execute_result"
    },
    {
     "data": {
      "image/png": "[encoded data removed]",
      "text/plain": [
       "<Figure size 432x288 with 1 Axes>"
      ]
     },
     "metadata": {
      "needs_background": "light"
     },
     "output_type": "display_data"
    }
   ],
   "source": [
    "sns.distplot(pdd['coupon_used_in_last6_month'])"
   ]
  },
  {
   "cell_type": "markdown",
   "id": "aggregate-month",
   "metadata": {},
   "source": [
    "过去6个月优惠券使用数量集中在0-10次之间"
   ]
  },
  {
   "cell_type": "markdown",
   "id": "negative-motivation",
   "metadata": {},
   "source": [
    "   ### 过去1个月优惠券使用情况"
   ]
  },
  {
   "cell_type": "code",
   "execution_count": 35,
   "id": "attached-oliver",
   "metadata": {},
   "outputs": [
    {
     "data": {
      "text/plain": [
       "count    25033.000000\n",
       "mean         0.289498\n",
       "std          0.763161\n",
       "min          0.000000\n",
       "25%          0.000000\n",
       "50%          0.000000\n",
       "75%          0.000000\n",
       "max         15.000000\n",
       "Name: coupon_used_in_last_month, dtype: float64"
      ]
     },
     "execution_count": 35,
     "metadata": {},
     "output_type": "execute_result"
    }
   ],
   "source": [
    "pdd['coupon_used_in_last_month'].describe()"
   ]
  },
  {
   "cell_type": "code",
   "execution_count": 44,
   "id": "lesser-landscape",
   "metadata": {
    "scrolled": false
   },
   "outputs": [
    {
     "name": "stderr",
     "output_type": "stream",
     "text": [
      "C:\\Users\\GaoYi\\anaconda\\envs\\PDD\\lib\\site-packages\\seaborn\\distributions.py:2557: FutureWarning: `distplot` is a deprecated function and will be removed in a future version. Please adapt your code to use either `displot` (a figure-level function with similar flexibility) or `histplot` (an axes-level function for histograms).\n",
      "  warnings.warn(msg, FutureWarning)\n"
     ]
    },
    {
     "data": {
      "text/plain": [
       "<AxesSubplot:xlabel='coupon_used_in_last_month', ylabel='Density'>"
      ]
     },
     "execution_count": 44,
     "metadata": {},
     "output_type": "execute_result"
    },
    {
     "data": {
      "image/png": "[encoded data removed]",
      "text/plain": [
       "<Figure size 432x288 with 1 Axes>"
      ]
     },
     "metadata": {
      "needs_background": "light"
     },
     "output_type": "display_data"
    }
   ],
   "source": [
    "sns.distplot(pdd['coupon_used_in_last_month'])"
   ]
  },
  {
   "cell_type": "markdown",
   "id": "contained-profit",
   "metadata": {},
   "source": [
    "过去1个月优惠券使用数量集中在0-2次之间"
   ]
  },
  {
   "cell_type": "markdown",
   "id": "drawn-victoria",
   "metadata": {},
   "source": [
    "   ### 年龄的分布情况和不同年龄的使用优惠券情况"
   ]
  },
  {
   "cell_type": "code",
   "execution_count": 21,
   "id": "specific-dodge",
   "metadata": {},
   "outputs": [
    {
     "data": {
      "text/plain": [
       "count    25317.000000\n",
       "mean        40.935379\n",
       "std         10.634289\n",
       "min         18.000000\n",
       "25%         33.000000\n",
       "50%         39.000000\n",
       "75%         48.000000\n",
       "max         95.000000\n",
       "Name: age, dtype: float64"
      ]
     },
     "execution_count": 21,
     "metadata": {},
     "output_type": "execute_result"
    }
   ],
   "source": [
    "pdd['age'].describe()"
   ]
  },
  {
   "cell_type": "code",
   "execution_count": 22,
   "id": "reasonable-cooler",
   "metadata": {
    "scrolled": true
   },
   "outputs": [
    {
     "name": "stderr",
     "output_type": "stream",
     "text": [
      "C:\\Users\\GaoYi\\anaconda\\envs\\PDD\\lib\\site-packages\\seaborn\\distributions.py:2557: FutureWarning: `distplot` is a deprecated function and will be removed in a future version. Please adapt your code to use either `displot` (a figure-level function with similar flexibility) or `histplot` (an axes-level function for histograms).\n",
      "  warnings.warn(msg, FutureWarning)\n"
     ]
    },
    {
     "data": {
      "text/plain": [
       "<AxesSubplot:xlabel='age', ylabel='Density'>"
      ]
     },
     "execution_count": 22,
     "metadata": {},
     "output_type": "execute_result"
    },
    {
     "data": {
      "image/png": "[encoded data removed]",
      "text/plain": [
       "<Figure size 432x288 with 1 Axes>"
      ]
     },
     "metadata": {
      "needs_background": "light"
     },
     "output_type": "display_data"
    }
   ],
   "source": [
    "import seaborn as sns\n",
    "sns.distplot(pdd['age'])"
   ]
  },
  {
   "cell_type": "markdown",
   "id": "chronic-meaning",
   "metadata": {},
   "source": [
    "年龄主要分布在20-60岁之间\n",
    "大于60岁的可能是异常值，要去除一下"
   ]
  },
  {
   "cell_type": "code",
   "execution_count": 23,
   "id": "spiritual-american",
   "metadata": {},
   "outputs": [
    {
     "data": {
      "text/plain": [
       "<AxesSubplot:ylabel='age'>"
      ]
     },
     "execution_count": 23,
     "metadata": {},
     "output_type": "execute_result"
    },
    {
     "data": {
      "image/png": "[encoded data removed]",
      "text/plain": [
       "<Figure size 432x288 with 1 Axes>"
      ]
     },
     "metadata": {
      "needs_background": "light"
     },
     "output_type": "display_data"
    }
   ],
   "source": [
    "sns.boxplot(y='age', data=pdd)"
   ]
  },
  {
   "cell_type": "code",
   "execution_count": 24,
   "id": "regular-consistency",
   "metadata": {
    "scrolled": true
   },
   "outputs": [
    {
     "name": "stdout",
     "output_type": "stream",
     "text": [
      "70.5\n"
     ]
    },
    {
     "data": {
      "text/plain": [
       "284"
      ]
     },
     "execution_count": 24,
     "metadata": {},
     "output_type": "execute_result"
    }
   ],
   "source": [
    "# 规定大于75%+四分位差的1.5倍为异常值\n",
    "newmax = pdd['age'].describe()['75%'] + 1.5*(pdd['age'].describe()['75%']-pdd['age'].describe()['25%']) \n",
    "print(newmax)\n",
    "pdd[pdd['age']>newmax]['age'].count()"
   ]
  },
  {
   "cell_type": "markdown",
   "id": "oriental-distance",
   "metadata": {},
   "source": [
    "75%+四分位差的1.5倍为70.5，大于70.5的为异常值\n",
    "大于70.5有284个数据"
   ]
  },
  {
   "cell_type": "code",
   "execution_count": 25,
   "id": "dying-taiwan",
   "metadata": {},
   "outputs": [],
   "source": [
    "# 去除异常值\n",
    "pdd = pdd[pdd['age']<=newmax]"
   ]
  },
  {
   "cell_type": "code",
   "execution_count": 29,
   "id": "complimentary-guyana",
   "metadata": {},
   "outputs": [
    {
     "data": {
      "text/plain": [
       "count    25033.000000\n",
       "mean        40.528902\n",
       "std          9.968850\n",
       "min         18.000000\n",
       "25%         32.000000\n",
       "50%         39.000000\n",
       "75%         48.000000\n",
       "max         70.000000\n",
       "Name: age, dtype: float64"
      ]
     },
     "execution_count": 29,
     "metadata": {},
     "output_type": "execute_result"
    }
   ],
   "source": [
    "pdd['age'].describe()"
   ]
  },
  {
   "cell_type": "code",
   "execution_count": 30,
   "id": "foster-table",
   "metadata": {
    "scrolled": true
   },
   "outputs": [
    {
     "name": "stderr",
     "output_type": "stream",
     "text": [
      "C:\\Users\\GaoYi\\anaconda\\envs\\PDD\\lib\\site-packages\\seaborn\\distributions.py:2557: FutureWarning: `distplot` is a deprecated function and will be removed in a future version. Please adapt your code to use either `displot` (a figure-level function with similar flexibility) or `histplot` (an axes-level function for histograms).\n",
      "  warnings.warn(msg, FutureWarning)\n"
     ]
    },
    {
     "data": {
      "text/plain": [
       "<AxesSubplot:xlabel='age', ylabel='Density'>"
      ]
     },
     "execution_count": 30,
     "metadata": {},
     "output_type": "execute_result"
    },
    {
     "data": {
      "image/png": "[encoded data removed]",
      "text/plain": [
       "<Figure size 432x288 with 1 Axes>"
      ]
     },
     "metadata": {
      "needs_background": "light"
     },
     "output_type": "display_data"
    }
   ],
   "source": [
    "import seaborn as sns\n",
    "sns.distplot(pdd['age'])"
   ]
  },
  {
   "cell_type": "code",
   "execution_count": 50,
   "id": "liable-discussion",
   "metadata": {},
   "outputs": [
    {
     "data": {
      "text/html": [
       "<div>\n",
       "<style scoped>\n",
       "    .dataframe tbody tr th:only-of-type {\n",
       "        vertical-align: middle;\n",
       "    }\n",
       "\n",
       "    .dataframe tbody tr th {\n",
       "        vertical-align: top;\n",
       "    }\n",
       "\n",
       "    .dataframe thead th {\n",
       "        text-align: right;\n",
       "    }\n",
       "</style>\n",
       "<table border=\"1\" class=\"dataframe\">\n",
       "  <thead>\n",
       "    <tr style=\"text-align: right;\">\n",
       "      <th></th>\n",
       "      <th>count</th>\n",
       "      <th>mean</th>\n",
       "      <th>std</th>\n",
       "      <th>min</th>\n",
       "      <th>25%</th>\n",
       "      <th>50%</th>\n",
       "      <th>75%</th>\n",
       "      <th>max</th>\n",
       "    </tr>\n",
       "    <tr>\n",
       "      <th>coupon_ind</th>\n",
       "      <th></th>\n",
       "      <th></th>\n",
       "      <th></th>\n",
       "      <th></th>\n",
       "      <th></th>\n",
       "      <th></th>\n",
       "      <th></th>\n",
       "      <th></th>\n",
       "    </tr>\n",
       "  </thead>\n",
       "  <tbody>\n",
       "    <tr>\n",
       "      <th>0</th>\n",
       "      <td>22202.0</td>\n",
       "      <td>40.569859</td>\n",
       "      <td>9.751967</td>\n",
       "      <td>18.0</td>\n",
       "      <td>33.0</td>\n",
       "      <td>39.0</td>\n",
       "      <td>48.0</td>\n",
       "      <td>70.0</td>\n",
       "    </tr>\n",
       "    <tr>\n",
       "      <th>1</th>\n",
       "      <td>2831.0</td>\n",
       "      <td>40.207700</td>\n",
       "      <td>11.526063</td>\n",
       "      <td>18.0</td>\n",
       "      <td>31.0</td>\n",
       "      <td>37.0</td>\n",
       "      <td>49.0</td>\n",
       "      <td>70.0</td>\n",
       "    </tr>\n",
       "  </tbody>\n",
       "</table>\n",
       "</div>"
      ],
      "text/plain": [
       "              count       mean        std   min   25%   50%   75%   max\n",
       "coupon_ind                                                             \n",
       "0           22202.0  40.569859   9.751967  18.0  33.0  39.0  48.0  70.0\n",
       "1            2831.0  40.207700  11.526063  18.0  31.0  37.0  49.0  70.0"
      ]
     },
     "execution_count": 50,
     "metadata": {},
     "output_type": "execute_result"
    }
   ],
   "source": [
    "# 查看年龄和是否使用优惠券的关系\n",
    "pdd.groupby('coupon_ind')['age'].describe()"
   ]
  },
  {
   "cell_type": "code",
   "execution_count": 55,
   "id": "knowing-budapest",
   "metadata": {
    "scrolled": true
   },
   "outputs": [
    {
     "name": "stderr",
     "output_type": "stream",
     "text": [
      "C:\\Users\\GaoYi\\anaconda\\envs\\PDD\\lib\\site-packages\\seaborn\\distributions.py:2557: FutureWarning: `distplot` is a deprecated function and will be removed in a future version. Please adapt your code to use either `displot` (a figure-level function with similar flexibility) or `histplot` (an axes-level function for histograms).\n",
      "  warnings.warn(msg, FutureWarning)\n",
      "C:\\Users\\GaoYi\\anaconda\\envs\\PDD\\lib\\site-packages\\seaborn\\distributions.py:2557: FutureWarning: `distplot` is a deprecated function and will be removed in a future version. Please adapt your code to use either `displot` (a figure-level function with similar flexibility) or `histplot` (an axes-level function for histograms).\n",
      "  warnings.warn(msg, FutureWarning)\n"
     ]
    },
    {
     "data": {
      "text/plain": [
       "<matplotlib.legend.Legend at 0x23e60d284f0>"
      ]
     },
     "execution_count": 55,
     "metadata": {},
     "output_type": "execute_result"
    },
    {
     "data": {
      "image/png": "[encoded data removed]",
      "text/plain": [
       "<Figure size 432x288 with 1 Axes>"
      ]
     },
     "metadata": {
      "needs_background": "light"
     },
     "output_type": "display_data"
    }
   ],
   "source": [
    "bins = [10, 15, 20, 25, 30, 35, 40, 45, 50, 55, 60, 65, 70]\n",
    "sns.distplot(pdd[pdd['coupon_ind']==0]['age'], bins=bins, color='red')\n",
    "sns.distplot(pdd[pdd['coupon_ind']==1]['age'], bins=bins, color='blue')\n",
    "plt.legend(['not used','used '])"
   ]
  },
  {
   "cell_type": "markdown",
   "id": "analyzed-desert",
   "metadata": {},
   "source": [
    "使用拼多多APP的用户年龄主要在在20-70之间\n",
    "小于35岁和大于60岁的用户更倾向于使用优惠券\n",
    "小于35的用户年轻掌握优惠券的使用方法\n",
    "大于60的用户不一定知道怎么使用优惠券，不能下结论\n",
    "而在35~60岁间的用户更倾向于不使用优惠券，可能是因为经济条件比较好，不在意优惠券"
   ]
  },
  {
   "cell_type": "markdown",
   "id": "compound-default",
   "metadata": {},
   "source": [
    "## 类别变量"
   ]
  },
  {
   "cell_type": "markdown",
   "id": "duplicate-musical",
   "metadata": {},
   "source": [
    "   ### job职业的分布和不同职业用户的优惠券使用情况"
   ]
  },
  {
   "cell_type": "code",
   "execution_count": 45,
   "id": "experimental-shaft",
   "metadata": {},
   "outputs": [
    {
     "data": {
      "text/plain": [
       "blue-collar      5455\n",
       "management       5287\n",
       "technician       4239\n",
       "admin.           2906\n",
       "services         2342\n",
       "retired          1026\n",
       "self-employed     881\n",
       "entrepreneur      855\n",
       "unemployed        701\n",
       "housemaid         650\n",
       "student           533\n",
       "unknown           158\n",
       "Name: job, dtype: int64"
      ]
     },
     "execution_count": 45,
     "metadata": {},
     "output_type": "execute_result"
    }
   ],
   "source": [
    "pdd['job'].value_counts()"
   ]
  },
  {
   "cell_type": "code",
   "execution_count": 47,
   "id": "entitled-welsh",
   "metadata": {
    "scrolled": true
   },
   "outputs": [
    {
     "data": {
      "text/plain": [
       "<AxesSubplot:xlabel='count', ylabel='job'>"
      ]
     },
     "execution_count": 47,
     "metadata": {},
     "output_type": "execute_result"
    },
    {
     "data": {
      "image/png": "[encoded data removed]",
      "text/plain": [
       "<Figure size 432x288 with 1 Axes>"
      ]
     },
     "metadata": {
      "needs_background": "light"
     },
     "output_type": "display_data"
    }
   ],
   "source": [
    "sns.countplot(y='job',data=pdd, order=pdd['job'].value_counts().sort_values(ascending=False).index)"
   ]
  },
  {
   "cell_type": "code",
   "execution_count": 61,
   "id": "arranged-rogers",
   "metadata": {
    "scrolled": false
   },
   "outputs": [
    {
     "data": {
      "text/plain": [
       "<matplotlib.legend.Legend at 0x23e60f68fd0>"
      ]
     },
     "execution_count": 61,
     "metadata": {},
     "output_type": "execute_result"
    },
    {
     "data": {
      "image/png": "[encoded data removed]",
      "text/plain": [
       "<Figure size 1080x360 with 1 Axes>"
      ]
     },
     "metadata": {
      "needs_background": "light"
     },
     "output_type": "display_data"
    }
   ],
   "source": [
    "plt.figure(figsize=(15,5))\n",
    "sns.countplot(x='job',data=pdd, hue='coupon_ind', order=pdd['job'].value_counts().sort_values(ascending=False).index)\n",
    "plt.legend(['not used','used'])"
   ]
  },
  {
   "cell_type": "code",
   "execution_count": 59,
   "id": "injured-africa",
   "metadata": {
    "scrolled": true
   },
   "outputs": [
    {
     "data": {
      "text/html": [
       "<div>\n",
       "<style scoped>\n",
       "    .dataframe tbody tr th:only-of-type {\n",
       "        vertical-align: middle;\n",
       "    }\n",
       "\n",
       "    .dataframe tbody tr th {\n",
       "        vertical-align: top;\n",
       "    }\n",
       "\n",
       "    .dataframe thead th {\n",
       "        text-align: right;\n",
       "    }\n",
       "</style>\n",
       "<table border=\"1\" class=\"dataframe\">\n",
       "  <thead>\n",
       "    <tr style=\"text-align: right;\">\n",
       "      <th></th>\n",
       "      <th>job</th>\n",
       "      <th>coupon_ind</th>\n",
       "      <th>rate</th>\n",
       "    </tr>\n",
       "  </thead>\n",
       "  <tbody>\n",
       "    <tr>\n",
       "      <th>17</th>\n",
       "      <td>student</td>\n",
       "      <td>1</td>\n",
       "      <td>0.268293</td>\n",
       "    </tr>\n",
       "    <tr>\n",
       "      <th>11</th>\n",
       "      <td>retired</td>\n",
       "      <td>1</td>\n",
       "      <td>0.178363</td>\n",
       "    </tr>\n",
       "    <tr>\n",
       "      <th>21</th>\n",
       "      <td>unemployed</td>\n",
       "      <td>1</td>\n",
       "      <td>0.162625</td>\n",
       "    </tr>\n",
       "    <tr>\n",
       "      <th>9</th>\n",
       "      <td>management</td>\n",
       "      <td>1</td>\n",
       "      <td>0.138453</td>\n",
       "    </tr>\n",
       "    <tr>\n",
       "      <th>1</th>\n",
       "      <td>admin.</td>\n",
       "      <td>1</td>\n",
       "      <td>0.116999</td>\n",
       "    </tr>\n",
       "    <tr>\n",
       "      <th>13</th>\n",
       "      <td>self-employed</td>\n",
       "      <td>1</td>\n",
       "      <td>0.116913</td>\n",
       "    </tr>\n",
       "    <tr>\n",
       "      <th>23</th>\n",
       "      <td>unknown</td>\n",
       "      <td>1</td>\n",
       "      <td>0.113924</td>\n",
       "    </tr>\n",
       "    <tr>\n",
       "      <th>19</th>\n",
       "      <td>technician</td>\n",
       "      <td>1</td>\n",
       "      <td>0.113234</td>\n",
       "    </tr>\n",
       "    <tr>\n",
       "      <th>15</th>\n",
       "      <td>services</td>\n",
       "      <td>1</td>\n",
       "      <td>0.090094</td>\n",
       "    </tr>\n",
       "    <tr>\n",
       "      <th>7</th>\n",
       "      <td>housemaid</td>\n",
       "      <td>1</td>\n",
       "      <td>0.081538</td>\n",
       "    </tr>\n",
       "    <tr>\n",
       "      <th>5</th>\n",
       "      <td>entrepreneur</td>\n",
       "      <td>1</td>\n",
       "      <td>0.078363</td>\n",
       "    </tr>\n",
       "    <tr>\n",
       "      <th>3</th>\n",
       "      <td>blue-collar</td>\n",
       "      <td>1</td>\n",
       "      <td>0.070944</td>\n",
       "    </tr>\n",
       "  </tbody>\n",
       "</table>\n",
       "</div>"
      ],
      "text/plain": [
       "              job  coupon_ind      rate\n",
       "17        student           1  0.268293\n",
       "11        retired           1  0.178363\n",
       "21     unemployed           1  0.162625\n",
       "9      management           1  0.138453\n",
       "1          admin.           1  0.116999\n",
       "13  self-employed           1  0.116913\n",
       "23        unknown           1  0.113924\n",
       "19     technician           1  0.113234\n",
       "15       services           1  0.090094\n",
       "7       housemaid           1  0.081538\n",
       "5    entrepreneur           1  0.078363\n",
       "3     blue-collar           1  0.070944"
      ]
     },
     "execution_count": 59,
     "metadata": {},
     "output_type": "execute_result"
    }
   ],
   "source": [
    "tmp = pd.DataFrame(pdd.groupby(['job'])['coupon_ind'].value_counts(1))\n",
    "tmp = tmp.rename(columns={'coupon_ind':'rate'}).reset_index()\n",
    "tmp[tmp['coupon_ind']==1].sort_values(by='rate', ascending=False)"
   ]
  },
  {
   "cell_type": "code",
   "execution_count": 60,
   "id": "collective-ancient",
   "metadata": {
    "scrolled": true
   },
   "outputs": [
    {
     "data": {
      "text/plain": [
       "<AxesSubplot:xlabel='rate', ylabel='job'>"
      ]
     },
     "execution_count": 60,
     "metadata": {},
     "output_type": "execute_result"
    },
    {
     "data": {
      "image/png": "[encoded data removed]",
      "text/plain": [
       "<Figure size 432x288 with 1 Axes>"
      ]
     },
     "metadata": {
      "needs_background": "light"
     },
     "output_type": "display_data"
    }
   ],
   "source": [
    "orderlist = tmp[tmp['coupon_ind']==1].sort_values(by='rate', ascending=False)['job'].tolist()\n",
    "sns.barplot(y='job', x='rate', data=tmp[tmp['coupon_ind']==1], order=orderlist)"
   ]
  },
  {
   "cell_type": "markdown",
   "id": "august-configuration",
   "metadata": {},
   "source": [
    "从上可以看出，在所有职业中，使用拼多多的blue-collar最多，其次是management, technician, admin, services\n",
    "使用了优惠券的用户中，management的用户最多，其次是technician, blue-collar, admin, services\n",
    "但是在各个职业群体中，优惠券使用率最高的是学生、退休人员、无业、管理人员、行政人员\n",
    "可以适当合并类别，这样使得后续建模的时候减少参数的数量"
   ]
  },
  {
   "cell_type": "markdown",
   "id": "innovative-scheduling",
   "metadata": {},
   "source": [
    " ### 不同婚姻状态的分布和不同婚姻状态的用户的优惠券使用情况"
   ]
  },
  {
   "cell_type": "code",
   "execution_count": 48,
   "id": "preceding-samba",
   "metadata": {},
   "outputs": [
    {
     "data": {
      "text/plain": [
       "married     15035\n",
       "single       7148\n",
       "divorced     2850\n",
       "Name: marital, dtype: int64"
      ]
     },
     "execution_count": 48,
     "metadata": {},
     "output_type": "execute_result"
    }
   ],
   "source": [
    "pdd['marital'].value_counts()"
   ]
  },
  {
   "cell_type": "code",
   "execution_count": 49,
   "id": "legendary-issue",
   "metadata": {
    "scrolled": true
   },
   "outputs": [
    {
     "data": {
      "text/plain": [
       "<AxesSubplot:xlabel='marital', ylabel='count'>"
      ]
     },
     "execution_count": 49,
     "metadata": {},
     "output_type": "execute_result"
    },
    {
     "data": {
      "image/png": "[encoded data removed]",
      "text/plain": [
       "<Figure size 432x288 with 1 Axes>"
      ]
     },
     "metadata": {
      "needs_background": "light"
     },
     "output_type": "display_data"
    }
   ],
   "source": [
    "sns.countplot(x='marital',data=pdd, order=pdd['marital'].value_counts().sort_values(ascending=False).index)"
   ]
  },
  {
   "cell_type": "code",
   "execution_count": 62,
   "id": "empty-defensive",
   "metadata": {
    "scrolled": true
   },
   "outputs": [
    {
     "data": {
      "text/plain": [
       "<matplotlib.legend.Legend at 0x23e60e8dd60>"
      ]
     },
     "execution_count": 62,
     "metadata": {},
     "output_type": "execute_result"
    },
    {
     "data": {
      "image/png": "[encoded data removed]",
      "text/plain": [
       "<Figure size 1080x360 with 1 Axes>"
      ]
     },
     "metadata": {
      "needs_background": "light"
     },
     "output_type": "display_data"
    }
   ],
   "source": [
    "plt.figure(figsize=(15,5))\n",
    "sns.countplot(x='marital',data=pdd, hue='coupon_ind', order=pdd['marital'].value_counts().sort_values(ascending=False).index)\n",
    "plt.legend(['not used','used'])"
   ]
  },
  {
   "cell_type": "code",
   "execution_count": 63,
   "id": "covered-issue",
   "metadata": {},
   "outputs": [
    {
     "data": {
      "text/html": [
       "<div>\n",
       "<style scoped>\n",
       "    .dataframe tbody tr th:only-of-type {\n",
       "        vertical-align: middle;\n",
       "    }\n",
       "\n",
       "    .dataframe tbody tr th {\n",
       "        vertical-align: top;\n",
       "    }\n",
       "\n",
       "    .dataframe thead th {\n",
       "        text-align: right;\n",
       "    }\n",
       "</style>\n",
       "<table border=\"1\" class=\"dataframe\">\n",
       "  <thead>\n",
       "    <tr style=\"text-align: right;\">\n",
       "      <th></th>\n",
       "      <th>marital</th>\n",
       "      <th>coupon_ind</th>\n",
       "      <th>rate</th>\n",
       "    </tr>\n",
       "  </thead>\n",
       "  <tbody>\n",
       "    <tr>\n",
       "      <th>5</th>\n",
       "      <td>single</td>\n",
       "      <td>1</td>\n",
       "      <td>0.146335</td>\n",
       "    </tr>\n",
       "    <tr>\n",
       "      <th>1</th>\n",
       "      <td>divorced</td>\n",
       "      <td>1</td>\n",
       "      <td>0.111228</td>\n",
       "    </tr>\n",
       "    <tr>\n",
       "      <th>3</th>\n",
       "      <td>married</td>\n",
       "      <td>1</td>\n",
       "      <td>0.097639</td>\n",
       "    </tr>\n",
       "  </tbody>\n",
       "</table>\n",
       "</div>"
      ],
      "text/plain": [
       "    marital  coupon_ind      rate\n",
       "5    single           1  0.146335\n",
       "1  divorced           1  0.111228\n",
       "3   married           1  0.097639"
      ]
     },
     "execution_count": 63,
     "metadata": {},
     "output_type": "execute_result"
    }
   ],
   "source": [
    "tmp = pd.DataFrame(pdd.groupby(['marital'])['coupon_ind'].value_counts(1))\n",
    "tmp = tmp.rename(columns={'coupon_ind':'rate'}).reset_index()\n",
    "tmp[tmp['coupon_ind']==1].sort_values(by='rate', ascending=False)"
   ]
  },
  {
   "cell_type": "code",
   "execution_count": 64,
   "id": "native-spell",
   "metadata": {},
   "outputs": [
    {
     "data": {
      "text/plain": [
       "<AxesSubplot:xlabel='marital', ylabel='rate'>"
      ]
     },
     "execution_count": 64,
     "metadata": {},
     "output_type": "execute_result"
    },
    {
     "data": {
      "image/png": "[encoded data removed]",
      "text/plain": [
       "<Figure size 432x288 with 1 Axes>"
      ]
     },
     "metadata": {
      "needs_background": "light"
     },
     "output_type": "display_data"
    }
   ],
   "source": [
    "orderlist = tmp[tmp['coupon_ind']==1].sort_values(by='rate', ascending=False)['marital'].tolist()\n",
    "sns.barplot(x='marital', y='rate', data=tmp[tmp['coupon_ind']==1], order=orderlist)"
   ]
  },
  {
   "cell_type": "markdown",
   "id": "greek-begin",
   "metadata": {},
   "source": [
    "使用拼多多的已婚用户较多，其次是单身、离婚用户\n",
    "单身用户的优惠券使用率最高，大约为14.6%"
   ]
  },
  {
   "cell_type": "markdown",
   "id": "alive-month",
   "metadata": {},
   "source": [
    " ### 信用卡是否违约的用户的优惠券使用情况"
   ]
  },
  {
   "cell_type": "code",
   "execution_count": 65,
   "id": "average-factor",
   "metadata": {},
   "outputs": [
    {
     "data": {
      "text/plain": [
       "no     24586\n",
       "yes      447\n",
       "Name: default, dtype: int64"
      ]
     },
     "execution_count": 65,
     "metadata": {},
     "output_type": "execute_result"
    }
   ],
   "source": [
    "pdd['default'].value_counts()"
   ]
  },
  {
   "cell_type": "code",
   "execution_count": 66,
   "id": "sexual-questionnaire",
   "metadata": {},
   "outputs": [
    {
     "data": {
      "text/plain": [
       "<AxesSubplot:xlabel='default', ylabel='count'>"
      ]
     },
     "execution_count": 66,
     "metadata": {},
     "output_type": "execute_result"
    },
    {
     "data": {
      "image/png": "[encoded data removed]",
      "text/plain": [
       "<Figure size 432x288 with 1 Axes>"
      ]
     },
     "metadata": {
      "needs_background": "light"
     },
     "output_type": "display_data"
    }
   ],
   "source": [
    "sns.countplot(x='default',data=pdd, order=pdd['default'].value_counts().sort_values(ascending=False).index)"
   ]
  },
  {
   "cell_type": "code",
   "execution_count": 83,
   "id": "exempt-particle",
   "metadata": {},
   "outputs": [
    {
     "data": {
      "text/plain": [
       "<matplotlib.legend.Legend at 0x23e60ae4790>"
      ]
     },
     "execution_count": 83,
     "metadata": {},
     "output_type": "execute_result"
    },
    {
     "data": {
      "image/png": "[encoded data removed]",
      "text/plain": [
       "<Figure size 432x288 with 1 Axes>"
      ]
     },
     "metadata": {
      "needs_background": "light"
     },
     "output_type": "display_data"
    }
   ],
   "source": [
    "sns.countplot(x='default',data=pdd, hue='coupon_ind', order=pdd['default'].value_counts().sort_values(ascending=False).index)\n",
    "plt.legend(['not used','used'])"
   ]
  },
  {
   "cell_type": "code",
   "execution_count": 68,
   "id": "resident-shopper",
   "metadata": {},
   "outputs": [
    {
     "data": {
      "text/html": [
       "<div>\n",
       "<style scoped>\n",
       "    .dataframe tbody tr th:only-of-type {\n",
       "        vertical-align: middle;\n",
       "    }\n",
       "\n",
       "    .dataframe tbody tr th {\n",
       "        vertical-align: top;\n",
       "    }\n",
       "\n",
       "    .dataframe thead th {\n",
       "        text-align: right;\n",
       "    }\n",
       "</style>\n",
       "<table border=\"1\" class=\"dataframe\">\n",
       "  <thead>\n",
       "    <tr style=\"text-align: right;\">\n",
       "      <th></th>\n",
       "      <th>default</th>\n",
       "      <th>coupon_ind</th>\n",
       "      <th>rate</th>\n",
       "    </tr>\n",
       "  </thead>\n",
       "  <tbody>\n",
       "    <tr>\n",
       "      <th>1</th>\n",
       "      <td>no</td>\n",
       "      <td>1</td>\n",
       "      <td>0.114130</td>\n",
       "    </tr>\n",
       "    <tr>\n",
       "      <th>3</th>\n",
       "      <td>yes</td>\n",
       "      <td>1</td>\n",
       "      <td>0.055928</td>\n",
       "    </tr>\n",
       "  </tbody>\n",
       "</table>\n",
       "</div>"
      ],
      "text/plain": [
       "  default  coupon_ind      rate\n",
       "1      no           1  0.114130\n",
       "3     yes           1  0.055928"
      ]
     },
     "execution_count": 68,
     "metadata": {},
     "output_type": "execute_result"
    }
   ],
   "source": [
    "tmp = pd.DataFrame(pdd.groupby(['default'])['coupon_ind'].value_counts(1))\n",
    "tmp = tmp.rename(columns={'coupon_ind':'rate'}).reset_index()\n",
    "tmp[tmp['coupon_ind']==1].sort_values(by='rate', ascending=False)"
   ]
  },
  {
   "cell_type": "code",
   "execution_count": 69,
   "id": "comfortable-cliff",
   "metadata": {},
   "outputs": [
    {
     "data": {
      "text/plain": [
       "<AxesSubplot:xlabel='default', ylabel='rate'>"
      ]
     },
     "execution_count": 69,
     "metadata": {},
     "output_type": "execute_result"
    },
    {
     "data": {
      "image/png": "[encoded data removed]",
      "text/plain": [
       "<Figure size 432x288 with 1 Axes>"
      ]
     },
     "metadata": {
      "needs_background": "light"
     },
     "output_type": "display_data"
    }
   ],
   "source": [
    "orderlist = tmp[tmp['coupon_ind']==1].sort_values(by='rate', ascending=False)['default'].tolist()\n",
    "sns.barplot(x='default', y='rate', data=tmp[tmp['coupon_ind']==1], order=orderlist)"
   ]
  },
  {
   "cell_type": "markdown",
   "id": "unauthorized-onion",
   "metadata": {},
   "source": [
    "从上可以看出，信用卡违约的用户较少\n",
    "信用卡未违约的用户使用优惠券的概率大约是11%\n",
    "信用卡违约的用户使用优惠券的概率大约是5%"
   ]
  },
  {
   "cell_type": "markdown",
   "id": "revised-matter",
   "metadata": {},
   "source": [
    " ### 是否退货的用户的优惠券使用情况"
   ]
  },
  {
   "cell_type": "code",
   "execution_count": 72,
   "id": "married-serbia",
   "metadata": {},
   "outputs": [
    {
     "data": {
      "text/plain": [
       "yes    14014\n",
       "no     11019\n",
       "Name: returned, dtype: int64"
      ]
     },
     "execution_count": 72,
     "metadata": {},
     "output_type": "execute_result"
    }
   ],
   "source": [
    "pdd['returned'].value_counts()"
   ]
  },
  {
   "cell_type": "code",
   "execution_count": 73,
   "id": "automatic-nevada",
   "metadata": {},
   "outputs": [
    {
     "data": {
      "text/plain": [
       "<AxesSubplot:xlabel='returned', ylabel='count'>"
      ]
     },
     "execution_count": 73,
     "metadata": {},
     "output_type": "execute_result"
    },
    {
     "data": {
      "image/png": "[encoded data removed]",
      "text/plain": [
       "<Figure size 432x288 with 1 Axes>"
      ]
     },
     "metadata": {
      "needs_background": "light"
     },
     "output_type": "display_data"
    }
   ],
   "source": [
    "sns.countplot(x='returned',data=pdd, order=pdd['returned'].value_counts().sort_values(ascending=False).index)"
   ]
  },
  {
   "cell_type": "code",
   "execution_count": 84,
   "id": "robust-operations",
   "metadata": {},
   "outputs": [
    {
     "data": {
      "text/plain": [
       "<matplotlib.legend.Legend at 0x23e62c9df40>"
      ]
     },
     "execution_count": 84,
     "metadata": {},
     "output_type": "execute_result"
    },
    {
     "data": {
      "image/png": "[encoded data removed]",
      "text/plain": [
       "<Figure size 432x288 with 1 Axes>"
      ]
     },
     "metadata": {
      "needs_background": "light"
     },
     "output_type": "display_data"
    }
   ],
   "source": [
    "sns.countplot(x='returned',data=pdd, hue='coupon_ind', order=pdd['returned'].value_counts().sort_values(ascending=False).index)\n",
    "plt.legend(['not used','used'])"
   ]
  },
  {
   "cell_type": "code",
   "execution_count": 75,
   "id": "peripheral-reliance",
   "metadata": {},
   "outputs": [
    {
     "data": {
      "text/html": [
       "<div>\n",
       "<style scoped>\n",
       "    .dataframe tbody tr th:only-of-type {\n",
       "        vertical-align: middle;\n",
       "    }\n",
       "\n",
       "    .dataframe tbody tr th {\n",
       "        vertical-align: top;\n",
       "    }\n",
       "\n",
       "    .dataframe thead th {\n",
       "        text-align: right;\n",
       "    }\n",
       "</style>\n",
       "<table border=\"1\" class=\"dataframe\">\n",
       "  <thead>\n",
       "    <tr style=\"text-align: right;\">\n",
       "      <th></th>\n",
       "      <th>returned</th>\n",
       "      <th>coupon_ind</th>\n",
       "      <th>rate</th>\n",
       "    </tr>\n",
       "  </thead>\n",
       "  <tbody>\n",
       "    <tr>\n",
       "      <th>1</th>\n",
       "      <td>no</td>\n",
       "      <td>1</td>\n",
       "      <td>0.161358</td>\n",
       "    </tr>\n",
       "    <tr>\n",
       "      <th>3</th>\n",
       "      <td>yes</td>\n",
       "      <td>1</td>\n",
       "      <td>0.075139</td>\n",
       "    </tr>\n",
       "  </tbody>\n",
       "</table>\n",
       "</div>"
      ],
      "text/plain": [
       "  returned  coupon_ind      rate\n",
       "1       no           1  0.161358\n",
       "3      yes           1  0.075139"
      ]
     },
     "execution_count": 75,
     "metadata": {},
     "output_type": "execute_result"
    }
   ],
   "source": [
    "tmp = pd.DataFrame(pdd.groupby(['returned'])['coupon_ind'].value_counts(1))\n",
    "tmp = tmp.rename(columns={'coupon_ind':'rate'}).reset_index()\n",
    "tmp[tmp['coupon_ind']==1].sort_values(by='rate', ascending=False)"
   ]
  },
  {
   "cell_type": "code",
   "execution_count": 77,
   "id": "committed-galaxy",
   "metadata": {},
   "outputs": [
    {
     "data": {
      "text/plain": [
       "<AxesSubplot:xlabel='returned', ylabel='rate'>"
      ]
     },
     "execution_count": 77,
     "metadata": {},
     "output_type": "execute_result"
    },
    {
     "data": {
      "image/png": "[encoded data removed]",
      "text/plain": [
       "<Figure size 432x288 with 1 Axes>"
      ]
     },
     "metadata": {
      "needs_background": "light"
     },
     "output_type": "display_data"
    }
   ],
   "source": [
    "orderlist = tmp[tmp['coupon_ind']==1].sort_values(by='rate', ascending=False)['returned'].tolist()\n",
    "sns.barplot(x='returned', y='rate', data=tmp[tmp['coupon_ind']==1], order=orderlist)"
   ]
  },
  {
   "cell_type": "markdown",
   "id": "spiritual-remainder",
   "metadata": {},
   "source": [
    "从上可以看出，拼多多用户发生退货的用户比较多\n",
    "没有退货的用户使用优惠券的概率是16%\n",
    "退货的用户使用优惠券的概率是7%\n",
    "可以思考是不是用户没有使用优惠券发现买贵了才发生了退货行为呢？\n",
    "提高优惠券的使用率是不是能降低退货率呢？"
   ]
  },
  {
   "cell_type": "markdown",
   "id": "handled-trader",
   "metadata": {},
   "source": [
    " ### 是否使用信用卡付款的用户的优惠券使用情况"
   ]
  },
  {
   "cell_type": "code",
   "execution_count": 78,
   "id": "printable-allen",
   "metadata": {},
   "outputs": [
    {
     "data": {
      "text/plain": [
       "no     20976\n",
       "yes     4057\n",
       "Name: loan, dtype: int64"
      ]
     },
     "execution_count": 78,
     "metadata": {},
     "output_type": "execute_result"
    }
   ],
   "source": [
    "pdd['loan'].value_counts()"
   ]
  },
  {
   "cell_type": "code",
   "execution_count": 79,
   "id": "czech-gasoline",
   "metadata": {},
   "outputs": [
    {
     "data": {
      "text/plain": [
       "<AxesSubplot:xlabel='loan', ylabel='count'>"
      ]
     },
     "execution_count": 79,
     "metadata": {},
     "output_type": "execute_result"
    },
    {
     "data": {
      "image/png": "[encoded data removed]",
      "text/plain": [
       "<Figure size 432x288 with 1 Axes>"
      ]
     },
     "metadata": {
      "needs_background": "light"
     },
     "output_type": "display_data"
    }
   ],
   "source": [
    "sns.countplot(x='loan',data=pdd, order=pdd['loan'].value_counts().sort_values(ascending=False).index)"
   ]
  },
  {
   "cell_type": "code",
   "execution_count": 85,
   "id": "theoretical-rainbow",
   "metadata": {},
   "outputs": [
    {
     "data": {
      "text/plain": [
       "<matplotlib.legend.Legend at 0x23e62cf08b0>"
      ]
     },
     "execution_count": 85,
     "metadata": {},
     "output_type": "execute_result"
    },
    {
     "data": {
      "image/png": "[encoded data removed]",
      "text/plain": [
       "<Figure size 432x288 with 1 Axes>"
      ]
     },
     "metadata": {
      "needs_background": "light"
     },
     "output_type": "display_data"
    }
   ],
   "source": [
    "sns.countplot(x='loan',data=pdd, hue='coupon_ind', order=pdd['loan'].value_counts().sort_values(ascending=False).index)\n",
    "plt.legend(['not used','used'])"
   ]
  },
  {
   "cell_type": "code",
   "execution_count": 81,
   "id": "complete-punch",
   "metadata": {},
   "outputs": [
    {
     "data": {
      "text/html": [
       "<div>\n",
       "<style scoped>\n",
       "    .dataframe tbody tr th:only-of-type {\n",
       "        vertical-align: middle;\n",
       "    }\n",
       "\n",
       "    .dataframe tbody tr th {\n",
       "        vertical-align: top;\n",
       "    }\n",
       "\n",
       "    .dataframe thead th {\n",
       "        text-align: right;\n",
       "    }\n",
       "</style>\n",
       "<table border=\"1\" class=\"dataframe\">\n",
       "  <thead>\n",
       "    <tr style=\"text-align: right;\">\n",
       "      <th></th>\n",
       "      <th>loan</th>\n",
       "      <th>coupon_ind</th>\n",
       "      <th>rate</th>\n",
       "    </tr>\n",
       "  </thead>\n",
       "  <tbody>\n",
       "    <tr>\n",
       "      <th>1</th>\n",
       "      <td>no</td>\n",
       "      <td>1</td>\n",
       "      <td>0.121663</td>\n",
       "    </tr>\n",
       "    <tr>\n",
       "      <th>3</th>\n",
       "      <td>yes</td>\n",
       "      <td>1</td>\n",
       "      <td>0.068770</td>\n",
       "    </tr>\n",
       "  </tbody>\n",
       "</table>\n",
       "</div>"
      ],
      "text/plain": [
       "  loan  coupon_ind      rate\n",
       "1   no           1  0.121663\n",
       "3  yes           1  0.068770"
      ]
     },
     "execution_count": 81,
     "metadata": {},
     "output_type": "execute_result"
    }
   ],
   "source": [
    "tmp = pd.DataFrame(pdd.groupby(['loan'])['coupon_ind'].value_counts(1))\n",
    "tmp = tmp.rename(columns={'coupon_ind':'rate'}).reset_index()\n",
    "tmp[tmp['coupon_ind']==1].sort_values(by='rate', ascending=False)"
   ]
  },
  {
   "cell_type": "code",
   "execution_count": 82,
   "id": "possible-psychology",
   "metadata": {},
   "outputs": [
    {
     "data": {
      "text/plain": [
       "<AxesSubplot:xlabel='loan', ylabel='rate'>"
      ]
     },
     "execution_count": 82,
     "metadata": {},
     "output_type": "execute_result"
    },
    {
     "data": {
      "image/png": "[encoded data removed]",
      "text/plain": [
       "<Figure size 432x288 with 1 Axes>"
      ]
     },
     "metadata": {
      "needs_background": "light"
     },
     "output_type": "display_data"
    }
   ],
   "source": [
    "orderlist = tmp[tmp['coupon_ind']==1].sort_values(by='rate', ascending=False)['loan'].tolist()\n",
    "sns.barplot(x='loan', y='rate', data=tmp[tmp['coupon_ind']==1], order=orderlist)"
   ]
  },
  {
   "cell_type": "markdown",
   "id": "heavy-resistance",
   "metadata": {},
   "source": [
    "从上可以看出，拼多多的用户使用信用卡支付的比较少，大约六分之一\n",
    "使用信用卡支付的用户使用优惠券的概率大约是7%\n",
    "未使用信用卡支付的用户使用优惠券的概率大约是12%"
   ]
  },
  {
   "cell_type": "markdown",
   "id": "sixth-crystal",
   "metadata": {},
   "source": [
    "# 模型建立和优化"
   ]
  },
  {
   "cell_type": "markdown",
   "id": "smoking-richmond",
   "metadata": {},
   "source": [
    " ## 数据预处理"
   ]
  },
  {
   "cell_type": "markdown",
   "id": "inclusive-housing",
   "metadata": {},
   "source": [
    "  ### 数据分箱"
   ]
  },
  {
   "cell_type": "code",
   "execution_count": 86,
   "id": "welcome-berry",
   "metadata": {},
   "outputs": [
    {
     "data": {
      "text/plain": [
       "count    25033.000000\n",
       "mean        40.528902\n",
       "std          9.968850\n",
       "min         18.000000\n",
       "25%         32.000000\n",
       "50%         39.000000\n",
       "75%         48.000000\n",
       "max         70.000000\n",
       "Name: age, dtype: float64"
      ]
     },
     "execution_count": 86,
     "metadata": {},
     "output_type": "execute_result"
    }
   ],
   "source": [
    "#年龄分箱\n",
    "pdd['age'].describe()"
   ]
  },
  {
   "cell_type": "code",
   "execution_count": 87,
   "id": "accepting-catch",
   "metadata": {},
   "outputs": [
    {
     "name": "stderr",
     "output_type": "stream",
     "text": [
      "<ipython-input-87-df0be5d7d19c>:3: SettingWithCopyWarning: \n",
      "A value is trying to be set on a copy of a slice from a DataFrame.\n",
      "Try using .loc[row_indexer,col_indexer] = value instead\n",
      "\n",
      "See the caveats in the documentation: https://pandas.pydata.org/pandas-docs/stable/user_guide/indexing.html#returning-a-view-versus-a-copy\n",
      "  pdd['age_clean'] = pd.cut(pdd['age'], bins, labels=labels, right=False)\n"
     ]
    }
   ],
   "source": [
    "bins = [0, 25, 45, 65, 100]\n",
    "labels = ['<25', '25-45', '45-65', '>65']\n",
    "pdd['age_clean'] = pd.cut(pdd['age'], bins, labels=labels, right=False)"
   ]
  },
  {
   "cell_type": "code",
   "execution_count": 88,
   "id": "normal-sigma",
   "metadata": {},
   "outputs": [
    {
     "data": {
      "text/html": [
       "<div>\n",
       "<style scoped>\n",
       "    .dataframe tbody tr th:only-of-type {\n",
       "        vertical-align: middle;\n",
       "    }\n",
       "\n",
       "    .dataframe tbody tr th {\n",
       "        vertical-align: top;\n",
       "    }\n",
       "\n",
       "    .dataframe thead th {\n",
       "        text-align: right;\n",
       "    }\n",
       "</style>\n",
       "<table border=\"1\" class=\"dataframe\">\n",
       "  <thead>\n",
       "    <tr style=\"text-align: right;\">\n",
       "      <th></th>\n",
       "      <th>age</th>\n",
       "      <th>job</th>\n",
       "      <th>marital</th>\n",
       "      <th>default</th>\n",
       "      <th>returned</th>\n",
       "      <th>loan</th>\n",
       "      <th>coupon_used_in_last6_month</th>\n",
       "      <th>coupon_used_in_last_month</th>\n",
       "      <th>coupon_ind</th>\n",
       "      <th>age_clean</th>\n",
       "    </tr>\n",
       "    <tr>\n",
       "      <th>ID</th>\n",
       "      <th></th>\n",
       "      <th></th>\n",
       "      <th></th>\n",
       "      <th></th>\n",
       "      <th></th>\n",
       "      <th></th>\n",
       "      <th></th>\n",
       "      <th></th>\n",
       "      <th></th>\n",
       "      <th></th>\n",
       "    </tr>\n",
       "  </thead>\n",
       "  <tbody>\n",
       "    <tr>\n",
       "      <th>1</th>\n",
       "      <td>43</td>\n",
       "      <td>management</td>\n",
       "      <td>married</td>\n",
       "      <td>no</td>\n",
       "      <td>yes</td>\n",
       "      <td>no</td>\n",
       "      <td>2</td>\n",
       "      <td>0</td>\n",
       "      <td>0</td>\n",
       "      <td>25-45</td>\n",
       "    </tr>\n",
       "    <tr>\n",
       "      <th>2</th>\n",
       "      <td>42</td>\n",
       "      <td>technician</td>\n",
       "      <td>divorced</td>\n",
       "      <td>no</td>\n",
       "      <td>yes</td>\n",
       "      <td>no</td>\n",
       "      <td>1</td>\n",
       "      <td>1</td>\n",
       "      <td>0</td>\n",
       "      <td>25-45</td>\n",
       "    </tr>\n",
       "    <tr>\n",
       "      <th>3</th>\n",
       "      <td>47</td>\n",
       "      <td>admin.</td>\n",
       "      <td>married</td>\n",
       "      <td>no</td>\n",
       "      <td>yes</td>\n",
       "      <td>yes</td>\n",
       "      <td>2</td>\n",
       "      <td>0</td>\n",
       "      <td>0</td>\n",
       "      <td>45-65</td>\n",
       "    </tr>\n",
       "    <tr>\n",
       "      <th>4</th>\n",
       "      <td>28</td>\n",
       "      <td>management</td>\n",
       "      <td>single</td>\n",
       "      <td>no</td>\n",
       "      <td>yes</td>\n",
       "      <td>yes</td>\n",
       "      <td>2</td>\n",
       "      <td>0</td>\n",
       "      <td>0</td>\n",
       "      <td>25-45</td>\n",
       "    </tr>\n",
       "    <tr>\n",
       "      <th>5</th>\n",
       "      <td>42</td>\n",
       "      <td>technician</td>\n",
       "      <td>divorced</td>\n",
       "      <td>no</td>\n",
       "      <td>yes</td>\n",
       "      <td>no</td>\n",
       "      <td>5</td>\n",
       "      <td>0</td>\n",
       "      <td>0</td>\n",
       "      <td>25-45</td>\n",
       "    </tr>\n",
       "  </tbody>\n",
       "</table>\n",
       "</div>"
      ],
      "text/plain": [
       "    age         job   marital default returned loan  \\\n",
       "ID                                                    \n",
       "1    43  management   married      no      yes   no   \n",
       "2    42  technician  divorced      no      yes   no   \n",
       "3    47      admin.   married      no      yes  yes   \n",
       "4    28  management    single      no      yes  yes   \n",
       "5    42  technician  divorced      no      yes   no   \n",
       "\n",
       "    coupon_used_in_last6_month  coupon_used_in_last_month  coupon_ind  \\\n",
       "ID                                                                      \n",
       "1                            2                          0           0   \n",
       "2                            1                          1           0   \n",
       "3                            2                          0           0   \n",
       "4                            2                          0           0   \n",
       "5                            5                          0           0   \n",
       "\n",
       "   age_clean  \n",
       "ID            \n",
       "1      25-45  \n",
       "2      25-45  \n",
       "3      45-65  \n",
       "4      25-45  \n",
       "5      25-45  "
      ]
     },
     "execution_count": 88,
     "metadata": {},
     "output_type": "execute_result"
    }
   ],
   "source": [
    "pdd.head()"
   ]
  },
  {
   "cell_type": "code",
   "execution_count": 89,
   "id": "photographic-ballet",
   "metadata": {},
   "outputs": [
    {
     "data": {
      "text/plain": [
       "count    25033.000000\n",
       "mean         2.779171\n",
       "std          3.146620\n",
       "min          1.000000\n",
       "25%          1.000000\n",
       "50%          2.000000\n",
       "75%          3.000000\n",
       "max         55.000000\n",
       "Name: coupon_used_in_last6_month, dtype: float64"
      ]
     },
     "execution_count": 89,
     "metadata": {},
     "output_type": "execute_result"
    }
   ],
   "source": [
    "#过去6个月优惠券使用情况分箱\n",
    "pdd['coupon_used_in_last6_month'].describe()"
   ]
  },
  {
   "cell_type": "code",
   "execution_count": 90,
   "id": "everyday-petroleum",
   "metadata": {},
   "outputs": [
    {
     "data": {
      "text/plain": [
       "1     9685\n",
       "2     6937\n",
       "3     3064\n",
       "4     1944\n",
       "5      976\n",
       "6      719\n",
       "7      404\n",
       "8      301\n",
       "9      182\n",
       "10     149\n",
       "11     111\n",
       "12      80\n",
       "13      62\n",
       "16      52\n",
       "14      50\n",
       "17      48\n",
       "15      44\n",
       "18      30\n",
       "19      26\n",
       "20      23\n",
       "21      21\n",
       "23      17\n",
       "25      12\n",
       "29      12\n",
       "22      12\n",
       "24      10\n",
       "26       8\n",
       "31       8\n",
       "27       7\n",
       "28       7\n",
       "32       7\n",
       "36       4\n",
       "34       4\n",
       "30       4\n",
       "33       3\n",
       "50       2\n",
       "43       2\n",
       "55       1\n",
       "44       1\n",
       "35       1\n",
       "37       1\n",
       "51       1\n",
       "41       1\n",
       "Name: coupon_used_in_last6_month, dtype: int64"
      ]
     },
     "execution_count": 90,
     "metadata": {},
     "output_type": "execute_result"
    }
   ],
   "source": [
    "pdd['coupon_used_in_last6_month'].value_counts()"
   ]
  },
  {
   "cell_type": "code",
   "execution_count": null,
   "id": "standing-brisbane",
   "metadata": {},
   "outputs": [],
   "source": [
    "bins = [0, 6, 21, 42]\n",
    "pdd['c6'] = pd.cut(pdd['coupon_used_in_last6_month'], bins, labels=['low', 'middle', 'high'])"
   ]
  },
  {
   "cell_type": "code",
   "execution_count": 91,
   "id": "healthy-composition",
   "metadata": {},
   "outputs": [
    {
     "data": {
      "text/plain": [
       "count    25033.000000\n",
       "mean         0.289498\n",
       "std          0.763161\n",
       "min          0.000000\n",
       "25%          0.000000\n",
       "50%          0.000000\n",
       "75%          0.000000\n",
       "max         15.000000\n",
       "Name: coupon_used_in_last_month, dtype: float64"
      ]
     },
     "execution_count": 91,
     "metadata": {},
     "output_type": "execute_result"
    }
   ],
   "source": [
    "#过去1个月优惠券使用情况分箱\n",
    "pdd['coupon_used_in_last_month'].describe()"
   ]
  },
  {
   "cell_type": "code",
   "execution_count": 93,
   "id": "honest-excuse",
   "metadata": {},
   "outputs": [
    {
     "data": {
      "text/plain": [
       "0     20501\n",
       "1      2876\n",
       "2      1093\n",
       "3       299\n",
       "4       132\n",
       "5        79\n",
       "6        31\n",
       "7        12\n",
       "8         5\n",
       "10        2\n",
       "9         1\n",
       "11        1\n",
       "15        1\n",
       "Name: coupon_used_in_last_month, dtype: int64"
      ]
     },
     "execution_count": 93,
     "metadata": {},
     "output_type": "execute_result"
    }
   ],
   "source": [
    "pdd['coupon_used_in_last_month'].value_counts()"
   ]
  },
  {
   "cell_type": "code",
   "execution_count": 94,
   "id": "desirable-romance",
   "metadata": {},
   "outputs": [
    {
     "name": "stderr",
     "output_type": "stream",
     "text": [
      "<ipython-input-94-d68274b1d829>:3: SettingWithCopyWarning: \n",
      "A value is trying to be set on a copy of a slice from a DataFrame.\n",
      "Try using .loc[row_indexer,col_indexer] = value instead\n",
      "\n",
      "See the caveats in the documentation: https://pandas.pydata.org/pandas-docs/stable/user_guide/indexing.html#returning-a-view-versus-a-copy\n",
      "  pdd['c1'] = pd.cut(pdd['coupon_used_in_last_month'], bins, labels=labels, right=False)\n"
     ]
    }
   ],
   "source": [
    "bins = [0, 1, 2, 3, 15]\n",
    "labels = ['0', '1', '2', '>2']\n",
    "pdd['c1'] = pd.cut(pdd['coupon_used_in_last_month'], bins, labels=labels, right=False)"
   ]
  },
  {
   "cell_type": "code",
   "execution_count": 95,
   "id": "seasonal-value",
   "metadata": {},
   "outputs": [
    {
     "data": {
      "text/html": [
       "<div>\n",
       "<style scoped>\n",
       "    .dataframe tbody tr th:only-of-type {\n",
       "        vertical-align: middle;\n",
       "    }\n",
       "\n",
       "    .dataframe tbody tr th {\n",
       "        vertical-align: top;\n",
       "    }\n",
       "\n",
       "    .dataframe thead th {\n",
       "        text-align: right;\n",
       "    }\n",
       "</style>\n",
       "<table border=\"1\" class=\"dataframe\">\n",
       "  <thead>\n",
       "    <tr style=\"text-align: right;\">\n",
       "      <th></th>\n",
       "      <th>job</th>\n",
       "      <th>coupon_ind</th>\n",
       "      <th>rate</th>\n",
       "    </tr>\n",
       "  </thead>\n",
       "  <tbody>\n",
       "    <tr>\n",
       "      <th>17</th>\n",
       "      <td>student</td>\n",
       "      <td>1</td>\n",
       "      <td>0.268293</td>\n",
       "    </tr>\n",
       "    <tr>\n",
       "      <th>11</th>\n",
       "      <td>retired</td>\n",
       "      <td>1</td>\n",
       "      <td>0.178363</td>\n",
       "    </tr>\n",
       "    <tr>\n",
       "      <th>21</th>\n",
       "      <td>unemployed</td>\n",
       "      <td>1</td>\n",
       "      <td>0.162625</td>\n",
       "    </tr>\n",
       "    <tr>\n",
       "      <th>9</th>\n",
       "      <td>management</td>\n",
       "      <td>1</td>\n",
       "      <td>0.138453</td>\n",
       "    </tr>\n",
       "    <tr>\n",
       "      <th>1</th>\n",
       "      <td>admin.</td>\n",
       "      <td>1</td>\n",
       "      <td>0.116999</td>\n",
       "    </tr>\n",
       "    <tr>\n",
       "      <th>13</th>\n",
       "      <td>self-employed</td>\n",
       "      <td>1</td>\n",
       "      <td>0.116913</td>\n",
       "    </tr>\n",
       "    <tr>\n",
       "      <th>23</th>\n",
       "      <td>unknown</td>\n",
       "      <td>1</td>\n",
       "      <td>0.113924</td>\n",
       "    </tr>\n",
       "    <tr>\n",
       "      <th>19</th>\n",
       "      <td>technician</td>\n",
       "      <td>1</td>\n",
       "      <td>0.113234</td>\n",
       "    </tr>\n",
       "    <tr>\n",
       "      <th>15</th>\n",
       "      <td>services</td>\n",
       "      <td>1</td>\n",
       "      <td>0.090094</td>\n",
       "    </tr>\n",
       "    <tr>\n",
       "      <th>7</th>\n",
       "      <td>housemaid</td>\n",
       "      <td>1</td>\n",
       "      <td>0.081538</td>\n",
       "    </tr>\n",
       "    <tr>\n",
       "      <th>5</th>\n",
       "      <td>entrepreneur</td>\n",
       "      <td>1</td>\n",
       "      <td>0.078363</td>\n",
       "    </tr>\n",
       "    <tr>\n",
       "      <th>3</th>\n",
       "      <td>blue-collar</td>\n",
       "      <td>1</td>\n",
       "      <td>0.070944</td>\n",
       "    </tr>\n",
       "  </tbody>\n",
       "</table>\n",
       "</div>"
      ],
      "text/plain": [
       "              job  coupon_ind      rate\n",
       "17        student           1  0.268293\n",
       "11        retired           1  0.178363\n",
       "21     unemployed           1  0.162625\n",
       "9      management           1  0.138453\n",
       "1          admin.           1  0.116999\n",
       "13  self-employed           1  0.116913\n",
       "23        unknown           1  0.113924\n",
       "19     technician           1  0.113234\n",
       "15       services           1  0.090094\n",
       "7       housemaid           1  0.081538\n",
       "5    entrepreneur           1  0.078363\n",
       "3     blue-collar           1  0.070944"
      ]
     },
     "execution_count": 95,
     "metadata": {},
     "output_type": "execute_result"
    }
   ],
   "source": [
    "#职业减少类别\n",
    "tmp = pd.DataFrame(pdd.groupby(['job'])['coupon_ind'].value_counts(1))\n",
    "tmp = tmp.rename(columns={'coupon_ind':'rate'}).reset_index()\n",
    "tmp[tmp['coupon_ind']==1].sort_values(by='rate', ascending=False)"
   ]
  },
  {
   "cell_type": "code",
   "execution_count": 96,
   "id": "delayed-riverside",
   "metadata": {},
   "outputs": [
    {
     "data": {
      "text/plain": [
       "<AxesSubplot:xlabel='rate', ylabel='job'>"
      ]
     },
     "execution_count": 96,
     "metadata": {},
     "output_type": "execute_result"
    },
    {
     "data": {
      "image/png": "[encoded data removed]",
      "text/plain": [
       "<Figure size 432x288 with 1 Axes>"
      ]
     },
     "metadata": {
      "needs_background": "light"
     },
     "output_type": "display_data"
    }
   ],
   "source": [
    "orderlist = tmp[tmp['coupon_ind']==1].sort_values(by='rate', ascending=False)['job'].tolist()\n",
    "sns.barplot(y='job', x='rate', data=tmp[tmp['coupon_ind']==1], order=orderlist)"
   ]
  },
  {
   "cell_type": "markdown",
   "id": "champion-association",
   "metadata": {},
   "source": [
    "数据集包含的职业类型较多，为了方便后续建模，可以将相似的职业合并成一个类型\n",
    "根据各个职业的优惠券使用率，初步将student,retired,unemployed合并为低收入群体，management,admin,self-employed,unknown,technician合并为中低收入群体，services,housemaid合并为中等收入群体，entrepreneur,blue-collar合并为高收入群体"
   ]
  },
  {
   "cell_type": "code",
   "execution_count": 99,
   "id": "spare-wagner",
   "metadata": {
    "scrolled": true
   },
   "outputs": [
    {
     "name": "stderr",
     "output_type": "stream",
     "text": [
      "<ipython-input-99-cd91e89afde2>:10: SettingWithCopyWarning: \n",
      "A value is trying to be set on a copy of a slice from a DataFrame.\n",
      "Try using .loc[row_indexer,col_indexer] = value instead\n",
      "\n",
      "See the caveats in the documentation: https://pandas.pydata.org/pandas-docs/stable/user_guide/indexing.html#returning-a-view-versus-a-copy\n",
      "  pdd['job_clean'] = pdd['job'].apply(job_merge)\n"
     ]
    },
    {
     "data": {
      "text/html": [
       "<div>\n",
       "<style scoped>\n",
       "    .dataframe tbody tr th:only-of-type {\n",
       "        vertical-align: middle;\n",
       "    }\n",
       "\n",
       "    .dataframe tbody tr th {\n",
       "        vertical-align: top;\n",
       "    }\n",
       "\n",
       "    .dataframe thead th {\n",
       "        text-align: right;\n",
       "    }\n",
       "</style>\n",
       "<table border=\"1\" class=\"dataframe\">\n",
       "  <thead>\n",
       "    <tr style=\"text-align: right;\">\n",
       "      <th></th>\n",
       "      <th>age</th>\n",
       "      <th>job</th>\n",
       "      <th>marital</th>\n",
       "      <th>default</th>\n",
       "      <th>returned</th>\n",
       "      <th>loan</th>\n",
       "      <th>coupon_used_in_last6_month</th>\n",
       "      <th>coupon_used_in_last_month</th>\n",
       "      <th>coupon_ind</th>\n",
       "      <th>age_clean</th>\n",
       "      <th>c1</th>\n",
       "      <th>job_clean</th>\n",
       "    </tr>\n",
       "    <tr>\n",
       "      <th>ID</th>\n",
       "      <th></th>\n",
       "      <th></th>\n",
       "      <th></th>\n",
       "      <th></th>\n",
       "      <th></th>\n",
       "      <th></th>\n",
       "      <th></th>\n",
       "      <th></th>\n",
       "      <th></th>\n",
       "      <th></th>\n",
       "      <th></th>\n",
       "      <th></th>\n",
       "    </tr>\n",
       "  </thead>\n",
       "  <tbody>\n",
       "    <tr>\n",
       "      <th>1</th>\n",
       "      <td>43</td>\n",
       "      <td>management</td>\n",
       "      <td>married</td>\n",
       "      <td>no</td>\n",
       "      <td>yes</td>\n",
       "      <td>no</td>\n",
       "      <td>2</td>\n",
       "      <td>0</td>\n",
       "      <td>0</td>\n",
       "      <td>25-45</td>\n",
       "      <td>0</td>\n",
       "      <td>middle-low</td>\n",
       "    </tr>\n",
       "    <tr>\n",
       "      <th>2</th>\n",
       "      <td>42</td>\n",
       "      <td>technician</td>\n",
       "      <td>divorced</td>\n",
       "      <td>no</td>\n",
       "      <td>yes</td>\n",
       "      <td>no</td>\n",
       "      <td>1</td>\n",
       "      <td>1</td>\n",
       "      <td>0</td>\n",
       "      <td>25-45</td>\n",
       "      <td>1</td>\n",
       "      <td>middle-low</td>\n",
       "    </tr>\n",
       "    <tr>\n",
       "      <th>3</th>\n",
       "      <td>47</td>\n",
       "      <td>admin.</td>\n",
       "      <td>married</td>\n",
       "      <td>no</td>\n",
       "      <td>yes</td>\n",
       "      <td>yes</td>\n",
       "      <td>2</td>\n",
       "      <td>0</td>\n",
       "      <td>0</td>\n",
       "      <td>45-65</td>\n",
       "      <td>0</td>\n",
       "      <td>middle-low</td>\n",
       "    </tr>\n",
       "    <tr>\n",
       "      <th>4</th>\n",
       "      <td>28</td>\n",
       "      <td>management</td>\n",
       "      <td>single</td>\n",
       "      <td>no</td>\n",
       "      <td>yes</td>\n",
       "      <td>yes</td>\n",
       "      <td>2</td>\n",
       "      <td>0</td>\n",
       "      <td>0</td>\n",
       "      <td>25-45</td>\n",
       "      <td>0</td>\n",
       "      <td>middle-low</td>\n",
       "    </tr>\n",
       "    <tr>\n",
       "      <th>5</th>\n",
       "      <td>42</td>\n",
       "      <td>technician</td>\n",
       "      <td>divorced</td>\n",
       "      <td>no</td>\n",
       "      <td>yes</td>\n",
       "      <td>no</td>\n",
       "      <td>5</td>\n",
       "      <td>0</td>\n",
       "      <td>0</td>\n",
       "      <td>25-45</td>\n",
       "      <td>0</td>\n",
       "      <td>middle-low</td>\n",
       "    </tr>\n",
       "  </tbody>\n",
       "</table>\n",
       "</div>"
      ],
      "text/plain": [
       "    age         job   marital default returned loan  \\\n",
       "ID                                                    \n",
       "1    43  management   married      no      yes   no   \n",
       "2    42  technician  divorced      no      yes   no   \n",
       "3    47      admin.   married      no      yes  yes   \n",
       "4    28  management    single      no      yes  yes   \n",
       "5    42  technician  divorced      no      yes   no   \n",
       "\n",
       "    coupon_used_in_last6_month  coupon_used_in_last_month  coupon_ind  \\\n",
       "ID                                                                      \n",
       "1                            2                          0           0   \n",
       "2                            1                          1           0   \n",
       "3                            2                          0           0   \n",
       "4                            2                          0           0   \n",
       "5                            5                          0           0   \n",
       "\n",
       "   age_clean c1   job_clean  \n",
       "ID                           \n",
       "1      25-45  0  middle-low  \n",
       "2      25-45  1  middle-low  \n",
       "3      45-65  0  middle-low  \n",
       "4      25-45  0  middle-low  \n",
       "5      25-45  0  middle-low  "
      ]
     },
     "execution_count": 99,
     "metadata": {},
     "output_type": "execute_result"
    }
   ],
   "source": [
    "def job_merge(job):\n",
    "    if job=='student' or job=='retired' or job=='unemployed':\n",
    "        return 'low'\n",
    "    elif job=='management' or job=='admin.' or job=='self-employed' or job=='unknown' or job=='technician':\n",
    "        return 'middle-low'\n",
    "    elif job=='services' or job=='housemaid':\n",
    "        return 'middle'\n",
    "    elif job=='entrepreneur' or job=='blue-collar':\n",
    "        return 'high'\n",
    "pdd['job_clean'] = pdd['job'].apply(job_merge)\n",
    "pdd.head()"
   ]
  },
  {
   "cell_type": "markdown",
   "id": "expensive-proportion",
   "metadata": {},
   "source": [
    "  ### 哑变量处理"
   ]
  },
  {
   "cell_type": "code",
   "execution_count": 100,
   "id": "equipped-kazakhstan",
   "metadata": {},
   "outputs": [
    {
     "name": "stdout",
     "output_type": "stream",
     "text": [
      "<class 'pandas.core.frame.DataFrame'>\n",
      "Int64Index: 25033 entries, 1 to 25317\n",
      "Data columns (total 12 columns):\n",
      " #   Column                      Non-Null Count  Dtype   \n",
      "---  ------                      --------------  -----   \n",
      " 0   age                         25033 non-null  int64   \n",
      " 1   job                         25033 non-null  object  \n",
      " 2   marital                     25033 non-null  object  \n",
      " 3   default                     25033 non-null  object  \n",
      " 4   returned                    25033 non-null  object  \n",
      " 5   loan                        25033 non-null  object  \n",
      " 6   coupon_used_in_last6_month  25033 non-null  int64   \n",
      " 7   coupon_used_in_last_month   25033 non-null  int64   \n",
      " 8   coupon_ind                  25033 non-null  int64   \n",
      " 9   age_clean                   25033 non-null  category\n",
      " 10  c1                          25032 non-null  category\n",
      " 11  job_clean                   25033 non-null  object  \n",
      "dtypes: category(2), int64(4), object(6)\n",
      "memory usage: 2.7+ MB\n"
     ]
    }
   ],
   "source": [
    "pdd.info()"
   ]
  },
  {
   "cell_type": "code",
   "execution_count": 102,
   "id": "appointed-spine",
   "metadata": {},
   "outputs": [],
   "source": [
    "# drop掉ID,coupon_used_in_last_month, coupon_used_in_last6_month, job, age\n",
    "pdd_clean = pdd.drop(['coupon_used_in_last_month', 'coupon_used_in_last6_month', 'job', 'age'], axis=1)"
   ]
  },
  {
   "cell_type": "code",
   "execution_count": 103,
   "id": "african-development",
   "metadata": {},
   "outputs": [],
   "source": [
    "# 类别变量转成哑变量\n",
    "pdd_clean = pd.get_dummies(pdd_clean, drop_first=True)"
   ]
  },
  {
   "cell_type": "code",
   "execution_count": 104,
   "id": "suburban-papua",
   "metadata": {},
   "outputs": [
    {
     "data": {
      "text/html": [
       "<div>\n",
       "<style scoped>\n",
       "    .dataframe tbody tr th:only-of-type {\n",
       "        vertical-align: middle;\n",
       "    }\n",
       "\n",
       "    .dataframe tbody tr th {\n",
       "        vertical-align: top;\n",
       "    }\n",
       "\n",
       "    .dataframe thead th {\n",
       "        text-align: right;\n",
       "    }\n",
       "</style>\n",
       "<table border=\"1\" class=\"dataframe\">\n",
       "  <thead>\n",
       "    <tr style=\"text-align: right;\">\n",
       "      <th></th>\n",
       "      <th>coupon_ind</th>\n",
       "      <th>marital_married</th>\n",
       "      <th>marital_single</th>\n",
       "      <th>default_yes</th>\n",
       "      <th>returned_yes</th>\n",
       "      <th>loan_yes</th>\n",
       "      <th>age_clean_25-45</th>\n",
       "      <th>age_clean_45-65</th>\n",
       "      <th>age_clean_&gt;65</th>\n",
       "      <th>c1_1</th>\n",
       "      <th>c1_2</th>\n",
       "      <th>c1_&gt;2</th>\n",
       "      <th>job_clean_low</th>\n",
       "      <th>job_clean_middle</th>\n",
       "      <th>job_clean_middle-low</th>\n",
       "    </tr>\n",
       "    <tr>\n",
       "      <th>ID</th>\n",
       "      <th></th>\n",
       "      <th></th>\n",
       "      <th></th>\n",
       "      <th></th>\n",
       "      <th></th>\n",
       "      <th></th>\n",
       "      <th></th>\n",
       "      <th></th>\n",
       "      <th></th>\n",
       "      <th></th>\n",
       "      <th></th>\n",
       "      <th></th>\n",
       "      <th></th>\n",
       "      <th></th>\n",
       "      <th></th>\n",
       "    </tr>\n",
       "  </thead>\n",
       "  <tbody>\n",
       "    <tr>\n",
       "      <th>1</th>\n",
       "      <td>0</td>\n",
       "      <td>1</td>\n",
       "      <td>0</td>\n",
       "      <td>0</td>\n",
       "      <td>1</td>\n",
       "      <td>0</td>\n",
       "      <td>1</td>\n",
       "      <td>0</td>\n",
       "      <td>0</td>\n",
       "      <td>0</td>\n",
       "      <td>0</td>\n",
       "      <td>0</td>\n",
       "      <td>0</td>\n",
       "      <td>0</td>\n",
       "      <td>1</td>\n",
       "    </tr>\n",
       "    <tr>\n",
       "      <th>2</th>\n",
       "      <td>0</td>\n",
       "      <td>0</td>\n",
       "      <td>0</td>\n",
       "      <td>0</td>\n",
       "      <td>1</td>\n",
       "      <td>0</td>\n",
       "      <td>1</td>\n",
       "      <td>0</td>\n",
       "      <td>0</td>\n",
       "      <td>1</td>\n",
       "      <td>0</td>\n",
       "      <td>0</td>\n",
       "      <td>0</td>\n",
       "      <td>0</td>\n",
       "      <td>1</td>\n",
       "    </tr>\n",
       "    <tr>\n",
       "      <th>3</th>\n",
       "      <td>0</td>\n",
       "      <td>1</td>\n",
       "      <td>0</td>\n",
       "      <td>0</td>\n",
       "      <td>1</td>\n",
       "      <td>1</td>\n",
       "      <td>0</td>\n",
       "      <td>1</td>\n",
       "      <td>0</td>\n",
       "      <td>0</td>\n",
       "      <td>0</td>\n",
       "      <td>0</td>\n",
       "      <td>0</td>\n",
       "      <td>0</td>\n",
       "      <td>1</td>\n",
       "    </tr>\n",
       "    <tr>\n",
       "      <th>4</th>\n",
       "      <td>0</td>\n",
       "      <td>0</td>\n",
       "      <td>1</td>\n",
       "      <td>0</td>\n",
       "      <td>1</td>\n",
       "      <td>1</td>\n",
       "      <td>1</td>\n",
       "      <td>0</td>\n",
       "      <td>0</td>\n",
       "      <td>0</td>\n",
       "      <td>0</td>\n",
       "      <td>0</td>\n",
       "      <td>0</td>\n",
       "      <td>0</td>\n",
       "      <td>1</td>\n",
       "    </tr>\n",
       "    <tr>\n",
       "      <th>5</th>\n",
       "      <td>0</td>\n",
       "      <td>0</td>\n",
       "      <td>0</td>\n",
       "      <td>0</td>\n",
       "      <td>1</td>\n",
       "      <td>0</td>\n",
       "      <td>1</td>\n",
       "      <td>0</td>\n",
       "      <td>0</td>\n",
       "      <td>0</td>\n",
       "      <td>0</td>\n",
       "      <td>0</td>\n",
       "      <td>0</td>\n",
       "      <td>0</td>\n",
       "      <td>1</td>\n",
       "    </tr>\n",
       "  </tbody>\n",
       "</table>\n",
       "</div>"
      ],
      "text/plain": [
       "    coupon_ind  marital_married  marital_single  default_yes  returned_yes  \\\n",
       "ID                                                                           \n",
       "1            0                1               0            0             1   \n",
       "2            0                0               0            0             1   \n",
       "3            0                1               0            0             1   \n",
       "4            0                0               1            0             1   \n",
       "5            0                0               0            0             1   \n",
       "\n",
       "    loan_yes  age_clean_25-45  age_clean_45-65  age_clean_>65  c1_1  c1_2  \\\n",
       "ID                                                                          \n",
       "1          0                1                0              0     0     0   \n",
       "2          0                1                0              0     1     0   \n",
       "3          1                0                1              0     0     0   \n",
       "4          1                1                0              0     0     0   \n",
       "5          0                1                0              0     0     0   \n",
       "\n",
       "    c1_>2  job_clean_low  job_clean_middle  job_clean_middle-low  \n",
       "ID                                                                \n",
       "1       0              0                 0                     1  \n",
       "2       0              0                 0                     1  \n",
       "3       0              0                 0                     1  \n",
       "4       0              0                 0                     1  \n",
       "5       0              0                 0                     1  "
      ]
     },
     "execution_count": 104,
     "metadata": {},
     "output_type": "execute_result"
    }
   ],
   "source": [
    "pdd_clean.head()"
   ]
  },
  {
   "cell_type": "code",
   "execution_count": 275,
   "id": "primary-malawi",
   "metadata": {},
   "outputs": [
    {
     "name": "stdout",
     "output_type": "stream",
     "text": [
      "<class 'pandas.core.frame.DataFrame'>\n",
      "Int64Index: 25033 entries, 1 to 25317\n",
      "Data columns (total 15 columns):\n",
      " #   Column                Non-Null Count  Dtype\n",
      "---  ------                --------------  -----\n",
      " 0   coupon_ind            25033 non-null  int64\n",
      " 1   marital_married       25033 non-null  uint8\n",
      " 2   marital_single        25033 non-null  uint8\n",
      " 3   default_yes           25033 non-null  uint8\n",
      " 4   returned_yes          25033 non-null  uint8\n",
      " 5   loan_yes              25033 non-null  uint8\n",
      " 6   age_clean_25-45       25033 non-null  uint8\n",
      " 7   age_clean_45-65       25033 non-null  uint8\n",
      " 8   age_clean_>65         25033 non-null  uint8\n",
      " 9   c1_1                  25033 non-null  uint8\n",
      " 10  c1_2                  25033 non-null  uint8\n",
      " 11  c1_>2                 25033 non-null  uint8\n",
      " 12  job_clean_low         25033 non-null  uint8\n",
      " 13  job_clean_middle      25033 non-null  uint8\n",
      " 14  job_clean_middle-low  25033 non-null  uint8\n",
      "dtypes: int64(1), uint8(14)\n",
      "memory usage: 1.2 MB\n"
     ]
    }
   ],
   "source": [
    "pdd_clean.info()"
   ]
  },
  {
   "cell_type": "markdown",
   "id": "medical-unknown",
   "metadata": {},
   "source": [
    "  ### 相关系数分析"
   ]
  },
  {
   "cell_type": "code",
   "execution_count": 276,
   "id": "durable-fight",
   "metadata": {},
   "outputs": [
    {
     "data": {
      "text/html": [
       "<div>\n",
       "<style scoped>\n",
       "    .dataframe tbody tr th:only-of-type {\n",
       "        vertical-align: middle;\n",
       "    }\n",
       "\n",
       "    .dataframe tbody tr th {\n",
       "        vertical-align: top;\n",
       "    }\n",
       "\n",
       "    .dataframe thead th {\n",
       "        text-align: right;\n",
       "    }\n",
       "</style>\n",
       "<table border=\"1\" class=\"dataframe\">\n",
       "  <thead>\n",
       "    <tr style=\"text-align: right;\">\n",
       "      <th></th>\n",
       "      <th>coupon_ind</th>\n",
       "    </tr>\n",
       "  </thead>\n",
       "  <tbody>\n",
       "    <tr>\n",
       "      <th>coupon_ind</th>\n",
       "      <td>1.000000</td>\n",
       "    </tr>\n",
       "    <tr>\n",
       "      <th>c1_1</th>\n",
       "      <td>0.140320</td>\n",
       "    </tr>\n",
       "    <tr>\n",
       "      <th>job_clean_low</th>\n",
       "      <td>0.081167</td>\n",
       "    </tr>\n",
       "    <tr>\n",
       "      <th>c1_2</th>\n",
       "      <td>0.076783</td>\n",
       "    </tr>\n",
       "    <tr>\n",
       "      <th>age_clean_&gt;65</th>\n",
       "      <td>0.069686</td>\n",
       "    </tr>\n",
       "    <tr>\n",
       "      <th>marital_single</th>\n",
       "      <td>0.066360</td>\n",
       "    </tr>\n",
       "    <tr>\n",
       "      <th>job_clean_middle-low</th>\n",
       "      <td>0.037838</td>\n",
       "    </tr>\n",
       "    <tr>\n",
       "      <th>c1_&gt;2</th>\n",
       "      <td>0.025920</td>\n",
       "    </tr>\n",
       "    <tr>\n",
       "      <th>age_clean_25-45</th>\n",
       "      <td>-0.009942</td>\n",
       "    </tr>\n",
       "    <tr>\n",
       "      <th>age_clean_45-65</th>\n",
       "      <td>-0.016697</td>\n",
       "    </tr>\n",
       "    <tr>\n",
       "      <th>default_yes</th>\n",
       "      <td>-0.024337</td>\n",
       "    </tr>\n",
       "    <tr>\n",
       "      <th>job_clean_middle</th>\n",
       "      <td>-0.028916</td>\n",
       "    </tr>\n",
       "    <tr>\n",
       "      <th>marital_married</th>\n",
       "      <td>-0.059831</td>\n",
       "    </tr>\n",
       "    <tr>\n",
       "      <th>loan_yes</th>\n",
       "      <td>-0.061545</td>\n",
       "    </tr>\n",
       "    <tr>\n",
       "      <th>returned_yes</th>\n",
       "      <td>-0.135141</td>\n",
       "    </tr>\n",
       "  </tbody>\n",
       "</table>\n",
       "</div>"
      ],
      "text/plain": [
       "                      coupon_ind\n",
       "coupon_ind              1.000000\n",
       "c1_1                    0.140320\n",
       "job_clean_low           0.081167\n",
       "c1_2                    0.076783\n",
       "age_clean_>65           0.069686\n",
       "marital_single          0.066360\n",
       "job_clean_middle-low    0.037838\n",
       "c1_>2                   0.025920\n",
       "age_clean_25-45        -0.009942\n",
       "age_clean_45-65        -0.016697\n",
       "default_yes            -0.024337\n",
       "job_clean_middle       -0.028916\n",
       "marital_married        -0.059831\n",
       "loan_yes               -0.061545\n",
       "returned_yes           -0.135141"
      ]
     },
     "execution_count": 276,
     "metadata": {},
     "output_type": "execute_result"
    }
   ],
   "source": [
    "corr = pdd_clean.corr()[['coupon_ind']].sort_values('coupon_ind', ascending=False)\n",
    "corr"
   ]
  },
  {
   "cell_type": "code",
   "execution_count": 277,
   "id": "electoral-england",
   "metadata": {},
   "outputs": [
    {
     "data": {
      "text/plain": [
       "array(['coupon_ind', 'c1_1', 'job_clean_low', 'c1_2', 'age_clean_>65',\n",
       "       'marital_single', 'marital_married', 'loan_yes', 'returned_yes'],\n",
       "      dtype=object)"
      ]
     },
     "execution_count": 277,
     "metadata": {},
     "output_type": "execute_result"
    }
   ],
   "source": [
    "# 取出相关系数绝对值大于0.05的变量\n",
    "import numpy as np\n",
    "r=0.05\n",
    "var = corr.where(np.abs(corr)>r).dropna(how='any').index.values\n",
    "var"
   ]
  },
  {
   "cell_type": "code",
   "execution_count": 278,
   "id": "equivalent-charge",
   "metadata": {},
   "outputs": [
    {
     "data": {
      "text/plain": [
       "<AxesSubplot:>"
      ]
     },
     "execution_count": 278,
     "metadata": {},
     "output_type": "execute_result"
    },
    {
     "data": {
      "image/png": "[encoded data removed]",
      "text/plain": [
       "<Figure size 432x288 with 2 Axes>"
      ]
     },
     "metadata": {
      "needs_background": "light"
     },
     "output_type": "display_data"
    }
   ],
   "source": [
    "sns.heatmap(pdd_clean[var].corr())"
   ]
  },
  {
   "cell_type": "markdown",
   "id": "affiliated-settlement",
   "metadata": {},
   "source": [
    " ## 模型建立"
   ]
  },
  {
   "cell_type": "code",
   "execution_count": 287,
   "id": "apparent-sympathy",
   "metadata": {},
   "outputs": [],
   "source": [
    "y = pdd_clean['coupon_ind']\n",
    "var = var[1:]\n",
    "x = pdd_clean[var]  # x变量就是上面取出来的和coupon_ind相关系数绝对值大于0.05的那几个变量"
   ]
  },
  {
   "cell_type": "code",
   "execution_count": 288,
   "id": "interested-tobacco",
   "metadata": {},
   "outputs": [],
   "source": [
    "from sklearn.model_selection import train_test_split\n",
    "x_train, x_test, y_train, y_test = train_test_split(x, y, test_size=0.3, random_state=100)"
   ]
  },
  {
   "cell_type": "code",
   "execution_count": 289,
   "id": "improved-dylan",
   "metadata": {},
   "outputs": [],
   "source": [
    "from sklearn import linear_model\n",
    "lr = linear_model.LogisticRegression(random_state=7)"
   ]
  },
  {
   "cell_type": "code",
   "execution_count": 290,
   "id": "creative-wrapping",
   "metadata": {},
   "outputs": [
    {
     "data": {
      "text/plain": [
       "LogisticRegression(random_state=7)"
      ]
     },
     "execution_count": 290,
     "metadata": {},
     "output_type": "execute_result"
    }
   ],
   "source": [
    "lr.fit(x_train, y_train)"
   ]
  },
  {
   "cell_type": "code",
   "execution_count": 291,
   "id": "introductory-variation",
   "metadata": {},
   "outputs": [
    {
     "data": {
      "text/plain": [
       "array([-1.73549944])"
      ]
     },
     "execution_count": 291,
     "metadata": {},
     "output_type": "execute_result"
    }
   ],
   "source": [
    "# 输出模型拟合的截距\n",
    "lr.intercept_"
   ]
  },
  {
   "cell_type": "code",
   "execution_count": 292,
   "id": "large-breed",
   "metadata": {
    "scrolled": true
   },
   "outputs": [
    {
     "name": "stdout",
     "output_type": "stream",
     "text": [
      "job_clean_low的系数：0.3448\t概率比值：1.4118\n",
      "c1_2的系数：0.9991\t概率比值：2.7159\n",
      "age_clean_>65的系数：1.0179\t概率比值：2.7675\n",
      "marital_single的系数：0.3083\t概率比值：1.3611\n",
      "marital_married的系数：-0.1377\t概率比值：0.8714\n",
      "loan_yes的系数：-0.5953\t概率比值：0.5514\n",
      "returned_yes的系数：-0.8016\t概率比值：0.4486\n"
     ]
    }
   ],
   "source": [
    "# 输出模型拟合后各个变量的系数和概率比值\n",
    "for var_name, coef, rate in zip(var, lr.coef_[0], np.exp(lr.coef_[0])):\n",
    "    print('{}的系数：{:.4f}\\t概率比值：{:.4f}'.format(var_name, coef, rate))"
   ]
  },
  {
   "cell_type": "markdown",
   "id": "capital-console",
   "metadata": {},
   "source": [
    "低收入用户在这次活动使用优惠券的概率是其他用户的1.41倍；\n",
    "最近一个月使用两次优惠券的用户在这次活动使用优惠券的概率是其他用户的2.71倍；\n",
    "年龄大于65岁的用户在这次活动使用优惠券的概率是其他用户的2.76倍；\n",
    "单身用户在这次活动使用优惠券的概率是其他用户的1.36倍；\n",
    "已婚用户使用优惠券的概率是其他用户的0.87倍；\n",
    "使用信用卡付款的用户使用优惠券的概率是不使用信用卡用户的0.55倍；\n",
    "有退货行为的用户使用优惠券的概率是没有过退货行为用户的0.45倍。"
   ]
  },
  {
   "cell_type": "markdown",
   "id": "weekly-discrimination",
   "metadata": {},
   "source": [
    " ## 模型评估"
   ]
  },
  {
   "cell_type": "code",
   "execution_count": 293,
   "id": "absolute-twins",
   "metadata": {},
   "outputs": [],
   "source": [
    "# 用list保存各个模型的各种指标值\n",
    "model_name = []\n",
    "train_accs = []\n",
    "test_accs = []\n",
    "f1_scores = []\n",
    "precisions = []\n",
    "recalls = []\n",
    "AUCs = []"
   ]
  },
  {
   "cell_type": "code",
   "execution_count": 294,
   "id": "driven-chair",
   "metadata": {},
   "outputs": [],
   "source": [
    "import sklearn.metrics as metrics\n",
    "from sklearn.metrics import classification_report\n",
    "\n",
    "def evaluation_print(y_train, y_pred_train, y_test, y_pred_test):\n",
    "    # 训练集的准确率\n",
    "    train_acc = metrics.accuracy_score(y_train, y_pred_train)\n",
    "    train_accs.append(train_acc)\n",
    "    train_acc\n",
    "\n",
    "    def confusion_matrix_plot(y_true, y_pred):\n",
    "        data = metrics.confusion_matrix(y_true, y_pred)\n",
    "        sns.heatmap(data, annot=True, annot_kws={'size':20, 'weight':'bold'}, cbar=False, fmt='.20g')\n",
    "        plt.ylabel('True Label')\n",
    "        plt.xlabel('Predict Label')\n",
    "        plt.title('Confusion Matrix')\n",
    "\n",
    "    # 训练集的混淆矩阵\n",
    "    # confusion_matrix_plot(y_train, y_pred_train)\n",
    "\n",
    "    # 测试集的准确率\n",
    "    test_acc = metrics.accuracy_score(y_test, y_pred_test)\n",
    "    test_accs.append(test_acc)\n",
    "\n",
    "    # 测试集的混淆矩阵\n",
    "    # confusion_matrix_plot(y_test, y_pred_test)\n",
    "\n",
    "    # 测试集的precision\n",
    "    test_precision = metrics.precision_score(y_test, y_pred_test)\n",
    "    precisions.append(test_precision)\n",
    "\n",
    "\n",
    "    # 测试集的recall\n",
    "    test_recall = metrics.recall_score(y_test, y_pred_test)\n",
    "    recalls.append(test_recall)\n",
    "\n",
    "\n",
    "    # 测试集的f1-score\n",
    "    test_f1 = metrics.f1_score(y_test, y_pred_test)\n",
    "    f1_scores.append(test_f1)\n",
    "     # ROC/AUC评估-测试集\n",
    "    fpr2, tpr2, threshold2 = metrics.roc_curve(y_test, y_pred_test, pos_label=1)\n",
    "    test_auc = metrics.auc(fpr2,tpr2)\n",
    "    AUCs.append(test_auc)\n",
    "    \n",
    "    # 训练集的分类报告\n",
    "    print('训练集的分类报告：')\n",
    "    print(classification_report(y_train, y_pred_train))\n",
    "\n",
    "    # 测试集的分类报告\n",
    "    print('测试集的分类报告：')\n",
    "    print(classification_report(y_test, y_pred_test))\n",
    "\n",
    "    # 绘制ROC-测试集\n",
    "    plt.plot(fpr2, tpr2, marker='o')\n",
    "    plt.title('测试集ROC')\n",
    "    plt.show()\n",
    "\n",
    "    # 输出所有评估指标的值\n",
    "    print('train_acc\\t test_acc\\t precision\\t recall\\t\\t f1-score\\t AUC')\n",
    "    print('{:.4f}\\t\\t{:.4f}\\t\\t{:.4f}\\t\\t{:.4f}\\t\\t{:.4f}\\t\\t{:.4f}'.format(train_acc, test_acc, test_precision, test_recall, test_f1, test_auc))"
   ]
  },
  {
   "cell_type": "code",
   "execution_count": 295,
   "id": "integrated-arrest",
   "metadata": {},
   "outputs": [],
   "source": [
    "# 基于模型的结果，对训练集和测试集中的x的真实值预测对应的y\n",
    "y_pred_train = lr.predict(x_train)\n",
    "y_pred_test  = lr.predict(x_test)"
   ]
  },
  {
   "cell_type": "code",
   "execution_count": 296,
   "id": "naughty-baker",
   "metadata": {},
   "outputs": [
    {
     "data": {
      "text/plain": [
       "array([[15530,     6],\n",
       "       [ 1982,     5]], dtype=int64)"
      ]
     },
     "execution_count": 296,
     "metadata": {},
     "output_type": "execute_result"
    }
   ],
   "source": [
    "# 搭建训练集混淆矩阵\n",
    "import sklearn.metrics as metrics \n",
    "metrics.confusion_matrix(y_train,y_pred_train)"
   ]
  },
  {
   "cell_type": "code",
   "execution_count": 297,
   "id": "brown-tracker",
   "metadata": {},
   "outputs": [
    {
     "data": {
      "text/plain": [
       "0.88654910688809"
      ]
     },
     "execution_count": 297,
     "metadata": {},
     "output_type": "execute_result"
    }
   ],
   "source": [
    "# 计算训练集准确率\n",
    "metrics.accuracy_score(y_train,y_pred_train)"
   ]
  },
  {
   "cell_type": "code",
   "execution_count": 298,
   "id": "canadian-palestine",
   "metadata": {},
   "outputs": [
    {
     "data": {
      "text/plain": [
       "array([[6662,    4],\n",
       "       [ 843,    1]], dtype=int64)"
      ]
     },
     "execution_count": 298,
     "metadata": {},
     "output_type": "execute_result"
    }
   ],
   "source": [
    "# 搭建测试集混淆矩阵\n",
    "metrics.confusion_matrix(y_test,y_pred_test)"
   ]
  },
  {
   "cell_type": "code",
   "execution_count": 299,
   "id": "opened-planet",
   "metadata": {},
   "outputs": [
    {
     "data": {
      "text/plain": [
       "0.8872170439414114"
      ]
     },
     "execution_count": 299,
     "metadata": {},
     "output_type": "execute_result"
    }
   ],
   "source": [
    "# 计算测试集准确率\n",
    "metrics.accuracy_score(y_test,y_pred_test)"
   ]
  },
  {
   "cell_type": "code",
   "execution_count": 300,
   "id": "motivated-little",
   "metadata": {
    "scrolled": false
   },
   "outputs": [
    {
     "name": "stdout",
     "output_type": "stream",
     "text": [
      "训练集的分类报告：\n",
      "              precision    recall  f1-score   support\n",
      "\n",
      "           0       0.89      1.00      0.94     15536\n",
      "           1       0.45      0.00      0.01      1987\n",
      "\n",
      "    accuracy                           0.89     17523\n",
      "   macro avg       0.67      0.50      0.47     17523\n",
      "weighted avg       0.84      0.89      0.83     17523\n",
      "\n",
      "测试集的分类报告：\n",
      "              precision    recall  f1-score   support\n",
      "\n",
      "           0       0.89      1.00      0.94      6666\n",
      "           1       0.20      0.00      0.00       844\n",
      "\n",
      "    accuracy                           0.89      7510\n",
      "   macro avg       0.54      0.50      0.47      7510\n",
      "weighted avg       0.81      0.89      0.83      7510\n",
      "\n"
     ]
    },
    {
     "name": "stderr",
     "output_type": "stream",
     "text": [
      "C:\\Users\\GaoYi\\anaconda\\envs\\PDD\\lib\\site-packages\\matplotlib\\backends\\backend_agg.py:238: RuntimeWarning: Glyph 27979 missing from current font.\n",
      "  font.set_text(s, 0.0, flags=flags)\n",
      "C:\\Users\\GaoYi\\anaconda\\envs\\PDD\\lib\\site-packages\\matplotlib\\backends\\backend_agg.py:238: RuntimeWarning: Glyph 35797 missing from current font.\n",
      "  font.set_text(s, 0.0, flags=flags)\n",
      "C:\\Users\\GaoYi\\anaconda\\envs\\PDD\\lib\\site-packages\\matplotlib\\backends\\backend_agg.py:238: RuntimeWarning: Glyph 38598 missing from current font.\n",
      "  font.set_text(s, 0.0, flags=flags)\n",
      "C:\\Users\\GaoYi\\anaconda\\envs\\PDD\\lib\\site-packages\\matplotlib\\backends\\backend_agg.py:201: RuntimeWarning: Glyph 27979 missing from current font.\n",
      "  font.set_text(s, 0, flags=flags)\n",
      "C:\\Users\\GaoYi\\anaconda\\envs\\PDD\\lib\\site-packages\\matplotlib\\backends\\backend_agg.py:201: RuntimeWarning: Glyph 35797 missing from current font.\n",
      "  font.set_text(s, 0, flags=flags)\n",
      "C:\\Users\\GaoYi\\anaconda\\envs\\PDD\\lib\\site-packages\\matplotlib\\backends\\backend_agg.py:201: RuntimeWarning: Glyph 38598 missing from current font.\n",
      "  font.set_text(s, 0, flags=flags)\n"
     ]
    },
    {
     "data": {
      "image/png": "[encoded data removed]",
      "text/plain": [
       "<Figure size 432x288 with 1 Axes>"
      ]
     },
     "metadata": {
      "needs_background": "light"
     },
     "output_type": "display_data"
    },
    {
     "name": "stdout",
     "output_type": "stream",
     "text": [
      "train_acc\t test_acc\t precision\t recall\t\t f1-score\t AUC\n",
      "0.8865\t\t0.8872\t\t0.2000\t\t0.0012\t\t0.0024\t\t0.5003\n"
     ]
    }
   ],
   "source": [
    "model_name.append('AddVariable')\n",
    "evaluation_print(y_train, y_pred_train, y_test, y_pred_test)"
   ]
  },
  {
   "cell_type": "markdown",
   "id": "outdoor-terminology",
   "metadata": {},
   "source": [
    "AUC接近0.5，说明随机性太强。这是因为原始数据中不使用优惠券的认识比使用优惠券的人数多很多，需要考虑数据不均衡性。需要优化"
   ]
  },
  {
   "cell_type": "markdown",
   "id": "linear-cooling",
   "metadata": {},
   "source": [
    "发现训练集的准确率为0.8865，测试集的准确率为0.8872， 可以看到测试集中共有844人实际使用了优惠券，但预测结果中只有1人使用了优惠券，说明查全率偏低，模型效果不是很理想，需要进一步优化。"
   ]
  },
  {
   "cell_type": "markdown",
   "id": "developed-device",
   "metadata": {},
   "source": [
    "优化方向： \n",
    "1，调整参数，可以将测试集比例从0.3调整至0.5； \n",
    "2，调整变量，可以选择与更多的变量放入模型； \n",
    "3，数据处理，离群值处理，数据分组，如对年龄进行分组。\n",
    "4，改善数据不平衡\n",
    "RandomUnderSampler 随机下采样\n",
    "RandomOverSampler 随机上采样\n",
    "SMOTE 合成上采样\n",
    "SMOTEC 合成上采样\n",
    "BorderlineSMOTE 合成上采样\n",
    "RENN 下采样\n",
    "NearMiss 下采样\n",
    "SMOTEENN 上采样+下采样\n",
    "SMOTETomek 上采样+下采样"
   ]
  },
  {
   "cell_type": "markdown",
   "id": "separated-patch",
   "metadata": {},
   "source": [
    " ## 模型优化"
   ]
  },
  {
   "cell_type": "markdown",
   "id": "located-breakdown",
   "metadata": {},
   "source": [
    "  ### 调整参数"
   ]
  },
  {
   "cell_type": "markdown",
   "id": "expensive-biography",
   "metadata": {},
   "source": [
    "原始模型中test_size=0.3，现在将其改为0.5，其余不变\n",
    "调整后的AUC几乎没有变化，不予采用\n"
   ]
  },
  {
   "cell_type": "markdown",
   "id": "daily-screening",
   "metadata": {},
   "source": [
    "  ### 添加变量"
   ]
  },
  {
   "cell_type": "code",
   "execution_count": 301,
   "id": "prostate-elephant",
   "metadata": {},
   "outputs": [],
   "source": [
    "# 把所有变量都放进模型\n",
    "x = pdd_clean.drop('coupon_ind', axis=1)\n",
    "y = pdd_clean['coupon_ind']\n",
    "x_train, x_test, y_train, y_test = train_test_split(x, y, test_size=0.3, random_state=100)"
   ]
  },
  {
   "cell_type": "code",
   "execution_count": 302,
   "id": "given-rental",
   "metadata": {},
   "outputs": [
    {
     "data": {
      "text/plain": [
       "LogisticRegression(random_state=7)"
      ]
     },
     "execution_count": 302,
     "metadata": {},
     "output_type": "execute_result"
    }
   ],
   "source": [
    "lr.fit(x_train, y_train)"
   ]
  },
  {
   "cell_type": "code",
   "execution_count": 303,
   "id": "handed-water",
   "metadata": {},
   "outputs": [],
   "source": [
    "y_pred_train = lr.predict(x_train)\n",
    "y_pred_test  = lr.predict(x_test)"
   ]
  },
  {
   "cell_type": "code",
   "execution_count": 304,
   "id": "confident-disability",
   "metadata": {},
   "outputs": [
    {
     "name": "stdout",
     "output_type": "stream",
     "text": [
      "训练集的分类报告：\n",
      "              precision    recall  f1-score   support\n",
      "\n",
      "           0       0.89      1.00      0.94     15536\n",
      "           1       0.42      0.02      0.03      1987\n",
      "\n",
      "    accuracy                           0.89     17523\n",
      "   macro avg       0.66      0.51      0.48     17523\n",
      "weighted avg       0.84      0.89      0.84     17523\n",
      "\n",
      "测试集的分类报告：\n",
      "              precision    recall  f1-score   support\n",
      "\n",
      "           0       0.89      1.00      0.94      6666\n",
      "           1       0.43      0.02      0.03       844\n",
      "\n",
      "    accuracy                           0.89      7510\n",
      "   macro avg       0.66      0.51      0.48      7510\n",
      "weighted avg       0.84      0.89      0.84      7510\n",
      "\n"
     ]
    },
    {
     "name": "stderr",
     "output_type": "stream",
     "text": [
      "C:\\Users\\GaoYi\\anaconda\\envs\\PDD\\lib\\site-packages\\matplotlib\\backends\\backend_agg.py:238: RuntimeWarning: Glyph 27979 missing from current font.\n",
      "  font.set_text(s, 0.0, flags=flags)\n",
      "C:\\Users\\GaoYi\\anaconda\\envs\\PDD\\lib\\site-packages\\matplotlib\\backends\\backend_agg.py:238: RuntimeWarning: Glyph 35797 missing from current font.\n",
      "  font.set_text(s, 0.0, flags=flags)\n",
      "C:\\Users\\GaoYi\\anaconda\\envs\\PDD\\lib\\site-packages\\matplotlib\\backends\\backend_agg.py:238: RuntimeWarning: Glyph 38598 missing from current font.\n",
      "  font.set_text(s, 0.0, flags=flags)\n",
      "C:\\Users\\GaoYi\\anaconda\\envs\\PDD\\lib\\site-packages\\matplotlib\\backends\\backend_agg.py:201: RuntimeWarning: Glyph 27979 missing from current font.\n",
      "  font.set_text(s, 0, flags=flags)\n",
      "C:\\Users\\GaoYi\\anaconda\\envs\\PDD\\lib\\site-packages\\matplotlib\\backends\\backend_agg.py:201: RuntimeWarning: Glyph 35797 missing from current font.\n",
      "  font.set_text(s, 0, flags=flags)\n",
      "C:\\Users\\GaoYi\\anaconda\\envs\\PDD\\lib\\site-packages\\matplotlib\\backends\\backend_agg.py:201: RuntimeWarning: Glyph 38598 missing from current font.\n",
      "  font.set_text(s, 0, flags=flags)\n"
     ]
    },
    {
     "data": {
      "image/png": "[encoded data removed]",
      "text/plain": [
       "<Figure size 432x288 with 1 Axes>"
      ]
     },
     "metadata": {
      "needs_background": "light"
     },
     "output_type": "display_data"
    },
    {
     "name": "stdout",
     "output_type": "stream",
     "text": [
      "train_acc\t test_acc\t precision\t recall\t\t f1-score\t AUC\n",
      "0.8860\t\t0.8871\t\t0.4333\t\t0.0154\t\t0.0297\t\t0.5064\n"
     ]
    }
   ],
   "source": [
    "model_name.append('AddVariable')\n",
    "evaluation_print(y_train, y_pred_train, y_test, y_pred_test)"
   ]
  },
  {
   "cell_type": "markdown",
   "id": "republican-conflict",
   "metadata": {},
   "source": [
    "并没有明显提升，不予采用"
   ]
  },
  {
   "cell_type": "markdown",
   "id": "promotional-mathematics",
   "metadata": {},
   "source": [
    "  ### 更改损失函数的类别权重\n",
    "  更改权重就是针对不同类别的数据设置不同的分错代价，即提高少数类分错的代价或降低多数类分错的代价，最终使各类别平衡。\n",
    "  常用的机器学习训练方法中，很多都提供了权重设置参数class_weight，可以手动设置该参数，但一般情况下只需要将其设置为balanced即可"
   ]
  },
  {
   "cell_type": "code",
   "execution_count": 305,
   "id": "computational-roots",
   "metadata": {
    "scrolled": true
   },
   "outputs": [
    {
     "name": "stdout",
     "output_type": "stream",
     "text": [
      "训练集的分类报告：\n",
      "              precision    recall  f1-score   support\n",
      "\n",
      "           0       0.93      0.60      0.73     15536\n",
      "           1       0.17      0.64      0.27      1987\n",
      "\n",
      "    accuracy                           0.60     17523\n",
      "   macro avg       0.55      0.62      0.50     17523\n",
      "weighted avg       0.84      0.60      0.68     17523\n",
      "\n",
      "测试集的分类报告：\n",
      "              precision    recall  f1-score   support\n",
      "\n",
      "           0       0.93      0.61      0.73      6666\n",
      "           1       0.17      0.63      0.27       844\n",
      "\n",
      "    accuracy                           0.61      7510\n",
      "   macro avg       0.55      0.62      0.50      7510\n",
      "weighted avg       0.84      0.61      0.68      7510\n",
      "\n"
     ]
    },
    {
     "name": "stderr",
     "output_type": "stream",
     "text": [
      "C:\\Users\\GaoYi\\anaconda\\envs\\PDD\\lib\\site-packages\\matplotlib\\backends\\backend_agg.py:238: RuntimeWarning: Glyph 27979 missing from current font.\n",
      "  font.set_text(s, 0.0, flags=flags)\n",
      "C:\\Users\\GaoYi\\anaconda\\envs\\PDD\\lib\\site-packages\\matplotlib\\backends\\backend_agg.py:238: RuntimeWarning: Glyph 35797 missing from current font.\n",
      "  font.set_text(s, 0.0, flags=flags)\n",
      "C:\\Users\\GaoYi\\anaconda\\envs\\PDD\\lib\\site-packages\\matplotlib\\backends\\backend_agg.py:238: RuntimeWarning: Glyph 38598 missing from current font.\n",
      "  font.set_text(s, 0.0, flags=flags)\n",
      "C:\\Users\\GaoYi\\anaconda\\envs\\PDD\\lib\\site-packages\\matplotlib\\backends\\backend_agg.py:201: RuntimeWarning: Glyph 27979 missing from current font.\n",
      "  font.set_text(s, 0, flags=flags)\n",
      "C:\\Users\\GaoYi\\anaconda\\envs\\PDD\\lib\\site-packages\\matplotlib\\backends\\backend_agg.py:201: RuntimeWarning: Glyph 35797 missing from current font.\n",
      "  font.set_text(s, 0, flags=flags)\n",
      "C:\\Users\\GaoYi\\anaconda\\envs\\PDD\\lib\\site-packages\\matplotlib\\backends\\backend_agg.py:201: RuntimeWarning: Glyph 38598 missing from current font.\n",
      "  font.set_text(s, 0, flags=flags)\n"
     ]
    },
    {
     "data": {
      "image/png": "[encoded data removed]",
      "text/plain": [
       "<Figure size 432x288 with 1 Axes>"
      ]
     },
     "metadata": {
      "needs_background": "light"
     },
     "output_type": "display_data"
    },
    {
     "name": "stdout",
     "output_type": "stream",
     "text": [
      "train_acc\t test_acc\t precision\t recall\t\t f1-score\t AUC\n",
      "0.6040\t\t0.6084\t\t0.1685\t\t0.6315\t\t0.2660\t\t0.6185\n"
     ]
    }
   ],
   "source": [
    "# x,y恢复到原始模型的变量\n",
    "x = pdd_clean[var]\n",
    "y = pdd_clean['coupon_ind']\n",
    "\n",
    "lr = linear_model.LogisticRegression(random_state=7, class_weight='balanced')  \n",
    "# 数据集分割7:3\n",
    "x_train, x_test, y_train, y_test = train_test_split(x, y, test_size=0.3, random_state=100)\n",
    "\n",
    "# 模型拟合\n",
    "lr.fit(x_train, y_train)\n",
    "\n",
    "# 模型预测\n",
    "y_pred_train = lr.predict(x_train)\n",
    "y_pred_test  = lr.predict(x_test)\n",
    "\n",
    "model_name.append('Balanced')\n",
    "evaluation_print(y_train, y_pred_train, y_test, y_pred_test)"
   ]
  },
  {
   "cell_type": "markdown",
   "id": "premium-mission",
   "metadata": {},
   "source": [
    "AUC从0.5上升为0.61，稍微有一定的优化"
   ]
  },
  {
   "cell_type": "markdown",
   "id": "filled-picnic",
   "metadata": {},
   "source": [
    "  ### 改善数据不平衡"
   ]
  },
  {
   "cell_type": "markdown",
   "id": "proper-pregnancy",
   "metadata": {},
   "source": [
    "随机的采样\n",
    " RandomUnderSampler 随机下采样\n",
    " RandomOverSampler 随机上采样\n",
    "改进的采样\n",
    " 上采样\n",
    "   SMOTE\n",
    "   ADASYN\n",
    "   BorderlineSMOTE\n",
    " 下采样\n",
    "   RENN\n",
    "   NearMiss\n",
    "组合采样\n",
    "  SMOTEENN\n",
    "  SMOTETomek"
   ]
  },
  {
   "cell_type": "markdown",
   "id": "athletic-weapon",
   "metadata": {},
   "source": [
    "RandomUnderSampler 随机下采样"
   ]
  },
  {
   "cell_type": "code",
   "execution_count": 306,
   "id": "thrown-federation",
   "metadata": {},
   "outputs": [],
   "source": [
    "lr = linear_model.LogisticRegression(random_state=7)"
   ]
  },
  {
   "cell_type": "code",
   "execution_count": 307,
   "id": "decimal-equality",
   "metadata": {
    "scrolled": true
   },
   "outputs": [
    {
     "name": "stdout",
     "output_type": "stream",
     "text": [
      "训练集的分类报告：\n",
      "              precision    recall  f1-score   support\n",
      "\n",
      "           0       0.63      0.60      0.62      1987\n",
      "           1       0.62      0.64      0.63      1987\n",
      "\n",
      "    accuracy                           0.62      3974\n",
      "   macro avg       0.62      0.62      0.62      3974\n",
      "weighted avg       0.62      0.62      0.62      3974\n",
      "\n",
      "测试集的分类报告：\n",
      "              precision    recall  f1-score   support\n",
      "\n",
      "           0       0.93      0.61      0.73      6666\n",
      "           1       0.17      0.63      0.27       844\n",
      "\n",
      "    accuracy                           0.61      7510\n",
      "   macro avg       0.55      0.62      0.50      7510\n",
      "weighted avg       0.84      0.61      0.68      7510\n",
      "\n"
     ]
    },
    {
     "name": "stderr",
     "output_type": "stream",
     "text": [
      "C:\\Users\\GaoYi\\anaconda\\envs\\PDD\\lib\\site-packages\\matplotlib\\backends\\backend_agg.py:238: RuntimeWarning: Glyph 27979 missing from current font.\n",
      "  font.set_text(s, 0.0, flags=flags)\n",
      "C:\\Users\\GaoYi\\anaconda\\envs\\PDD\\lib\\site-packages\\matplotlib\\backends\\backend_agg.py:238: RuntimeWarning: Glyph 35797 missing from current font.\n",
      "  font.set_text(s, 0.0, flags=flags)\n",
      "C:\\Users\\GaoYi\\anaconda\\envs\\PDD\\lib\\site-packages\\matplotlib\\backends\\backend_agg.py:238: RuntimeWarning: Glyph 38598 missing from current font.\n",
      "  font.set_text(s, 0.0, flags=flags)\n",
      "C:\\Users\\GaoYi\\anaconda\\envs\\PDD\\lib\\site-packages\\matplotlib\\backends\\backend_agg.py:201: RuntimeWarning: Glyph 27979 missing from current font.\n",
      "  font.set_text(s, 0, flags=flags)\n",
      "C:\\Users\\GaoYi\\anaconda\\envs\\PDD\\lib\\site-packages\\matplotlib\\backends\\backend_agg.py:201: RuntimeWarning: Glyph 35797 missing from current font.\n",
      "  font.set_text(s, 0, flags=flags)\n",
      "C:\\Users\\GaoYi\\anaconda\\envs\\PDD\\lib\\site-packages\\matplotlib\\backends\\backend_agg.py:201: RuntimeWarning: Glyph 38598 missing from current font.\n",
      "  font.set_text(s, 0, flags=flags)\n"
     ]
    },
    {
     "data": {
      "image/png": "[encoded data removed]",
      "text/plain": [
       "<Figure size 432x288 with 1 Axes>"
      ]
     },
     "metadata": {
      "needs_background": "light"
     },
     "output_type": "display_data"
    },
    {
     "name": "stdout",
     "output_type": "stream",
     "text": [
      "train_acc\t test_acc\t precision\t recall\t\t f1-score\t AUC\n",
      "0.6246\t\t0.6084\t\t0.1685\t\t0.6315\t\t0.2660\t\t0.6185\n"
     ]
    }
   ],
   "source": [
    "from imblearn.under_sampling import RandomUnderSampler\n",
    "rus = RandomUnderSampler(random_state=42)\n",
    "\n",
    "\n",
    "# 数据集分割7:3\n",
    "x_train, x_test, y_train, y_test = train_test_split(x, y, test_size=0.3, random_state=100)\n",
    "x_train, y_train = rus.fit_resample(x_train, y_train)\n",
    "\n",
    "# 模型拟合\n",
    "lr.fit(x_train, y_train)\n",
    "\n",
    "# 模型预测\n",
    "y_pred_train = lr.predict(x_train)\n",
    "y_pred_test  = lr.predict(x_test)\n",
    "\n",
    "model_name.append('RandomUnderSampler')\n",
    "evaluation_print(y_train, y_pred_train, y_test, y_pred_test)"
   ]
  },
  {
   "cell_type": "markdown",
   "id": "fewer-sense",
   "metadata": {},
   "source": [
    "RandomOverSampler 随机上采样"
   ]
  },
  {
   "cell_type": "code",
   "execution_count": 308,
   "id": "interim-austria",
   "metadata": {
    "scrolled": true
   },
   "outputs": [
    {
     "name": "stdout",
     "output_type": "stream",
     "text": [
      "训练集的分类报告：\n",
      "              precision    recall  f1-score   support\n",
      "\n",
      "           0       0.63      0.60      0.61     15536\n",
      "           1       0.62      0.65      0.63     15536\n",
      "\n",
      "    accuracy                           0.62     31072\n",
      "   macro avg       0.62      0.62      0.62     31072\n",
      "weighted avg       0.62      0.62      0.62     31072\n",
      "\n",
      "测试集的分类报告：\n",
      "              precision    recall  f1-score   support\n",
      "\n",
      "           0       0.93      0.61      0.73      6666\n",
      "           1       0.17      0.63      0.27       844\n",
      "\n",
      "    accuracy                           0.61      7510\n",
      "   macro avg       0.55      0.62      0.50      7510\n",
      "weighted avg       0.84      0.61      0.68      7510\n",
      "\n"
     ]
    },
    {
     "name": "stderr",
     "output_type": "stream",
     "text": [
      "C:\\Users\\GaoYi\\anaconda\\envs\\PDD\\lib\\site-packages\\matplotlib\\backends\\backend_agg.py:238: RuntimeWarning: Glyph 27979 missing from current font.\n",
      "  font.set_text(s, 0.0, flags=flags)\n",
      "C:\\Users\\GaoYi\\anaconda\\envs\\PDD\\lib\\site-packages\\matplotlib\\backends\\backend_agg.py:238: RuntimeWarning: Glyph 35797 missing from current font.\n",
      "  font.set_text(s, 0.0, flags=flags)\n",
      "C:\\Users\\GaoYi\\anaconda\\envs\\PDD\\lib\\site-packages\\matplotlib\\backends\\backend_agg.py:238: RuntimeWarning: Glyph 38598 missing from current font.\n",
      "  font.set_text(s, 0.0, flags=flags)\n",
      "C:\\Users\\GaoYi\\anaconda\\envs\\PDD\\lib\\site-packages\\matplotlib\\backends\\backend_agg.py:201: RuntimeWarning: Glyph 27979 missing from current font.\n",
      "  font.set_text(s, 0, flags=flags)\n",
      "C:\\Users\\GaoYi\\anaconda\\envs\\PDD\\lib\\site-packages\\matplotlib\\backends\\backend_agg.py:201: RuntimeWarning: Glyph 35797 missing from current font.\n",
      "  font.set_text(s, 0, flags=flags)\n",
      "C:\\Users\\GaoYi\\anaconda\\envs\\PDD\\lib\\site-packages\\matplotlib\\backends\\backend_agg.py:201: RuntimeWarning: Glyph 38598 missing from current font.\n",
      "  font.set_text(s, 0, flags=flags)\n"
     ]
    },
    {
     "data": {
      "image/png": "[encoded data removed]",
      "text/plain": [
       "<Figure size 432x288 with 1 Axes>"
      ]
     },
     "metadata": {
      "needs_background": "light"
     },
     "output_type": "display_data"
    },
    {
     "name": "stdout",
     "output_type": "stream",
     "text": [
      "train_acc\t test_acc\t precision\t recall\t\t f1-score\t AUC\n",
      "0.6227\t\t0.6084\t\t0.1685\t\t0.6315\t\t0.2660\t\t0.6185\n"
     ]
    }
   ],
   "source": [
    "from imblearn.over_sampling import RandomOverSampler\n",
    "ros = RandomOverSampler(random_state=42)\n",
    "\n",
    "# 数据集分割7:3\n",
    "x_train, x_test, y_train, y_test = train_test_split(x, y, test_size=0.3, random_state=100)\n",
    "x_train, y_train = ros.fit_resample(x_train, y_train)\n",
    "\n",
    "# 模型拟合\n",
    "lr.fit(x_train, y_train)\n",
    "\n",
    "# 模型预测\n",
    "y_pred_train = lr.predict(x_train)\n",
    "y_pred_test  = lr.predict(x_test)\n",
    "\n",
    "model_name.append('RandomOverSampler')\n",
    "evaluation_print(y_train, y_pred_train, y_test, y_pred_test)"
   ]
  },
  {
   "cell_type": "markdown",
   "id": "downtown-associate",
   "metadata": {},
   "source": [
    "AUC=0.62"
   ]
  },
  {
   "cell_type": "markdown",
   "id": "dirty-coast",
   "metadata": {},
   "source": [
    "SMOTE 上采样"
   ]
  },
  {
   "cell_type": "code",
   "execution_count": 309,
   "id": "competitive-defensive",
   "metadata": {
    "scrolled": true
   },
   "outputs": [
    {
     "name": "stdout",
     "output_type": "stream",
     "text": [
      "训练集的分类报告：\n",
      "              precision    recall  f1-score   support\n",
      "\n",
      "           0       0.57      0.64      0.61     15536\n",
      "           1       0.59      0.52      0.55     15536\n",
      "\n",
      "    accuracy                           0.58     31072\n",
      "   macro avg       0.58      0.58      0.58     31072\n",
      "weighted avg       0.58      0.58      0.58     31072\n",
      "\n",
      "测试集的分类报告：\n",
      "              precision    recall  f1-score   support\n",
      "\n",
      "           0       0.91      0.64      0.75      6666\n",
      "           1       0.15      0.50      0.23       844\n",
      "\n",
      "    accuracy                           0.63      7510\n",
      "   macro avg       0.53      0.57      0.49      7510\n",
      "weighted avg       0.83      0.63      0.70      7510\n",
      "\n"
     ]
    },
    {
     "name": "stderr",
     "output_type": "stream",
     "text": [
      "C:\\Users\\GaoYi\\anaconda\\envs\\PDD\\lib\\site-packages\\matplotlib\\backends\\backend_agg.py:238: RuntimeWarning: Glyph 27979 missing from current font.\n",
      "  font.set_text(s, 0.0, flags=flags)\n",
      "C:\\Users\\GaoYi\\anaconda\\envs\\PDD\\lib\\site-packages\\matplotlib\\backends\\backend_agg.py:238: RuntimeWarning: Glyph 35797 missing from current font.\n",
      "  font.set_text(s, 0.0, flags=flags)\n",
      "C:\\Users\\GaoYi\\anaconda\\envs\\PDD\\lib\\site-packages\\matplotlib\\backends\\backend_agg.py:238: RuntimeWarning: Glyph 38598 missing from current font.\n",
      "  font.set_text(s, 0.0, flags=flags)\n",
      "C:\\Users\\GaoYi\\anaconda\\envs\\PDD\\lib\\site-packages\\matplotlib\\backends\\backend_agg.py:201: RuntimeWarning: Glyph 27979 missing from current font.\n",
      "  font.set_text(s, 0, flags=flags)\n",
      "C:\\Users\\GaoYi\\anaconda\\envs\\PDD\\lib\\site-packages\\matplotlib\\backends\\backend_agg.py:201: RuntimeWarning: Glyph 35797 missing from current font.\n",
      "  font.set_text(s, 0, flags=flags)\n",
      "C:\\Users\\GaoYi\\anaconda\\envs\\PDD\\lib\\site-packages\\matplotlib\\backends\\backend_agg.py:201: RuntimeWarning: Glyph 38598 missing from current font.\n",
      "  font.set_text(s, 0, flags=flags)\n"
     ]
    },
    {
     "data": {
      "image/png": "[encoded data removed]",
      "text/plain": [
       "<Figure size 432x288 with 1 Axes>"
      ]
     },
     "metadata": {
      "needs_background": "light"
     },
     "output_type": "display_data"
    },
    {
     "name": "stdout",
     "output_type": "stream",
     "text": [
      "train_acc\t test_acc\t precision\t recall\t\t f1-score\t AUC\n",
      "0.5809\t\t0.6274\t\t0.1518\t\t0.5047\t\t0.2334\t\t0.5739\n"
     ]
    }
   ],
   "source": [
    "from imblearn.over_sampling import SMOTE\n",
    "smote = SMOTE(random_state=42)\n",
    "\n",
    "\n",
    "# 数据集分割7:3\n",
    "x_train, x_test, y_train, y_test = train_test_split(x, y, test_size=0.3, random_state=100)\n",
    "x_train, y_train = smote.fit_resample(x_train, y_train)\n",
    "\n",
    "# 模型拟合\n",
    "lr.fit(x_train, y_train)\n",
    "\n",
    "# 模型预测\n",
    "y_pred_train = lr.predict(x_train)\n",
    "y_pred_test  = lr.predict(x_test)\n",
    "\n",
    "model_name.append('SMOTE')\n",
    "evaluation_print(y_train, y_pred_train, y_test, y_pred_test)"
   ]
  },
  {
   "cell_type": "markdown",
   "id": "colored-comparison",
   "metadata": {},
   "source": [
    "AUC=0.56,舍弃"
   ]
  },
  {
   "cell_type": "markdown",
   "id": "underlying-london",
   "metadata": {},
   "source": [
    "ADASYN上采样"
   ]
  },
  {
   "cell_type": "code",
   "execution_count": 310,
   "id": "saving-south",
   "metadata": {
    "scrolled": true
   },
   "outputs": [
    {
     "name": "stdout",
     "output_type": "stream",
     "text": [
      "训练集的分类报告：\n",
      "              precision    recall  f1-score   support\n",
      "\n",
      "           0       0.55      0.62      0.58     15536\n",
      "           1       0.56      0.49      0.52     15568\n",
      "\n",
      "    accuracy                           0.56     31104\n",
      "   macro avg       0.56      0.56      0.55     31104\n",
      "weighted avg       0.56      0.56      0.55     31104\n",
      "\n",
      "测试集的分类报告：\n",
      "              precision    recall  f1-score   support\n",
      "\n",
      "           0       0.91      0.62      0.74      6666\n",
      "           1       0.15      0.52      0.23       844\n",
      "\n",
      "    accuracy                           0.61      7510\n",
      "   macro avg       0.53      0.57      0.48      7510\n",
      "weighted avg       0.82      0.61      0.68      7510\n",
      "\n"
     ]
    },
    {
     "name": "stderr",
     "output_type": "stream",
     "text": [
      "C:\\Users\\GaoYi\\anaconda\\envs\\PDD\\lib\\site-packages\\matplotlib\\backends\\backend_agg.py:238: RuntimeWarning: Glyph 27979 missing from current font.\n",
      "  font.set_text(s, 0.0, flags=flags)\n",
      "C:\\Users\\GaoYi\\anaconda\\envs\\PDD\\lib\\site-packages\\matplotlib\\backends\\backend_agg.py:238: RuntimeWarning: Glyph 35797 missing from current font.\n",
      "  font.set_text(s, 0.0, flags=flags)\n",
      "C:\\Users\\GaoYi\\anaconda\\envs\\PDD\\lib\\site-packages\\matplotlib\\backends\\backend_agg.py:238: RuntimeWarning: Glyph 38598 missing from current font.\n",
      "  font.set_text(s, 0.0, flags=flags)\n",
      "C:\\Users\\GaoYi\\anaconda\\envs\\PDD\\lib\\site-packages\\matplotlib\\backends\\backend_agg.py:201: RuntimeWarning: Glyph 27979 missing from current font.\n",
      "  font.set_text(s, 0, flags=flags)\n",
      "C:\\Users\\GaoYi\\anaconda\\envs\\PDD\\lib\\site-packages\\matplotlib\\backends\\backend_agg.py:201: RuntimeWarning: Glyph 35797 missing from current font.\n",
      "  font.set_text(s, 0, flags=flags)\n",
      "C:\\Users\\GaoYi\\anaconda\\envs\\PDD\\lib\\site-packages\\matplotlib\\backends\\backend_agg.py:201: RuntimeWarning: Glyph 38598 missing from current font.\n",
      "  font.set_text(s, 0, flags=flags)\n"
     ]
    },
    {
     "data": {
      "image/png": "[encoded data removed]",
      "text/plain": [
       "<Figure size 432x288 with 1 Axes>"
      ]
     },
     "metadata": {
      "needs_background": "light"
     },
     "output_type": "display_data"
    },
    {
     "name": "stdout",
     "output_type": "stream",
     "text": [
      "train_acc\t test_acc\t precision\t recall\t\t f1-score\t AUC\n",
      "0.5551\t\t0.6111\t\t0.1478\t\t0.5166\t\t0.2299\t\t0.5698\n"
     ]
    }
   ],
   "source": [
    "from imblearn.over_sampling import ADASYN\n",
    "adasyn = ADASYN(random_state=42)\n",
    "\n",
    "# 数据集分割7:3\n",
    "x_train, x_test, y_train, y_test = train_test_split(x, y, test_size=0.3, random_state=100)\n",
    "x_train, y_train = adasyn.fit_resample(x_train, y_train)\n",
    "\n",
    "# 模型拟合\n",
    "lr.fit(x_train, y_train)\n",
    "\n",
    "# 模型预测\n",
    "y_pred_train = lr.predict(x_train)\n",
    "y_pred_test  = lr.predict(x_test)\n",
    "\n",
    "model_name.append('ADASYN')\n",
    "evaluation_print(y_train, y_pred_train, y_test, y_pred_test)"
   ]
  },
  {
   "cell_type": "markdown",
   "id": "whole-network",
   "metadata": {},
   "source": [
    "AUC=0.55,舍弃"
   ]
  },
  {
   "cell_type": "markdown",
   "id": "stylish-district",
   "metadata": {},
   "source": [
    "BorderlineSMOTE上采样"
   ]
  },
  {
   "cell_type": "code",
   "execution_count": 311,
   "id": "progressive-prototype",
   "metadata": {
    "scrolled": true
   },
   "outputs": [
    {
     "name": "stdout",
     "output_type": "stream",
     "text": [
      "训练集的分类报告：\n",
      "              precision    recall  f1-score   support\n",
      "\n",
      "           0       0.62      0.64      0.63     15536\n",
      "           1       0.63      0.60      0.61     15536\n",
      "\n",
      "    accuracy                           0.62     31072\n",
      "   macro avg       0.62      0.62      0.62     31072\n",
      "weighted avg       0.62      0.62      0.62     31072\n",
      "\n",
      "测试集的分类报告：\n",
      "              precision    recall  f1-score   support\n",
      "\n",
      "           0       0.91      0.64      0.75      6666\n",
      "           1       0.15      0.50      0.23       844\n",
      "\n",
      "    accuracy                           0.63      7510\n",
      "   macro avg       0.53      0.57      0.49      7510\n",
      "weighted avg       0.83      0.63      0.70      7510\n",
      "\n"
     ]
    },
    {
     "name": "stderr",
     "output_type": "stream",
     "text": [
      "C:\\Users\\GaoYi\\anaconda\\envs\\PDD\\lib\\site-packages\\matplotlib\\backends\\backend_agg.py:238: RuntimeWarning: Glyph 27979 missing from current font.\n",
      "  font.set_text(s, 0.0, flags=flags)\n",
      "C:\\Users\\GaoYi\\anaconda\\envs\\PDD\\lib\\site-packages\\matplotlib\\backends\\backend_agg.py:238: RuntimeWarning: Glyph 35797 missing from current font.\n",
      "  font.set_text(s, 0.0, flags=flags)\n",
      "C:\\Users\\GaoYi\\anaconda\\envs\\PDD\\lib\\site-packages\\matplotlib\\backends\\backend_agg.py:238: RuntimeWarning: Glyph 38598 missing from current font.\n",
      "  font.set_text(s, 0.0, flags=flags)\n",
      "C:\\Users\\GaoYi\\anaconda\\envs\\PDD\\lib\\site-packages\\matplotlib\\backends\\backend_agg.py:201: RuntimeWarning: Glyph 27979 missing from current font.\n",
      "  font.set_text(s, 0, flags=flags)\n",
      "C:\\Users\\GaoYi\\anaconda\\envs\\PDD\\lib\\site-packages\\matplotlib\\backends\\backend_agg.py:201: RuntimeWarning: Glyph 35797 missing from current font.\n",
      "  font.set_text(s, 0, flags=flags)\n",
      "C:\\Users\\GaoYi\\anaconda\\envs\\PDD\\lib\\site-packages\\matplotlib\\backends\\backend_agg.py:201: RuntimeWarning: Glyph 38598 missing from current font.\n",
      "  font.set_text(s, 0, flags=flags)\n"
     ]
    },
    {
     "data": {
      "image/png": "[encoded data removed]",
      "text/plain": [
       "<Figure size 432x288 with 1 Axes>"
      ]
     },
     "metadata": {
      "needs_background": "light"
     },
     "output_type": "display_data"
    },
    {
     "name": "stdout",
     "output_type": "stream",
     "text": [
      "train_acc\t test_acc\t precision\t recall\t\t f1-score\t AUC\n",
      "0.6215\t\t0.6274\t\t0.1518\t\t0.5047\t\t0.2334\t\t0.5739\n"
     ]
    }
   ],
   "source": [
    "from imblearn.over_sampling import BorderlineSMOTE\n",
    "bsmote = BorderlineSMOTE(random_state=42)\n",
    "\n",
    "\n",
    "# 数据集分割7:3\n",
    "x_train, x_test, y_train, y_test = train_test_split(x, y, test_size=0.3, random_state=100)\n",
    "x_train, y_train = bsmote.fit_resample(x_train, y_train)\n",
    "\n",
    "# 模型拟合\n",
    "lr.fit(x_train, y_train)\n",
    "\n",
    "# 模型预测\n",
    "y_pred_train = lr.predict(x_train)\n",
    "y_pred_test  = lr.predict(x_test)\n",
    "\n",
    "model_name.append('BorderlineSMOTE')\n",
    "evaluation_print(y_train, y_pred_train, y_test, y_pred_test)"
   ]
  },
  {
   "cell_type": "markdown",
   "id": "anonymous-usage",
   "metadata": {},
   "source": [
    "AUC=0.60,舍弃"
   ]
  },
  {
   "cell_type": "markdown",
   "id": "identified-insertion",
   "metadata": {},
   "source": [
    "RENN下采样"
   ]
  },
  {
   "cell_type": "code",
   "execution_count": 312,
   "id": "loving-remains",
   "metadata": {
    "scrolled": true
   },
   "outputs": [
    {
     "name": "stdout",
     "output_type": "stream",
     "text": [
      "训练集的分类报告：\n",
      "              precision    recall  f1-score   support\n",
      "\n",
      "           0       0.91      1.00      0.95      8746\n",
      "           1       0.98      0.59      0.73      1987\n",
      "\n",
      "    accuracy                           0.92     10733\n",
      "   macro avg       0.95      0.79      0.84     10733\n",
      "weighted avg       0.93      0.92      0.91     10733\n",
      "\n",
      "测试集的分类报告：\n",
      "              precision    recall  f1-score   support\n",
      "\n",
      "           0       0.92      0.65      0.77      6666\n",
      "           1       0.17      0.58      0.27       844\n",
      "\n",
      "    accuracy                           0.65      7510\n",
      "   macro avg       0.55      0.62      0.52      7510\n",
      "weighted avg       0.84      0.65      0.71      7510\n",
      "\n"
     ]
    },
    {
     "name": "stderr",
     "output_type": "stream",
     "text": [
      "C:\\Users\\GaoYi\\anaconda\\envs\\PDD\\lib\\site-packages\\matplotlib\\backends\\backend_agg.py:238: RuntimeWarning: Glyph 27979 missing from current font.\n",
      "  font.set_text(s, 0.0, flags=flags)\n",
      "C:\\Users\\GaoYi\\anaconda\\envs\\PDD\\lib\\site-packages\\matplotlib\\backends\\backend_agg.py:238: RuntimeWarning: Glyph 35797 missing from current font.\n",
      "  font.set_text(s, 0.0, flags=flags)\n",
      "C:\\Users\\GaoYi\\anaconda\\envs\\PDD\\lib\\site-packages\\matplotlib\\backends\\backend_agg.py:238: RuntimeWarning: Glyph 38598 missing from current font.\n",
      "  font.set_text(s, 0.0, flags=flags)\n",
      "C:\\Users\\GaoYi\\anaconda\\envs\\PDD\\lib\\site-packages\\matplotlib\\backends\\backend_agg.py:201: RuntimeWarning: Glyph 27979 missing from current font.\n",
      "  font.set_text(s, 0, flags=flags)\n",
      "C:\\Users\\GaoYi\\anaconda\\envs\\PDD\\lib\\site-packages\\matplotlib\\backends\\backend_agg.py:201: RuntimeWarning: Glyph 35797 missing from current font.\n",
      "  font.set_text(s, 0, flags=flags)\n",
      "C:\\Users\\GaoYi\\anaconda\\envs\\PDD\\lib\\site-packages\\matplotlib\\backends\\backend_agg.py:201: RuntimeWarning: Glyph 38598 missing from current font.\n",
      "  font.set_text(s, 0, flags=flags)\n"
     ]
    },
    {
     "data": {
      "image/png": "[encoded data removed]",
      "text/plain": [
       "<Figure size 432x288 with 1 Axes>"
      ]
     },
     "metadata": {
      "needs_background": "light"
     },
     "output_type": "display_data"
    },
    {
     "name": "stdout",
     "output_type": "stream",
     "text": [
      "train_acc\t test_acc\t precision\t recall\t\t f1-score\t AUC\n",
      "0.9213\t\t0.6458\t\t0.1746\t\t0.5770\t\t0.2680\t\t0.6158\n"
     ]
    }
   ],
   "source": [
    "from imblearn.under_sampling import RepeatedEditedNearestNeighbours\n",
    "renn = RepeatedEditedNearestNeighbours()\n",
    "\n",
    "\n",
    "# 数据集分割7:3\n",
    "x_train, x_test, y_train, y_test = train_test_split(x, y, test_size=0.3, random_state=100)\n",
    "x_train, y_train = renn.fit_resample(x_train, y_train)\n",
    "\n",
    "# 模型拟合\n",
    "lr.fit(x_train, y_train)\n",
    "\n",
    "# 模型预测\n",
    "y_pred_train = lr.predict(x_train)\n",
    "y_pred_test  = lr.predict(x_test)\n",
    "\n",
    "model_name.append('RENN')\n",
    "evaluation_print(y_train, y_pred_train, y_test, y_pred_test)"
   ]
  },
  {
   "cell_type": "markdown",
   "id": "through-friendly",
   "metadata": {},
   "source": [
    "AUC=0.61,舍弃"
   ]
  },
  {
   "cell_type": "markdown",
   "id": "spoken-screw",
   "metadata": {},
   "source": [
    "NearMiss下采样"
   ]
  },
  {
   "cell_type": "code",
   "execution_count": 313,
   "id": "hybrid-jenny",
   "metadata": {
    "scrolled": true
   },
   "outputs": [
    {
     "name": "stdout",
     "output_type": "stream",
     "text": [
      "训练集的分类报告：\n",
      "              precision    recall  f1-score   support\n",
      "\n",
      "           0       0.63      0.59      0.61      1987\n",
      "           1       0.61      0.65      0.63      1987\n",
      "\n",
      "    accuracy                           0.62      3974\n",
      "   macro avg       0.62      0.62      0.62      3974\n",
      "weighted avg       0.62      0.62      0.62      3974\n",
      "\n",
      "测试集的分类报告：\n",
      "              precision    recall  f1-score   support\n",
      "\n",
      "           0       0.93      0.60      0.73      6666\n",
      "           1       0.17      0.63      0.26       844\n",
      "\n",
      "    accuracy                           0.60      7510\n",
      "   macro avg       0.55      0.62      0.50      7510\n",
      "weighted avg       0.84      0.60      0.68      7510\n",
      "\n"
     ]
    },
    {
     "name": "stderr",
     "output_type": "stream",
     "text": [
      "C:\\Users\\GaoYi\\anaconda\\envs\\PDD\\lib\\site-packages\\matplotlib\\backends\\backend_agg.py:238: RuntimeWarning: Glyph 27979 missing from current font.\n",
      "  font.set_text(s, 0.0, flags=flags)\n",
      "C:\\Users\\GaoYi\\anaconda\\envs\\PDD\\lib\\site-packages\\matplotlib\\backends\\backend_agg.py:238: RuntimeWarning: Glyph 35797 missing from current font.\n",
      "  font.set_text(s, 0.0, flags=flags)\n",
      "C:\\Users\\GaoYi\\anaconda\\envs\\PDD\\lib\\site-packages\\matplotlib\\backends\\backend_agg.py:238: RuntimeWarning: Glyph 38598 missing from current font.\n",
      "  font.set_text(s, 0.0, flags=flags)\n",
      "C:\\Users\\GaoYi\\anaconda\\envs\\PDD\\lib\\site-packages\\matplotlib\\backends\\backend_agg.py:201: RuntimeWarning: Glyph 27979 missing from current font.\n",
      "  font.set_text(s, 0, flags=flags)\n",
      "C:\\Users\\GaoYi\\anaconda\\envs\\PDD\\lib\\site-packages\\matplotlib\\backends\\backend_agg.py:201: RuntimeWarning: Glyph 35797 missing from current font.\n",
      "  font.set_text(s, 0, flags=flags)\n",
      "C:\\Users\\GaoYi\\anaconda\\envs\\PDD\\lib\\site-packages\\matplotlib\\backends\\backend_agg.py:201: RuntimeWarning: Glyph 38598 missing from current font.\n",
      "  font.set_text(s, 0, flags=flags)\n"
     ]
    },
    {
     "data": {
      "image/png": "[encoded data removed]",
      "text/plain": [
       "<Figure size 432x288 with 1 Axes>"
      ]
     },
     "metadata": {
      "needs_background": "light"
     },
     "output_type": "display_data"
    },
    {
     "name": "stdout",
     "output_type": "stream",
     "text": [
      "train_acc\t test_acc\t precision\t recall\t\t f1-score\t AUC\n",
      "0.6198\t\t0.6033\t\t0.1669\t\t0.6339\t\t0.2643\t\t0.6167\n"
     ]
    }
   ],
   "source": [
    "from imblearn.under_sampling import NearMiss \n",
    "nm = NearMiss()\n",
    "\n",
    "\n",
    "# 数据集分割7:3\n",
    "x_train, x_test, y_train, y_test = train_test_split(x, y, test_size=0.3, random_state=100)\n",
    "x_train, y_train = nm.fit_resample(x_train, y_train)\n",
    "\n",
    "# 模型拟合\n",
    "lr.fit(x_train, y_train)\n",
    "\n",
    "# 模型预测\n",
    "y_pred_train = lr.predict(x_train)\n",
    "y_pred_test  = lr.predict(x_test)\n",
    "\n",
    "model_name.append('NearMiss')\n",
    "evaluation_print(y_train, y_pred_train, y_test, y_pred_test)"
   ]
  },
  {
   "cell_type": "markdown",
   "id": "perceived-mailing",
   "metadata": {},
   "source": [
    "AUC=0.62,舍弃"
   ]
  },
  {
   "cell_type": "markdown",
   "id": "italic-parking",
   "metadata": {},
   "source": [
    "SMOTEENN组合采样"
   ]
  },
  {
   "cell_type": "code",
   "execution_count": 314,
   "id": "breeding-example",
   "metadata": {
    "scrolled": true
   },
   "outputs": [
    {
     "name": "stdout",
     "output_type": "stream",
     "text": [
      "训练集的分类报告：\n",
      "              precision    recall  f1-score   support\n",
      "\n",
      "           0       1.00      1.00      1.00      8507\n",
      "           1       1.00      0.96      0.98       125\n",
      "\n",
      "    accuracy                           1.00      8632\n",
      "   macro avg       1.00      0.98      0.99      8632\n",
      "weighted avg       1.00      1.00      1.00      8632\n",
      "\n",
      "测试集的分类报告：\n",
      "              precision    recall  f1-score   support\n",
      "\n",
      "           0       0.89      1.00      0.94      6666\n",
      "           1       0.00      0.00      0.00       844\n",
      "\n",
      "    accuracy                           0.89      7510\n",
      "   macro avg       0.44      0.50      0.47      7510\n",
      "weighted avg       0.79      0.89      0.83      7510\n",
      "\n"
     ]
    },
    {
     "name": "stderr",
     "output_type": "stream",
     "text": [
      "C:\\Users\\GaoYi\\anaconda\\envs\\PDD\\lib\\site-packages\\sklearn\\metrics\\_classification.py:1245: UndefinedMetricWarning: Precision is ill-defined and being set to 0.0 due to no predicted samples. Use `zero_division` parameter to control this behavior.\n",
      "  _warn_prf(average, modifier, msg_start, len(result))\n",
      "C:\\Users\\GaoYi\\anaconda\\envs\\PDD\\lib\\site-packages\\sklearn\\metrics\\_classification.py:1245: UndefinedMetricWarning: Precision and F-score are ill-defined and being set to 0.0 in labels with no predicted samples. Use `zero_division` parameter to control this behavior.\n",
      "  _warn_prf(average, modifier, msg_start, len(result))\n",
      "C:\\Users\\GaoYi\\anaconda\\envs\\PDD\\lib\\site-packages\\sklearn\\metrics\\_classification.py:1245: UndefinedMetricWarning: Precision and F-score are ill-defined and being set to 0.0 in labels with no predicted samples. Use `zero_division` parameter to control this behavior.\n",
      "  _warn_prf(average, modifier, msg_start, len(result))\n",
      "C:\\Users\\GaoYi\\anaconda\\envs\\PDD\\lib\\site-packages\\sklearn\\metrics\\_classification.py:1245: UndefinedMetricWarning: Precision and F-score are ill-defined and being set to 0.0 in labels with no predicted samples. Use `zero_division` parameter to control this behavior.\n",
      "  _warn_prf(average, modifier, msg_start, len(result))\n",
      "C:\\Users\\GaoYi\\anaconda\\envs\\PDD\\lib\\site-packages\\matplotlib\\backends\\backend_agg.py:238: RuntimeWarning: Glyph 27979 missing from current font.\n",
      "  font.set_text(s, 0.0, flags=flags)\n",
      "C:\\Users\\GaoYi\\anaconda\\envs\\PDD\\lib\\site-packages\\matplotlib\\backends\\backend_agg.py:238: RuntimeWarning: Glyph 35797 missing from current font.\n",
      "  font.set_text(s, 0.0, flags=flags)\n",
      "C:\\Users\\GaoYi\\anaconda\\envs\\PDD\\lib\\site-packages\\matplotlib\\backends\\backend_agg.py:238: RuntimeWarning: Glyph 38598 missing from current font.\n",
      "  font.set_text(s, 0.0, flags=flags)\n",
      "C:\\Users\\GaoYi\\anaconda\\envs\\PDD\\lib\\site-packages\\matplotlib\\backends\\backend_agg.py:201: RuntimeWarning: Glyph 27979 missing from current font.\n",
      "  font.set_text(s, 0, flags=flags)\n",
      "C:\\Users\\GaoYi\\anaconda\\envs\\PDD\\lib\\site-packages\\matplotlib\\backends\\backend_agg.py:201: RuntimeWarning: Glyph 35797 missing from current font.\n",
      "  font.set_text(s, 0, flags=flags)\n",
      "C:\\Users\\GaoYi\\anaconda\\envs\\PDD\\lib\\site-packages\\matplotlib\\backends\\backend_agg.py:201: RuntimeWarning: Glyph 38598 missing from current font.\n",
      "  font.set_text(s, 0, flags=flags)\n"
     ]
    },
    {
     "data": {
      "image/png": "[encoded data removed]",
      "text/plain": [
       "<Figure size 432x288 with 1 Axes>"
      ]
     },
     "metadata": {
      "needs_background": "light"
     },
     "output_type": "display_data"
    },
    {
     "name": "stdout",
     "output_type": "stream",
     "text": [
      "train_acc\t test_acc\t precision\t recall\t\t f1-score\t AUC\n",
      "0.9994\t\t0.8876\t\t0.0000\t\t0.0000\t\t0.0000\t\t0.5000\n"
     ]
    }
   ],
   "source": [
    "from imblearn.combine import SMOTEENN\n",
    "smoteen = SMOTEENN(random_state=42)\n",
    "\n",
    "\n",
    "# 数据集分割7:3\n",
    "x_train, x_test, y_train, y_test = train_test_split(x, y, test_size=0.3, random_state=100)\n",
    "x_train, y_train = smoteen.fit_resample(x_train, y_train)\n",
    "\n",
    "# 模型拟合\n",
    "lr.fit(x_train, y_train)\n",
    "\n",
    "# 模型预测\n",
    "y_pred_train = lr.predict(x_train)\n",
    "y_pred_test  = lr.predict(x_test)\n",
    "\n",
    "model_name.append('SMOTEENN')\n",
    "evaluation_print(y_train, y_pred_train, y_test, y_pred_test)"
   ]
  },
  {
   "cell_type": "markdown",
   "id": "powerful-lover",
   "metadata": {},
   "source": [
    "AUC=0.50,舍弃"
   ]
  },
  {
   "cell_type": "markdown",
   "id": "miniature-request",
   "metadata": {},
   "source": [
    "SMOTETomek组合采样"
   ]
  },
  {
   "cell_type": "code",
   "execution_count": 315,
   "id": "breeding-increase",
   "metadata": {
    "scrolled": true
   },
   "outputs": [
    {
     "name": "stdout",
     "output_type": "stream",
     "text": [
      "训练集的分类报告：\n",
      "              precision    recall  f1-score   support\n",
      "\n",
      "           0       0.57      0.64      0.61     15536\n",
      "           1       0.59      0.52      0.55     15536\n",
      "\n",
      "    accuracy                           0.58     31072\n",
      "   macro avg       0.58      0.58      0.58     31072\n",
      "weighted avg       0.58      0.58      0.58     31072\n",
      "\n",
      "测试集的分类报告：\n",
      "              precision    recall  f1-score   support\n",
      "\n",
      "           0       0.91      0.64      0.75      6666\n",
      "           1       0.15      0.50      0.23       844\n",
      "\n",
      "    accuracy                           0.63      7510\n",
      "   macro avg       0.53      0.57      0.49      7510\n",
      "weighted avg       0.83      0.63      0.70      7510\n",
      "\n"
     ]
    },
    {
     "name": "stderr",
     "output_type": "stream",
     "text": [
      "C:\\Users\\GaoYi\\anaconda\\envs\\PDD\\lib\\site-packages\\matplotlib\\backends\\backend_agg.py:238: RuntimeWarning: Glyph 27979 missing from current font.\n",
      "  font.set_text(s, 0.0, flags=flags)\n",
      "C:\\Users\\GaoYi\\anaconda\\envs\\PDD\\lib\\site-packages\\matplotlib\\backends\\backend_agg.py:238: RuntimeWarning: Glyph 35797 missing from current font.\n",
      "  font.set_text(s, 0.0, flags=flags)\n",
      "C:\\Users\\GaoYi\\anaconda\\envs\\PDD\\lib\\site-packages\\matplotlib\\backends\\backend_agg.py:238: RuntimeWarning: Glyph 38598 missing from current font.\n",
      "  font.set_text(s, 0.0, flags=flags)\n",
      "C:\\Users\\GaoYi\\anaconda\\envs\\PDD\\lib\\site-packages\\matplotlib\\backends\\backend_agg.py:201: RuntimeWarning: Glyph 27979 missing from current font.\n",
      "  font.set_text(s, 0, flags=flags)\n",
      "C:\\Users\\GaoYi\\anaconda\\envs\\PDD\\lib\\site-packages\\matplotlib\\backends\\backend_agg.py:201: RuntimeWarning: Glyph 35797 missing from current font.\n",
      "  font.set_text(s, 0, flags=flags)\n",
      "C:\\Users\\GaoYi\\anaconda\\envs\\PDD\\lib\\site-packages\\matplotlib\\backends\\backend_agg.py:201: RuntimeWarning: Glyph 38598 missing from current font.\n",
      "  font.set_text(s, 0, flags=flags)\n"
     ]
    },
    {
     "data": {
      "image/png": "[encoded data removed]",
      "text/plain": [
       "<Figure size 432x288 with 1 Axes>"
      ]
     },
     "metadata": {
      "needs_background": "light"
     },
     "output_type": "display_data"
    },
    {
     "name": "stdout",
     "output_type": "stream",
     "text": [
      "train_acc\t test_acc\t precision\t recall\t\t f1-score\t AUC\n",
      "0.5809\t\t0.6274\t\t0.1518\t\t0.5047\t\t0.2334\t\t0.5739\n"
     ]
    }
   ],
   "source": [
    "from imblearn.combine import SMOTETomek\n",
    "smotet = SMOTETomek(random_state=42)\n",
    "\n",
    "\n",
    "# 数据集分割7:3\n",
    "x_train, x_test, y_train, y_test = train_test_split(x, y, test_size=0.3, random_state=100)\n",
    "x_train, y_train = smotet.fit_resample(x_train, y_train)\n",
    "\n",
    "# 模型拟合\n",
    "lr.fit(x_train, y_train)\n",
    "\n",
    "# 模型预测\n",
    "y_pred_train = lr.predict(x_train)\n",
    "y_pred_test  = lr.predict(x_test)\n",
    "\n",
    "model_name.append('SMOTETomek')\n",
    "evaluation_print(y_train, y_pred_train, y_test, y_pred_test)"
   ]
  },
  {
   "cell_type": "markdown",
   "id": "enclosed-brooklyn",
   "metadata": {},
   "source": [
    "AUC=0.56,舍弃"
   ]
  },
  {
   "cell_type": "markdown",
   "id": "bibliographic-accounting",
   "metadata": {},
   "source": [
    "最终模型"
   ]
  },
  {
   "cell_type": "code",
   "execution_count": 316,
   "id": "variable-anaheim",
   "metadata": {},
   "outputs": [
    {
     "data": {
      "text/plain": [
       "12"
      ]
     },
     "execution_count": 316,
     "metadata": {},
     "output_type": "execute_result"
    }
   ],
   "source": [
    "len(test_accs)"
   ]
  },
  {
   "cell_type": "code",
   "execution_count": 317,
   "id": "professional-snapshot",
   "metadata": {},
   "outputs": [
    {
     "data": {
      "text/html": [
       "<div>\n",
       "<style scoped>\n",
       "    .dataframe tbody tr th:only-of-type {\n",
       "        vertical-align: middle;\n",
       "    }\n",
       "\n",
       "    .dataframe tbody tr th {\n",
       "        vertical-align: top;\n",
       "    }\n",
       "\n",
       "    .dataframe thead th {\n",
       "        text-align: right;\n",
       "    }\n",
       "</style>\n",
       "<table border=\"1\" class=\"dataframe\">\n",
       "  <thead>\n",
       "    <tr style=\"text-align: right;\">\n",
       "      <th></th>\n",
       "      <th>method</th>\n",
       "      <th>train_acc</th>\n",
       "      <th>test_acc</th>\n",
       "      <th>precision</th>\n",
       "      <th>recall</th>\n",
       "      <th>f1_score</th>\n",
       "      <th>AUC</th>\n",
       "    </tr>\n",
       "  </thead>\n",
       "  <tbody>\n",
       "    <tr>\n",
       "      <th>0</th>\n",
       "      <td>AddVariable</td>\n",
       "      <td>0.886549</td>\n",
       "      <td>0.887217</td>\n",
       "      <td>0.200000</td>\n",
       "      <td>0.001185</td>\n",
       "      <td>0.002356</td>\n",
       "      <td>0.500292</td>\n",
       "    </tr>\n",
       "    <tr>\n",
       "      <th>1</th>\n",
       "      <td>AddVariable</td>\n",
       "      <td>0.885978</td>\n",
       "      <td>0.887084</td>\n",
       "      <td>0.433333</td>\n",
       "      <td>0.015403</td>\n",
       "      <td>0.029748</td>\n",
       "      <td>0.506426</td>\n",
       "    </tr>\n",
       "    <tr>\n",
       "      <th>2</th>\n",
       "      <td>Balanced</td>\n",
       "      <td>0.604006</td>\n",
       "      <td>0.608389</td>\n",
       "      <td>0.168511</td>\n",
       "      <td>0.631517</td>\n",
       "      <td>0.266034</td>\n",
       "      <td>0.618489</td>\n",
       "    </tr>\n",
       "    <tr>\n",
       "      <th>3</th>\n",
       "      <td>RandomUnderSampler</td>\n",
       "      <td>0.624560</td>\n",
       "      <td>0.608389</td>\n",
       "      <td>0.168511</td>\n",
       "      <td>0.631517</td>\n",
       "      <td>0.266034</td>\n",
       "      <td>0.618489</td>\n",
       "    </tr>\n",
       "    <tr>\n",
       "      <th>4</th>\n",
       "      <td>RandomOverSampler</td>\n",
       "      <td>0.622683</td>\n",
       "      <td>0.608389</td>\n",
       "      <td>0.168511</td>\n",
       "      <td>0.631517</td>\n",
       "      <td>0.266034</td>\n",
       "      <td>0.618489</td>\n",
       "    </tr>\n",
       "    <tr>\n",
       "      <th>5</th>\n",
       "      <td>SMOTE</td>\n",
       "      <td>0.580941</td>\n",
       "      <td>0.627430</td>\n",
       "      <td>0.151818</td>\n",
       "      <td>0.504739</td>\n",
       "      <td>0.233425</td>\n",
       "      <td>0.573852</td>\n",
       "    </tr>\n",
       "    <tr>\n",
       "      <th>6</th>\n",
       "      <td>ADASYN</td>\n",
       "      <td>0.555073</td>\n",
       "      <td>0.611052</td>\n",
       "      <td>0.147847</td>\n",
       "      <td>0.516588</td>\n",
       "      <td>0.229897</td>\n",
       "      <td>0.569800</td>\n",
       "    </tr>\n",
       "    <tr>\n",
       "      <th>7</th>\n",
       "      <td>BorderlineSMOTE</td>\n",
       "      <td>0.621492</td>\n",
       "      <td>0.627430</td>\n",
       "      <td>0.151818</td>\n",
       "      <td>0.504739</td>\n",
       "      <td>0.233425</td>\n",
       "      <td>0.573852</td>\n",
       "    </tr>\n",
       "    <tr>\n",
       "      <th>8</th>\n",
       "      <td>RENN</td>\n",
       "      <td>0.921271</td>\n",
       "      <td>0.645806</td>\n",
       "      <td>0.174552</td>\n",
       "      <td>0.577014</td>\n",
       "      <td>0.268024</td>\n",
       "      <td>0.615765</td>\n",
       "    </tr>\n",
       "    <tr>\n",
       "      <th>9</th>\n",
       "      <td>NearMiss</td>\n",
       "      <td>0.619779</td>\n",
       "      <td>0.603329</td>\n",
       "      <td>0.166927</td>\n",
       "      <td>0.633886</td>\n",
       "      <td>0.264263</td>\n",
       "      <td>0.616673</td>\n",
       "    </tr>\n",
       "    <tr>\n",
       "      <th>10</th>\n",
       "      <td>SMOTEENN</td>\n",
       "      <td>0.999421</td>\n",
       "      <td>0.887617</td>\n",
       "      <td>0.000000</td>\n",
       "      <td>0.000000</td>\n",
       "      <td>0.000000</td>\n",
       "      <td>0.500000</td>\n",
       "    </tr>\n",
       "    <tr>\n",
       "      <th>11</th>\n",
       "      <td>SMOTETomek</td>\n",
       "      <td>0.580941</td>\n",
       "      <td>0.627430</td>\n",
       "      <td>0.151818</td>\n",
       "      <td>0.504739</td>\n",
       "      <td>0.233425</td>\n",
       "      <td>0.573852</td>\n",
       "    </tr>\n",
       "  </tbody>\n",
       "</table>\n",
       "</div>"
      ],
      "text/plain": [
       "                method  train_acc  test_acc  precision    recall  f1_score  \\\n",
       "0          AddVariable   0.886549  0.887217   0.200000  0.001185  0.002356   \n",
       "1          AddVariable   0.885978  0.887084   0.433333  0.015403  0.029748   \n",
       "2             Balanced   0.604006  0.608389   0.168511  0.631517  0.266034   \n",
       "3   RandomUnderSampler   0.624560  0.608389   0.168511  0.631517  0.266034   \n",
       "4    RandomOverSampler   0.622683  0.608389   0.168511  0.631517  0.266034   \n",
       "5                SMOTE   0.580941  0.627430   0.151818  0.504739  0.233425   \n",
       "6               ADASYN   0.555073  0.611052   0.147847  0.516588  0.229897   \n",
       "7      BorderlineSMOTE   0.621492  0.627430   0.151818  0.504739  0.233425   \n",
       "8                 RENN   0.921271  0.645806   0.174552  0.577014  0.268024   \n",
       "9             NearMiss   0.619779  0.603329   0.166927  0.633886  0.264263   \n",
       "10            SMOTEENN   0.999421  0.887617   0.000000  0.000000  0.000000   \n",
       "11          SMOTETomek   0.580941  0.627430   0.151818  0.504739  0.233425   \n",
       "\n",
       "         AUC  \n",
       "0   0.500292  \n",
       "1   0.506426  \n",
       "2   0.618489  \n",
       "3   0.618489  \n",
       "4   0.618489  \n",
       "5   0.573852  \n",
       "6   0.569800  \n",
       "7   0.573852  \n",
       "8   0.615765  \n",
       "9   0.616673  \n",
       "10  0.500000  \n",
       "11  0.573852  "
      ]
     },
     "execution_count": 317,
     "metadata": {},
     "output_type": "execute_result"
    }
   ],
   "source": [
    "models_evaluation = pd.DataFrame({'method':model_name, 'train_acc':train_accs, 'test_acc':test_accs, 'precision':precisions,  'recall': recalls, 'f1_score':f1_scores, 'AUC':AUCs})\n",
    "models_evaluation"
   ]
  },
  {
   "cell_type": "code",
   "execution_count": 318,
   "id": "modern-silly",
   "metadata": {
    "scrolled": true
   },
   "outputs": [
    {
     "data": {
      "text/plain": [
       "Text(0.5, 6.800000000000011, 'method')"
      ]
     },
     "execution_count": 318,
     "metadata": {},
     "output_type": "execute_result"
    },
    {
     "data": {
      "image/png": "[encoded data removed]",
      "text/plain": [
       "<Figure size 1296x720 with 6 Axes>"
      ]
     },
     "metadata": {
      "needs_background": "light"
     },
     "output_type": "display_data"
    }
   ],
   "source": [
    "plt.figure(figsize=(18, 10))\n",
    "colors = ['r','g', 'b', 'orange', 'purple', 'black']\n",
    "cols = models_evaluation.columns.values\n",
    "for i in range(6):\n",
    "    plt.subplot(2, 3, i+1)\n",
    "    plt.plot(models_evaluation[cols[0]], models_evaluation[cols[i+1]], colors[i])\n",
    "    plt.tick_params(labelsize=14)\n",
    "    plt.ylabel(cols[i+1], size=14)\n",
    "    plt.xticks(rotation=90)\n",
    "    plt.tight_layout(h_pad=1)\n",
    "plt.xlabel(cols[0], size=14)"
   ]
  },
  {
   "cell_type": "markdown",
   "id": "activated-astronomy",
   "metadata": {},
   "source": [
    "经过上面多种改善数据不平衡方法的尝试，大部分方法都对原模型在精确率、召回率、f1-score有了不同程度的提升\n",
    "综合下来，选择各方面都较出色的更改损失函数的类别权重的方法"
   ]
  },
  {
   "cell_type": "code",
   "execution_count": 319,
   "id": "awful-evolution",
   "metadata": {},
   "outputs": [
    {
     "data": {
      "text/plain": [
       "LogisticRegression(class_weight='balanced', random_state=7)"
      ]
     },
     "execution_count": 319,
     "metadata": {},
     "output_type": "execute_result"
    }
   ],
   "source": [
    "lr = linear_model.LogisticRegression(random_state=7, class_weight='balanced')  \n",
    "# 数据集分割7:3\n",
    "x_train, x_test, y_train, y_test = train_test_split(x, y, test_size=0.3, random_state=100)\n",
    "\n",
    "# 模型拟合\n",
    "lr.fit(x_train, y_train)"
   ]
  },
  {
   "cell_type": "code",
   "execution_count": 320,
   "id": "trying-drama",
   "metadata": {},
   "outputs": [
    {
     "name": "stdout",
     "output_type": "stream",
     "text": [
      "job_clean_low的系数：0.3023\t概率比值：1.3530\n",
      "c1_2的系数：0.9412\t概率比值：2.5630\n",
      "age_clean_>65的系数：1.1283\t概率比值：3.0903\n",
      "marital_single的系数：0.2777\t概率比值：1.3201\n",
      "marital_married的系数：-0.1728\t概率比值：0.8413\n",
      "loan_yes的系数：-0.5411\t概率比值：0.5821\n",
      "returned_yes的系数：-0.7694\t概率比值：0.4633\n"
     ]
    }
   ],
   "source": [
    "# 输出模型拟合后各个变量的系数和概率比值\n",
    "for var_name, coef, rate in zip(var, lr.coef_[0], np.exp(lr.coef_[0])):\n",
    "    print('{}的系数：{:.4f}\\t概率比值：{:.4f}'.format(var_name, coef, rate))"
   ]
  },
  {
   "cell_type": "markdown",
   "id": "pleased-wisconsin",
   "metadata": {},
   "source": [
    "c1_2的系数解读：\n",
    "在前一个月使用了2次优惠券的用户在本次活动中使用优惠券的概率是其他用户2.56倍。\n",
    "同理：\n",
    "低收入用户使用优惠券的概率是其他用户的1.35倍；\n",
    "年龄大于65岁的用户使用优惠券的概率是其他用户的3.09倍；\n",
    "单身用户使用优惠券概率是其他用户的1.3倍；\n",
    "已婚用户使用优惠券的概率是其他用户的0.83倍；\n",
    "使用信用卡付款的用户使用优惠券的概率是不使用信用卡用户的0.6倍；\n",
    "有退货行为的用户使用优惠券的概率是没有过退货行为用户的0.5倍。"
   ]
  },
  {
   "cell_type": "markdown",
   "id": "medical-visibility",
   "metadata": {},
   "source": [
    "  ### 模型解读"
   ]
  },
  {
   "cell_type": "markdown",
   "id": "temporal-bangladesh",
   "metadata": {},
   "source": [
    "（1）使用拼多多APP的用户年龄主要在在20-70之间；\n",
    "小于35岁和大于60岁的用户更倾向于使用优惠券；\n",
    "而在35~60岁间的用户更倾向于不使用优惠券；\n",
    "小于35岁的用户更倾向于使用优惠券的原因是比较好理解的，因为年轻用户对APP的使用更为熟悉，更容易掌握优惠券的用法，而大于60岁的用户由于数量比较少，是否能直接得出他们更倾向于使用优惠券这一结论是不太靠谱的；\n",
    "而35岁到60岁之间的用户随着年龄增长用户量也随之减少，不倾向于使用优惠券的原因可能是不清楚APP推出的优惠券活动，或者是因为经济能力比较好而无需费心使用优惠券。\n",
    "（2）用户过去6个月优惠券使用数量大部分是0-10次；\n",
    "用户过去1个月优惠券使用数量大部分少于2次。\n",
    "（3）在所有职业中，蓝领用户最多，其次是管理人员, 技术人员, 行政人员, 服务行业人员；\n",
    "使用了优惠券的用户中，管理人员最多，其次是技术人员, 蓝领用户, 行政人员, 服务行业人员；\n",
    "但是在各个职业群体中，优惠券使用率最高的是学生、退休人员、无业、管理人员、行政人员。\n",
    "（4）在所有用户中，已婚用户数量最多；\n",
    "单身用户的优惠券使用率最高（14.6%）。\n",
    "（5）只有少数用户信用卡违约；\n",
    "没有信用卡违约的用户的优惠券使用率为11.4%。\n",
    "（6）退货的用户较多；\n",
    "未退货的用户使用优惠券使用率（16.1%）比退货的用户（7.5%）要高。\n",
    "（7）大部分用户不使用信用卡付款；\n",
    "不使用信用卡付款的用户的优惠券使用率（12.2%）比使用信用卡付款（6.9%）的高。\n",
    "（8）在前一个月使用了2次优惠券的用户在本次活动中使用优惠券的概率是其他用户2.56倍；\n",
    "低收入用户使用优惠券的概率是其他用户的1.35倍；\n",
    "年龄大于65岁的用户使用优惠券的概率是其他用户的3.09倍；\n",
    "单身用户使用优惠券概率是其他用户的1.3倍；\n",
    "已婚用户使用优惠券的概率是其他用户的0.83倍；\n",
    "使用信用卡付款的用户使用优惠券的概率是不使用信用卡用户的0.6倍；\n",
    "有退货行为的用户使用优惠券的概率是没有过退货行为用户的0.5倍。"
   ]
  },
  {
   "cell_type": "markdown",
   "id": "hispanic-president",
   "metadata": {},
   "source": [
    "# 业务建议"
   ]
  },
  {
   "cell_type": "markdown",
   "id": "korean-currency",
   "metadata": {},
   "source": [
    "（1）持续关注年轻人（小于35岁）和老年人（大于60岁）用户的使用优惠券情况，保持这部分群体的优惠券使用率；\n",
    "（2）低收入群体，包括学生、老人、无业人员往往更倾向于使用优惠券，可以向这部分人投放更多优惠券；\n",
    "（3）老年人、单身用户、不使用信用卡付款、没有过退货行为的用户比他们相反群体的用户的优惠券使用概率要高，可以向这部分人投放更多优惠券；\n",
    "（4）中低收入群体是APP的主要使用群体，要想办法提高他们的优惠券使用率。"
   ]
  },
  {
   "cell_type": "markdown",
   "id": "accurate-bridge",
   "metadata": {},
   "source": [
    "# 项目总结"
   ]
  },
  {
   "cell_type": "markdown",
   "id": "bibliographic-client",
   "metadata": {},
   "source": [
    "这个项目让我体验到了从数据清洗-->数据探索-->建模预测-->模型优化-->得出业务结论的完整流程，受益匪浅。其中让我感触最深的是数据探索和模型优化这两个环节，如何从各个变量中发掘他们之间的关系，使用哪种可视化图表展示这种关系，这都是一个需要大量练习才能熟练掌握的过程，而模型优化则涉及到机器学习领域甚至是更高深的数学知识，这也促使我去了解各种机器学习模型的应用场景，以及更新的模型方法。但这次项目也有不足的地方，比如业务建议这一块，由于我对业务这块了解不多，因此给出的建议可能会比较笼统而不具体，今后还要在这方面多多积累。\n"
   ]
  },
  {
   "cell_type": "code",
   "execution_count": null,
   "id": "prerequisite-shareware",
   "metadata": {},
   "outputs": [],
   "source": []
  }
 ],
 "metadata": {
  "kernelspec": {
   "display_name": "Python 3",
   "language": "python",
   "name": "python3"
  },
  "language_info": {
   "codemirror_mode": {
    "name": "ipython",
    "version": 3
   },
   "file_extension": ".py",
   "mimetype": "text/x-python",
   "name": "python",
   "nbconvert_exporter": "python",
   "pygments_lexer": "ipython3",
   "version": "3.8.8"
  }
 },
 "nbformat": 4,
 "nbformat_minor": 5
}
